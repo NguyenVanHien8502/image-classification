{
  "nbformat": 4,
  "nbformat_minor": 0,
  "metadata": {
    "colab": {
      "provenance": [],
      "gpuType": "T4",
      "authorship_tag": "ABX9TyMQbbUz3/OMcLUcS5r5YHWD",
      "include_colab_link": true
    },
    "kernelspec": {
      "name": "python3",
      "display_name": "Python 3"
    },
    "language_info": {
      "name": "python"
    },
    "accelerator": "GPU"
  },
  "cells": [
    {
      "cell_type": "markdown",
      "metadata": {
        "id": "view-in-github",
        "colab_type": "text"
      },
      "source": [
        "<a href=\"https://colab.research.google.com/github/NguyenVanHien8502/image-classification/blob/main/MNIST_PJ3.ipynb\" target=\"_parent\"><img src=\"https://colab.research.google.com/assets/colab-badge.svg\" alt=\"Open In Colab\"/></a>"
      ]
    },
    {
      "cell_type": "markdown",
      "source": [
        "#Mount google drive"
      ],
      "metadata": {
        "id": "CWK2xUsO29KS"
      }
    },
    {
      "cell_type": "code",
      "source": [
        "from google.colab import drive\n",
        "drive.mount(\"/content/drive/\")"
      ],
      "metadata": {
        "id": "6HzFPKTHyaqr",
        "colab": {
          "base_uri": "https://localhost:8080/"
        },
        "outputId": "5d6e1d8e-df2e-4917-80e8-ad25c9bc2218"
      },
      "execution_count": null,
      "outputs": [
        {
          "output_type": "stream",
          "name": "stdout",
          "text": [
            "Mounted at /content/drive/\n"
          ]
        }
      ]
    },
    {
      "cell_type": "markdown",
      "source": [
        "# Import libraries"
      ],
      "metadata": {
        "id": "exRFQDSVO-Wr"
      }
    },
    {
      "cell_type": "code",
      "source": [
        "import matplotlib.pyplot as plt\n",
        "import numpy as np\n",
        "import random\n",
        "import struct\n",
        "import gzip\n",
        "\n",
        "import tensorflow as tf\n",
        "from tensorflow import keras\n",
        "from keras.api._v2.keras import layers\n"
      ],
      "metadata": {
        "id": "1Q2MZkEQI98T"
      },
      "execution_count": null,
      "outputs": []
    },
    {
      "cell_type": "markdown",
      "source": [
        "#1. Load Data from file .gz"
      ],
      "metadata": {
        "id": "s1ez2hxyIfeC"
      }
    },
    {
      "cell_type": "code",
      "source": [
        "#Load image train\n",
        "filename = '/content/drive/MyDrive/Colab_Notebooks/train-images-idx3-ubyte.gz'\n",
        "\n",
        "with gzip.open(filename, 'rb') as f:\n",
        "    magic, size = struct.unpack(\">II\", f.read(8))\n",
        "    nrows, ncols = struct.unpack(\">II\", f.read(8))\n",
        "    X_train = np.frombuffer(f.read(), dtype=np.uint8)\n",
        "    X_train = X_train.reshape(size, nrows, ncols)"
      ],
      "metadata": {
        "id": "BgDoq6AvIbnO"
      },
      "execution_count": null,
      "outputs": []
    },
    {
      "cell_type": "code",
      "source": [
        "#Load label train\n",
        "filename = '/content/drive/MyDrive/Colab_Notebooks/train-labels-idx1-ubyte.gz'\n",
        "\n",
        "with gzip.open(filename, 'rb') as f:\n",
        "    magic, size = struct.unpack(\">II\", f.read(8))\n",
        "    y_train = np.frombuffer(f.read(), dtype=np.uint8)\n",
        "    y_train = y_train.reshape((size,))"
      ],
      "metadata": {
        "id": "wa4sHHQtJU_3"
      },
      "execution_count": null,
      "outputs": []
    },
    {
      "cell_type": "code",
      "source": [
        "#Load image test\n",
        "filename = '/content/drive/MyDrive/Colab_Notebooks/t10k-images-idx3-ubyte.gz'\n",
        "\n",
        "with gzip.open(filename, 'rb') as f:\n",
        "    magic, size = struct.unpack(\">II\", f.read(8))\n",
        "    nrows, ncols = struct.unpack(\">II\", f.read(8))\n",
        "    X_test = np.frombuffer(f.read(), dtype=np.uint8)\n",
        "    X_test = X_test.reshape(size, nrows, ncols)"
      ],
      "metadata": {
        "id": "NH1x6DE5OduG"
      },
      "execution_count": null,
      "outputs": []
    },
    {
      "cell_type": "code",
      "source": [
        "#Load label test\n",
        "filename = '/content/drive/MyDrive/Colab_Notebooks/t10k-labels-idx1-ubyte.gz'\n",
        "\n",
        "with gzip.open(filename, 'rb') as f:\n",
        "    magic, size = struct.unpack(\">II\", f.read(8))\n",
        "    y_test = np.frombuffer(f.read(), dtype=np.uint8)\n",
        "    y_test = y_test.reshape((size,))"
      ],
      "metadata": {
        "id": "HzEn1F0bOguL"
      },
      "execution_count": null,
      "outputs": []
    },
    {
      "cell_type": "markdown",
      "source": [
        "#2. Check data"
      ],
      "metadata": {
        "id": "mBQiPaPTO2pz"
      }
    },
    {
      "cell_type": "code",
      "source": [
        "X_train.shape, y_train.shape"
      ],
      "metadata": {
        "colab": {
          "base_uri": "https://localhost:8080/"
        },
        "id": "uSZDwjDrKirT",
        "outputId": "7923ba0f-b740-4449-f88f-57518f79b626"
      },
      "execution_count": null,
      "outputs": [
        {
          "output_type": "execute_result",
          "data": {
            "text/plain": [
              "((60000, 28, 28), (60000,))"
            ]
          },
          "metadata": {},
          "execution_count": 7
        }
      ]
    },
    {
      "cell_type": "code",
      "source": [
        "type(X_train), type(y_train)"
      ],
      "metadata": {
        "colab": {
          "base_uri": "https://localhost:8080/"
        },
        "id": "gsYdr5lvLfR9",
        "outputId": "fbbb8362-7ce5-4455-a115-8a150ab23f2c"
      },
      "execution_count": null,
      "outputs": [
        {
          "output_type": "execute_result",
          "data": {
            "text/plain": [
              "(numpy.ndarray, numpy.ndarray)"
            ]
          },
          "metadata": {},
          "execution_count": 8
        }
      ]
    },
    {
      "cell_type": "code",
      "source": [
        "X_train.dtype, y_train.dtype"
      ],
      "metadata": {
        "colab": {
          "base_uri": "https://localhost:8080/"
        },
        "id": "sWpDfup9MDn5",
        "outputId": "4e9464e8-ab3e-404a-8c6c-5ac99e905f81"
      },
      "execution_count": null,
      "outputs": [
        {
          "output_type": "execute_result",
          "data": {
            "text/plain": [
              "(dtype('uint8'), dtype('uint8'))"
            ]
          },
          "metadata": {},
          "execution_count": 9
        }
      ]
    },
    {
      "cell_type": "code",
      "source": [
        "class_names = [\"Number 0\", \"Number 1\", \"Number 2\", \"Number 3\", \"Number 4\", \"Number 5\", \"Number 6\", \"Number 7\", \"Number 8\", \"Number 9\"]\n",
        "class_nums = len(class_names)"
      ],
      "metadata": {
        "id": "LEhTDHHAPQEb"
      },
      "execution_count": null,
      "outputs": []
    },
    {
      "cell_type": "code",
      "source": [
        "plt.imshow(X_train[0,:,:], cmap='gray')\n",
        "plt.xticks([])\n",
        "plt.yticks([])\n",
        "plt.show()\n",
        "print(f\"Label: {class_names[y_train[0]]}\")"
      ],
      "metadata": {
        "colab": {
          "base_uri": "https://localhost:8080/",
          "height": 423
        },
        "id": "rg_hSPmLJesd",
        "outputId": "65a7d412-8cd6-473c-863b-1ed3077c7750"
      },
      "execution_count": null,
      "outputs": [
        {
          "output_type": "display_data",
          "data": {
            "text/plain": [
              "<Figure size 640x480 with 1 Axes>"
            ],
            "image/png": "[encoded data removed]"
          },
          "metadata": {}
        },
        {
          "output_type": "stream",
          "name": "stdout",
          "text": [
            "Label: Number 5\n"
          ]
        }
      ]
    },
    {
      "cell_type": "code",
      "source": [
        "from typing import Optional\n",
        "def plot_data(x_data: np.ndarray, y_data:np.ndarray, y_proba: Optional[np.ndarray] = None)->None:\n",
        "  nrows, ncols=2, 4\n",
        "  fig, axes = plt.subplots(nrows, ncols, figsize=(10,6))\n",
        "\n",
        "  len_x = x_data.shape[0]\n",
        "  for idx in range(nrows*ncols):\n",
        "    ax = axes[idx // ncols, idx % ncols]\n",
        "    img_idx = random.randint(0, len_x)\n",
        "    ax.imshow(x_data[img_idx], cmap='gray')\n",
        "    ax.set(xticks=[], yticks=[])\n",
        "    color = 'green'\n",
        "\n",
        "    true_label_str = f\"True: {class_names[y_data[img_idx]]}\"\n",
        "\n",
        "    if y_proba is not None:\n",
        "      predicted_idx = np.argmax(y_proba[img_idx])\n",
        "      predicted_label = class_names[predicted_idx]\n",
        "      color = 'red' if predicted_idx != y_data[img_idx] else color\n",
        "      predicted_label_str = f\"\\nPredicted: {predicted_label}\"\n",
        "\n",
        "    img_title = true_label_str if y_proba is None else true_label_str + predicted_label_str\n",
        "    ax.set_xlabel(img_title, color=color, fontsize=12)\n",
        "\n",
        "  plt.tight_layout()\n",
        "  plt.show()"
      ],
      "metadata": {
        "id": "tOGmgKhYIfHk"
      },
      "execution_count": null,
      "outputs": []
    },
    {
      "cell_type": "code",
      "source": [
        "plot_data(X_train, y_train)"
      ],
      "metadata": {
        "id": "SobNfrUh-O_5",
        "colab": {
          "base_uri": "https://localhost:8080/",
          "height": 573
        },
        "outputId": "4bd10b4d-d9b9-4332-9683-ffef69744e9b"
      },
      "execution_count": null,
      "outputs": [
        {
          "output_type": "display_data",
          "data": {
            "text/plain": [
              "<Figure size 1000x600 with 8 Axes>"
            ],
            "image/png": "[encoded data removed]"
          },
          "metadata": {}
        }
      ]
    },
    {
      "cell_type": "code",
      "source": [
        "plot_data(X_test, y_test)"
      ],
      "metadata": {
        "id": "-D_VUpiJ-QyS",
        "colab": {
          "base_uri": "https://localhost:8080/",
          "height": 573
        },
        "outputId": "188fe478-a143-4576-c626-625ab6aad581"
      },
      "execution_count": null,
      "outputs": [
        {
          "output_type": "display_data",
          "data": {
            "text/plain": [
              "<Figure size 1000x600 with 8 Axes>"
            ],
            "image/png": "[encoded data removed]"
          },
          "metadata": {}
        }
      ]
    },
    {
      "cell_type": "markdown",
      "source": [
        "#3. Image Pre-processing"
      ],
      "metadata": {
        "id": "TtgvQznD-hil"
      }
    },
    {
      "cell_type": "code",
      "source": [
        "# Convert to float32 (tăng tốc quá trình tính toán) & scale images to the [0,1] range for training (giúp mô hình học tốt hơn)\n",
        "# => cải thiện hiệu suất và tính ổn định của mô hình\n",
        "X_train=X_train.astype(np.float32) / 255\n",
        "X_test=X_test.astype(np.float32) / 255"
      ],
      "metadata": {
        "id": "6i-oVUbx-l9_"
      },
      "execution_count": null,
      "outputs": []
    },
    {
      "cell_type": "code",
      "source": [
        "X_train.shape, X_train.dtype"
      ],
      "metadata": {
        "colab": {
          "base_uri": "https://localhost:8080/"
        },
        "id": "T7HoiyBH_bho",
        "outputId": "e7650a9e-3882-4c11-efe9-ad611f1de6ba"
      },
      "execution_count": null,
      "outputs": [
        {
          "output_type": "execute_result",
          "data": {
            "text/plain": [
              "((60000, 28, 28), dtype('float32'))"
            ]
          },
          "metadata": {},
          "execution_count": 16
        }
      ]
    },
    {
      "cell_type": "code",
      "source": [
        "X_test.shape, X_test.dtype"
      ],
      "metadata": {
        "colab": {
          "base_uri": "https://localhost:8080/"
        },
        "id": "BRxyPFkg_2qP",
        "outputId": "fd8bbefb-b923-4d6f-ce5d-7f322200ffeb"
      },
      "execution_count": null,
      "outputs": [
        {
          "output_type": "execute_result",
          "data": {
            "text/plain": [
              "((10000, 28, 28), dtype('float32'))"
            ]
          },
          "metadata": {},
          "execution_count": 17
        }
      ]
    },
    {
      "cell_type": "code",
      "source": [
        "#Make sure images have shape (60000, 28, 28) => (60000, 28, 28, 1) (do dữ liệu của tensorflow thì có 4 thuộc tính: samples, height, width, channels)\n",
        "X_train = np.expand_dims(X_train, axis=-1)\n",
        "X_test = np.expand_dims(X_test, axis=-1)"
      ],
      "metadata": {
        "id": "-4MGSkKAA9aG"
      },
      "execution_count": null,
      "outputs": []
    },
    {
      "cell_type": "code",
      "source": [
        "X_train.shape, X_train.dtype"
      ],
      "metadata": {
        "colab": {
          "base_uri": "https://localhost:8080/"
        },
        "id": "KEDAm3IABWNp",
        "outputId": "63e67eec-e08c-46ee-da72-6e9c44cf4c25"
      },
      "execution_count": null,
      "outputs": [
        {
          "output_type": "execute_result",
          "data": {
            "text/plain": [
              "((60000, 28, 28, 1), dtype('float32'))"
            ]
          },
          "metadata": {},
          "execution_count": 19
        }
      ]
    },
    {
      "cell_type": "code",
      "source": [
        "X_test.shape, X_test.dtype"
      ],
      "metadata": {
        "colab": {
          "base_uri": "https://localhost:8080/"
        },
        "id": "CDz-0JN4BXhX",
        "outputId": "18bcd38c-32cd-4b5e-e2eb-a672b2e40343"
      },
      "execution_count": null,
      "outputs": [
        {
          "output_type": "execute_result",
          "data": {
            "text/plain": [
              "((10000, 28, 28, 1), dtype('float32'))"
            ]
          },
          "metadata": {},
          "execution_count": 20
        }
      ]
    },
    {
      "cell_type": "code",
      "source": [
        "#convert class vector to binary class matrics: 1 => [0 1 0 0 ...]\n",
        "#1 => sparse_categorical_crossentropy\n",
        "#[0 1 0 0 ...] => categorical_crossentropy\n",
        "y_train_label = keras.utils.to_categorical(y_train, class_nums)\n",
        "y_test_label = keras.utils.to_categorical(y_test, class_nums)"
      ],
      "metadata": {
        "id": "F6XsRf3ICM-e"
      },
      "execution_count": null,
      "outputs": []
    },
    {
      "cell_type": "code",
      "source": [
        "y_train[0], y_train_label[0]"
      ],
      "metadata": {
        "colab": {
          "base_uri": "https://localhost:8080/"
        },
        "id": "0ZC9jIjPC0KF",
        "outputId": "87c11b61-0a12-4735-ddbd-8a3c9999a97d"
      },
      "execution_count": null,
      "outputs": [
        {
          "output_type": "execute_result",
          "data": {
            "text/plain": [
              "(5, array([0., 0., 0., 0., 0., 1., 0., 0., 0., 0.], dtype=float32))"
            ]
          },
          "metadata": {},
          "execution_count": 22
        }
      ]
    },
    {
      "cell_type": "markdown",
      "source": [
        "#4. Network (CNN) Architecture"
      ],
      "metadata": {
        "id": "swV623sLC-QT"
      }
    },
    {
      "cell_type": "code",
      "source": [
        "input_shape = (28, 28, 1)"
      ],
      "metadata": {
        "id": "crtnskpmEM8p"
      },
      "execution_count": null,
      "outputs": []
    },
    {
      "cell_type": "code",
      "source": [
        "#Using ANN to predict\n",
        "# model = keras.models.Sequential([\n",
        "#     layers.Flatten(input_shape = input_shape), #(28, 28, 1)->vector 1 chiều (28*28)\n",
        "#     layers.Dense(512, activation='relu'), #tìm hiểu về hàm relu: trả về chính giá trị đầu vào nếu nó lớn hơn 0, trả về 0 nếu nó nhỏ hơn hoặc bằng 0 => hàm này đóng vai trò bộ lọc, bỏ đi các giá trị nhỏ hơn hoặc bằng 0\n",
        "#     layers.Dense(256, activation='relu'),\n",
        "#     layers.Dense(class_nums, activation='softmax'), #tìm hiểu về hàm softmax: chọn ra giá trị lớn nhất trong tập bộ số: trả về giá trị bằng 1 cho số lớn nhất, bằng 0 cho các số còn lại => tìm y_predict dễ dàng, đỡ phải so sánh\n",
        "#     ])\n",
        "\n",
        "# Tại sao phải dùng hàm tác động activation: tại vì cái input từ layers trên xuống layers dưới mặc định là linear, nên dùng activation function để non-linear thì mới có model tốt\n",
        "# Tại sao dùng hàm softmax: biến các output thành các vector có tổng = 1\n",
        "\n",
        "# Số chanel của filter bằng số chanel của input\n",
        "# Có bao nhiêu filters thì output có bấy nhiêu chanels\n",
        "\n",
        "# Tại sao dùng maxpooling mà không dùng average pooling: vì max-pooling mới làm nổi bật lên cái feature rõ ràng nhất, lấy được cái thông tin nổi bật nhất\n",
        "# còn average-pooling thì nó tính trung bình các feature nên không lấy được các feature nổi bật nhất\n",
        "\n",
        "# Conv2D và MaxPool2D không có prop stride thì mặc định stride=1\n",
        "#pool_size=(2,2): số 2 đầu tiên là filter_size, số 2 thứ 2 là stride ? SAI => có phải pool_size là kích thước của filter chăng?\n",
        "#tại sao kích thước output shape sau bước maxpool2D lại giảm 1 nửa?\n",
        "#tại sao không dùng maxpooling2D mà dùng maxpool2D, 2 cái này khác gì nhau?\n",
        "\n",
        "# Tại sao phải dùng mạng CNN: vì mạng CNN giúp giảm số lượng tham số đi 1 lượng khá đáng kể\n",
        "# Tại sao chỉ cần dùng filter có kích thước nhỏ như 3*3: vì các cạnh trong ảnh được định nghĩa, tạo ra bởi các input gần nhau\n",
        "#tại sao trc khi train model lại phải có bước tiền xử lý dữ liệu như này: X_train=X_train.astype(np.float32) / 255 và y_train_label = keras.utils.to_categorical(y_train, class_nums)\n",
        "\n",
        "\n",
        "#Using CNN to predict\n",
        "model = keras.models.Sequential([\n",
        "    layers.Conv2D(filters=32, kernel_size=(3,3), activation='relu', input_shape=input_shape),\n",
        "    layers.MaxPool2D(pool_size=(2,2)),\n",
        "    layers.Conv2D(filters=64, kernel_size=(3,3), activation='relu'),\n",
        "    layers.MaxPool2D(pool_size=(2,2)),\n",
        "    layers.Conv2D(filters=128, kernel_size=(3,3), activation='relu'),\n",
        "    layers.Flatten(),\n",
        "    layers.Dense(128, activation='relu'),\n",
        "    layers.Dense(class_nums, activation='softmax')\n",
        "])\n",
        "\n",
        "model.summary()"
      ],
      "metadata": {
        "colab": {
          "base_uri": "https://localhost:8080/"
        },
        "id": "ycSo7HZ0DTiM",
        "outputId": "2157f11f-daf2-4907-9d72-4cb24ac212bc"
      },
      "execution_count": null,
      "outputs": [
        {
          "output_type": "stream",
          "name": "stdout",
          "text": [
            "Model: \"sequential\"\n",
            "_________________________________________________________________\n",
            " Layer (type)                Output Shape              Param #   \n",
            "=================================================================\n",
            " conv2d (Conv2D)             (None, 26, 26, 32)        320       \n",
            "                                                                 \n",
            " max_pooling2d (MaxPooling2  (None, 13, 13, 32)        0         \n",
            " D)                                                              \n",
            "                                                                 \n",
            " conv2d_1 (Conv2D)           (None, 11, 11, 64)        18496     \n",
            "                                                                 \n",
            " max_pooling2d_1 (MaxPoolin  (None, 5, 5, 64)          0         \n",
            " g2D)                                                            \n",
            "                                                                 \n",
            " conv2d_2 (Conv2D)           (None, 3, 3, 128)         73856     \n",
            "                                                                 \n",
            " flatten (Flatten)           (None, 1152)              0         \n",
            "                                                                 \n",
            " dense (Dense)               (None, 128)               147584    \n",
            "                                                                 \n",
            " dense_1 (Dense)             (None, 10)                1290      \n",
            "                                                                 \n",
            "=================================================================\n",
            "Total params: 241546 (943.54 KB)\n",
            "Trainable params: 241546 (943.54 KB)\n",
            "Non-trainable params: 0 (0.00 Byte)\n",
            "_________________________________________________________________\n"
          ]
        }
      ]
    },
    {
      "cell_type": "code",
      "source": [
        "model.compile(optimizer='rmsprop',\n",
        "              loss='categorical_crossentropy',\n",
        "              metrics='accuracy')"
      ],
      "metadata": {
        "id": "9Qvj37Kf7ZjP"
      },
      "execution_count": null,
      "outputs": []
    },
    {
      "cell_type": "code",
      "source": [
        "epochs = 10\n",
        "batch_size = 128\n",
        "history = model.fit(X_train, y_train_label,\n",
        "          epochs=epochs,\n",
        "          batch_size=batch_size,\n",
        "          validation_split=0.1\n",
        "          )"
      ],
      "metadata": {
        "colab": {
          "base_uri": "https://localhost:8080/"
        },
        "id": "K7l3SUdG96q5",
        "outputId": "29a0ccc7-f867-409d-a4ce-d490aec25cea"
      },
      "execution_count": null,
      "outputs": [
        {
          "output_type": "stream",
          "name": "stdout",
          "text": [
            "Epoch 1/10\n",
            "422/422 [==============================] - 13s 8ms/step - loss: 0.2292 - accuracy: 0.9271 - val_loss: 0.0654 - val_accuracy: 0.9795\n",
            "Epoch 2/10\n",
            "422/422 [==============================] - 3s 7ms/step - loss: 0.0493 - accuracy: 0.9844 - val_loss: 0.0423 - val_accuracy: 0.9870\n",
            "Epoch 3/10\n",
            "422/422 [==============================] - 2s 6ms/step - loss: 0.0322 - accuracy: 0.9899 - val_loss: 0.0431 - val_accuracy: 0.9882\n",
            "Epoch 4/10\n",
            "422/422 [==============================] - 3s 7ms/step - loss: 0.0239 - accuracy: 0.9925 - val_loss: 0.0290 - val_accuracy: 0.9918\n",
            "Epoch 5/10\n",
            "422/422 [==============================] - 3s 6ms/step - loss: 0.0181 - accuracy: 0.9940 - val_loss: 0.0442 - val_accuracy: 0.9890\n",
            "Epoch 6/10\n",
            "422/422 [==============================] - 2s 5ms/step - loss: 0.0136 - accuracy: 0.9956 - val_loss: 0.0337 - val_accuracy: 0.9932\n",
            "Epoch 7/10\n",
            "422/422 [==============================] - 3s 6ms/step - loss: 0.0104 - accuracy: 0.9967 - val_loss: 0.0441 - val_accuracy: 0.9892\n",
            "Epoch 8/10\n",
            "422/422 [==============================] - 3s 7ms/step - loss: 0.0085 - accuracy: 0.9973 - val_loss: 0.0407 - val_accuracy: 0.9893\n",
            "Epoch 9/10\n",
            "422/422 [==============================] - 3s 7ms/step - loss: 0.0068 - accuracy: 0.9978 - val_loss: 0.0385 - val_accuracy: 0.9923\n",
            "Epoch 10/10\n",
            "422/422 [==============================] - 3s 6ms/step - loss: 0.0058 - accuracy: 0.9981 - val_loss: 0.0445 - val_accuracy: 0.9913\n"
          ]
        }
      ]
    },
    {
      "cell_type": "code",
      "source": [
        "history_dict = history.history"
      ],
      "metadata": {
        "id": "_qHIKyx1_q6f"
      },
      "execution_count": null,
      "outputs": []
    },
    {
      "cell_type": "code",
      "source": [
        "history_dict.keys()"
      ],
      "metadata": {
        "colab": {
          "base_uri": "https://localhost:8080/"
        },
        "id": "4LDSGqK6_v0v",
        "outputId": "fac76c8c-c2c6-4fe0-e92f-3abaa6370b7a"
      },
      "execution_count": null,
      "outputs": [
        {
          "output_type": "execute_result",
          "data": {
            "text/plain": [
              "dict_keys(['loss', 'accuracy', 'val_loss', 'val_accuracy'])"
            ]
          },
          "metadata": {},
          "execution_count": 28
        }
      ]
    },
    {
      "cell_type": "code",
      "source": [
        "train_loss, val_loss = history_dict['loss'], history_dict['val_loss']\n",
        "train_acc, val_acc = history_dict['accuracy'], history_dict['val_accuracy']"
      ],
      "metadata": {
        "id": "v17KERUy_zSj"
      },
      "execution_count": null,
      "outputs": []
    },
    {
      "cell_type": "code",
      "source": [
        "fig, (ax1, ax2) = plt.subplots(1, 2, figsize=(15,5))\n",
        "epochs_runs = [i+1 for i in range(epochs)]\n",
        "\n",
        "ax1.plot(epochs_runs, train_loss, label='Training Loss')\n",
        "ax1.plot(epochs_runs, val_loss, label='Vadidation Loss', marker='o')\n",
        "ax1.set(title='Training vs Validation Loss', xlabel='Epochs', ylabel='Loss')\n",
        "ax1.legend()\n",
        "\n",
        "ax2.plot(epochs_runs, train_acc, label='Training Accuracy')\n",
        "ax2.plot(epochs_runs, val_acc, label='Vadidation Accuracy', marker='o')\n",
        "ax2.set(title='Training vs Validation Accuracy', xlabel='Epochs', ylabel='Accuracy')\n",
        "ax2.legend()\n",
        "\n",
        "plt.show()"
      ],
      "metadata": {
        "colab": {
          "base_uri": "https://localhost:8080/"
        },
        "id": "Fng0SvPZAMJh",
        "outputId": "b278ae76-ec3d-4d6c-f31f-6e0a31795347"
      },
      "execution_count": null,
      "outputs": [
        {
          "output_type": "display_data",
          "data": {
            "text/plain": [
              "<Figure size 1500x500 with 2 Axes>"
            ],
            "image/png": "[encoded data removed]"
          },
          "metadata": {}
        }
      ]
    },
    {
      "cell_type": "markdown",
      "source": [
        "#5. Model Evaluation"
      ],
      "metadata": {
        "id": "noqp3zD5EAEN"
      }
    },
    {
      "cell_type": "code",
      "source": [
        "score = model.evaluate(X_test, y_test_label)"
      ],
      "metadata": {
        "colab": {
          "base_uri": "https://localhost:8080/"
        },
        "id": "chpnAiC8EDB9",
        "outputId": "7fbcc6b2-1a16-414a-d837-16485d58a812"
      },
      "execution_count": null,
      "outputs": [
        {
          "output_type": "stream",
          "name": "stdout",
          "text": [
            "313/313 [==============================] - 1s 4ms/step - loss: 0.0357 - accuracy: 0.9917\n"
          ]
        }
      ]
    },
    {
      "cell_type": "code",
      "source": [
        "print(f\"Test Loss: {score[0]:.4f}\")\n",
        "print(f\"Test Accuracy: {score[1]:.4f}\")"
      ],
      "metadata": {
        "colab": {
          "base_uri": "https://localhost:8080/"
        },
        "id": "SQrohGvJENU-",
        "outputId": "40941437-c3a9-4610-8709-4f6aae1eb27d"
      },
      "execution_count": null,
      "outputs": [
        {
          "output_type": "stream",
          "name": "stdout",
          "text": [
            "Test Loss: 0.0357\n",
            "Test Accuracy: 0.9917\n"
          ]
        }
      ]
    },
    {
      "cell_type": "code",
      "source": [
        "X_sample = X_test[:3] #Lấy 3 samples đầu tiên để check\n",
        "y_proba_sample = model.predict(X_sample)"
      ],
      "metadata": {
        "colab": {
          "base_uri": "https://localhost:8080/"
        },
        "id": "yTdbcohKEhBR",
        "outputId": "1407f9ae-8562-4e32-932c-0f02d8198d51"
      },
      "execution_count": null,
      "outputs": [
        {
          "output_type": "stream",
          "name": "stdout",
          "text": [
            "1/1 [==============================] - 0s 167ms/step\n"
          ]
        }
      ]
    },
    {
      "cell_type": "code",
      "source": [
        "y_proba_sample.round(3)"
      ],
      "metadata": {
        "colab": {
          "base_uri": "https://localhost:8080/"
        },
        "id": "OqK9ZCpZEqiB",
        "outputId": "96c14f5a-5023-42b6-e096-2b13168b6b3a"
      },
      "execution_count": null,
      "outputs": [
        {
          "output_type": "execute_result",
          "data": {
            "text/plain": [
              "array([[0., 0., 0., 0., 0., 0., 0., 1., 0., 0.],\n",
              "       [0., 0., 1., 0., 0., 0., 0., 0., 0., 0.],\n",
              "       [0., 1., 0., 0., 0., 0., 0., 0., 0., 0.]], dtype=float32)"
            ]
          },
          "metadata": {},
          "execution_count": 34
        }
      ]
    },
    {
      "cell_type": "code",
      "source": [
        "predictions = np.argmax(y_proba_sample, axis=1)\n",
        "# [[0.1, 0.3, 0.5, 0.1],  # Mẫu 1 (Dòng 0)\n",
        "#  [0.2, 0.2, 0.2, 0.4],  # Mẫu 2 (Dòng 1)\n",
        "#  [0.7, 0.1, 0.1, 0.1]]  # Mẫu 3 (Dòng 2)\n",
        "\n",
        "# axis=0 sẽ nghĩa là bạn muốn tìm giá trị lớn nhất trong từng cột (theo các mẫu dữ liệu).\n",
        "# axis=1 sẽ nghĩa là bạn muốn tìm giá trị lớn nhất trong từng hàng (theo các lớp)."
      ],
      "metadata": {
        "id": "Hd3pZz4pFKMy"
      },
      "execution_count": null,
      "outputs": []
    },
    {
      "cell_type": "code",
      "source": [
        "[class_names[pred] for pred in predictions]"
      ],
      "metadata": {
        "colab": {
          "base_uri": "https://localhost:8080/"
        },
        "id": "LjpTvco9FRJ-",
        "outputId": "89c0de6c-1ba0-48f9-a0a3-b3035e6fb521"
      },
      "execution_count": null,
      "outputs": [
        {
          "output_type": "execute_result",
          "data": {
            "text/plain": [
              "['Number 7', 'Number 2', 'Number 1']"
            ]
          },
          "metadata": {},
          "execution_count": 36
        }
      ]
    },
    {
      "cell_type": "code",
      "source": [
        "y_proba = model.predict(X_test)"
      ],
      "metadata": {
        "colab": {
          "base_uri": "https://localhost:8080/"
        },
        "id": "pt-7ESMJFTr0",
        "outputId": "4594a5e0-739f-4880-c189-f5c796c6f58f"
      },
      "execution_count": null,
      "outputs": [
        {
          "output_type": "stream",
          "name": "stdout",
          "text": [
            "313/313 [==============================] - 1s 2ms/step\n"
          ]
        }
      ]
    },
    {
      "cell_type": "code",
      "source": [
        "plot_data(X_test, y_test, y_proba)"
      ],
      "metadata": {
        "colab": {
          "base_uri": "https://localhost:8080/"
        },
        "id": "ZFLezcZvL_a8",
        "outputId": "71bae856-cd05-45d8-b642-3ed323bc9d9c"
      },
      "execution_count": null,
      "outputs": [
        {
          "output_type": "display_data",
          "data": {
            "text/plain": [
              "<Figure size 1000x600 with 8 Axes>"
            ],
            "image/png": "[encoded data removed]"
          },
          "metadata": {}
        }
      ]
    }
  ]
}