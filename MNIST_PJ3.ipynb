{
  "nbformat": 4,
  "nbformat_minor": 0,
  "metadata": {
    "colab": {
      "provenance": [],
      "gpuType": "T4",
      "include_colab_link": true
    },
    "kernelspec": {
      "name": "python3",
      "display_name": "Python 3"
    },
    "language_info": {
      "name": "python"
    },
    "accelerator": "GPU"
  },
  "cells": [
    {
      "cell_type": "markdown",
      "metadata": {
        "id": "view-in-github",
        "colab_type": "text"
      },
      "source": [
        "<a href=\"https://colab.research.google.com/github/NguyenVanHien8502/image-classification/blob/main/MNIST_PJ3.ipynb\" target=\"_parent\"><img src=\"https://colab.research.google.com/assets/colab-badge.svg\" alt=\"Open In Colab\"/></a>"
      ]
    },
    {
      "cell_type": "markdown",
      "source": [
        "#Mount google drive"
      ],
      "metadata": {
        "id": "CWK2xUsO29KS"
      }
    },
    {
      "cell_type": "code",
      "source": [
        "from google.colab import drive\n",
        "drive.mount(\"/content/drive/\")"
      ],
      "metadata": {
        "id": "6HzFPKTHyaqr",
        "colab": {
          "base_uri": "https://localhost:8080/"
        },
        "outputId": "22e98579-cc73-4388-b54c-380b19839096"
      },
      "execution_count": null,
      "outputs": [
        {
          "output_type": "stream",
          "name": "stdout",
          "text": [
            "Mounted at /content/drive/\n"
          ]
        }
      ]
    },
    {
      "cell_type": "markdown",
      "source": [
        "# Import libraries"
      ],
      "metadata": {
        "id": "exRFQDSVO-Wr"
      }
    },
    {
      "cell_type": "code",
      "source": [
        "import matplotlib.pyplot as plt\n",
        "import numpy as np\n",
        "import random\n",
        "import struct\n",
        "import gzip\n",
        "\n",
        "import tensorflow as tf\n",
        "from tensorflow import keras\n",
        "from keras.api._v2.keras import layers\n"
      ],
      "metadata": {
        "id": "1Q2MZkEQI98T"
      },
      "execution_count": null,
      "outputs": []
    },
    {
      "cell_type": "markdown",
      "source": [
        "#1. Load Data from file .gz"
      ],
      "metadata": {
        "id": "s1ez2hxyIfeC"
      }
    },
    {
      "cell_type": "code",
      "source": [
        "#Load image train\n",
        "filename = '/content/drive/MyDrive/Colab_Notebooks/train-images-idx3-ubyte.gz'\n",
        "\n",
        "with gzip.open(filename, 'rb') as f:\n",
        "    magic, size = struct.unpack(\">II\", f.read(8))\n",
        "    nrows, ncols = struct.unpack(\">II\", f.read(8))\n",
        "    X_train = np.frombuffer(f.read(), dtype=np.uint8)\n",
        "    X_train = X_train.reshape(size, nrows, ncols)"
      ],
      "metadata": {
        "id": "BgDoq6AvIbnO"
      },
      "execution_count": null,
      "outputs": []
    },
    {
      "cell_type": "code",
      "source": [
        "#Load label train\n",
        "filename = '/content/drive/MyDrive/Colab_Notebooks/train-labels-idx1-ubyte.gz'\n",
        "\n",
        "with gzip.open(filename, 'rb') as f:\n",
        "    magic, size = struct.unpack(\">II\", f.read(8))\n",
        "    y_train = np.frombuffer(f.read(), dtype=np.uint8)\n",
        "    y_train = y_train.reshape((size,))"
      ],
      "metadata": {
        "id": "wa4sHHQtJU_3"
      },
      "execution_count": null,
      "outputs": []
    },
    {
      "cell_type": "code",
      "source": [
        "#Load image test\n",
        "filename = '/content/drive/MyDrive/Colab_Notebooks/t10k-images-idx3-ubyte.gz'\n",
        "\n",
        "with gzip.open(filename, 'rb') as f:\n",
        "    magic, size = struct.unpack(\">II\", f.read(8))\n",
        "    nrows, ncols = struct.unpack(\">II\", f.read(8))\n",
        "    X_test = np.frombuffer(f.read(), dtype=np.uint8)\n",
        "    X_test = X_test.reshape(size, nrows, ncols)"
      ],
      "metadata": {
        "id": "NH1x6DE5OduG"
      },
      "execution_count": null,
      "outputs": []
    },
    {
      "cell_type": "code",
      "source": [
        "#Load label test\n",
        "filename = '/content/drive/MyDrive/Colab_Notebooks/t10k-labels-idx1-ubyte.gz'\n",
        "\n",
        "with gzip.open(filename, 'rb') as f:\n",
        "    magic, size = struct.unpack(\">II\", f.read(8))\n",
        "    y_test = np.frombuffer(f.read(), dtype=np.uint8)\n",
        "    y_test = y_test.reshape((size,))"
      ],
      "metadata": {
        "id": "HzEn1F0bOguL"
      },
      "execution_count": null,
      "outputs": []
    },
    {
      "cell_type": "markdown",
      "source": [
        "#2. Check data"
      ],
      "metadata": {
        "id": "mBQiPaPTO2pz"
      }
    },
    {
      "cell_type": "code",
      "source": [
        "X_train.shape, X_train.dtype, type(X_train)"
      ],
      "metadata": {
        "id": "uSZDwjDrKirT",
        "colab": {
          "base_uri": "https://localhost:8080/"
        },
        "outputId": "b8ae4ae4-a3f0-482d-a2ed-102b0a250b89"
      },
      "execution_count": null,
      "outputs": [
        {
          "output_type": "execute_result",
          "data": {
            "text/plain": [
              "((60000, 28, 28), dtype('uint8'), numpy.ndarray)"
            ]
          },
          "metadata": {},
          "execution_count": 7
        }
      ]
    },
    {
      "cell_type": "code",
      "source": [
        "y_train.shape, y_train.dtype, type(y_train)"
      ],
      "metadata": {
        "colab": {
          "base_uri": "https://localhost:8080/"
        },
        "id": "CdcPuXHFDHW3",
        "outputId": "eaa56a2a-4d88-476a-bef5-4ea1ee768ace"
      },
      "execution_count": null,
      "outputs": [
        {
          "output_type": "execute_result",
          "data": {
            "text/plain": [
              "((60000,), dtype('uint8'), numpy.ndarray)"
            ]
          },
          "metadata": {},
          "execution_count": 8
        }
      ]
    },
    {
      "cell_type": "code",
      "source": [
        "class_names = [\"Number 0\", \"Number 1\", \"Number 2\", \"Number 3\", \"Number 4\", \"Number 5\", \"Number 6\", \"Number 7\", \"Number 8\", \"Number 9\"]\n",
        "class_nums = len(class_names)"
      ],
      "metadata": {
        "id": "LEhTDHHAPQEb"
      },
      "execution_count": null,
      "outputs": []
    },
    {
      "cell_type": "code",
      "source": [
        "plt.imshow(X_train[10,:,:], cmap='gray')\n",
        "plt.xticks([])\n",
        "plt.yticks([])\n",
        "plt.xlabel(class_names[y_train[10]])\n",
        "plt.show()"
      ],
      "metadata": {
        "id": "rg_hSPmLJesd",
        "colab": {
          "base_uri": "https://localhost:8080/",
          "height": 426
        },
        "outputId": "93ab3cf8-0fc6-4017-951e-95570aea4e77"
      },
      "execution_count": null,
      "outputs": [
        {
          "output_type": "display_data",
          "data": {
            "text/plain": [
              "<Figure size 640x480 with 1 Axes>"
            ],
            "image/png": "[encoded data removed]"
          },
          "metadata": {}
        }
      ]
    },
    {
      "cell_type": "code",
      "source": [
        "from typing import Optional\n",
        "def plot_data(X_data: np.ndarray, y_data:np.ndarray, y_proba: Optional[np.ndarray] = None)->None:\n",
        "  nrows, ncols = 2, 4\n",
        "  fig, axes = plt.subplots(nrows, ncols, figsize=(10,6))\n",
        "\n",
        "  len_x = X_data.shape[0]\n",
        "  for idx in range(nrows*ncols):\n",
        "    ax = axes[idx // ncols, idx % ncols]\n",
        "    img_idx = random.randint(0, len_x)\n",
        "    ax.imshow(X_data[img_idx], cmap='gray')\n",
        "    ax.set(xticks=[], yticks=[])\n",
        "    color = 'green'\n",
        "\n",
        "    true_label_str = f\"True: {class_names[y_data[img_idx]]}\"\n",
        "\n",
        "    if y_proba is not None:\n",
        "      predicted_idx = np.argmax(y_proba[img_idx])\n",
        "      predicted_label = class_names[predicted_idx]\n",
        "      color = 'red' if predicted_idx != y_data[img_idx] else color\n",
        "      predicted_label_str = f\"\\nPredicted: {predicted_label}\"\n",
        "\n",
        "    img_title = true_label_str if y_proba is None else true_label_str + predicted_label_str\n",
        "    ax.set_xlabel(img_title, color=color, fontsize=12)\n",
        "\n",
        "  plt.tight_layout()\n",
        "  plt.show()"
      ],
      "metadata": {
        "id": "tOGmgKhYIfHk"
      },
      "execution_count": null,
      "outputs": []
    },
    {
      "cell_type": "code",
      "source": [
        "plot_data(X_train, y_train)"
      ],
      "metadata": {
        "id": "SobNfrUh-O_5",
        "colab": {
          "base_uri": "https://localhost:8080/",
          "height": 573
        },
        "outputId": "92c1e275-9e22-4322-81a1-d7c93f04bc84"
      },
      "execution_count": null,
      "outputs": [
        {
          "output_type": "display_data",
          "data": {
            "text/plain": [
              "<Figure size 1000x600 with 8 Axes>"
            ],
            "image/png": "[encoded data removed]"
          },
          "metadata": {}
        }
      ]
    },
    {
      "cell_type": "code",
      "source": [
        "plot_data(X_test, y_test)"
      ],
      "metadata": {
        "id": "-D_VUpiJ-QyS",
        "colab": {
          "base_uri": "https://localhost:8080/",
          "height": 573
        },
        "outputId": "0fdab001-5265-4bc2-bc91-4b947c20574f"
      },
      "execution_count": null,
      "outputs": [
        {
          "output_type": "display_data",
          "data": {
            "text/plain": [
              "<Figure size 1000x600 with 8 Axes>"
            ],
            "image/png": "[encoded data removed]"
          },
          "metadata": {}
        }
      ]
    },
    {
      "cell_type": "markdown",
      "source": [
        "#3. Image Pre-processing"
      ],
      "metadata": {
        "id": "TtgvQznD-hil"
      }
    },
    {
      "cell_type": "code",
      "source": [
        "# Convert to float32 (tăng tốc quá trình tính toán) & scale images to the [0,1] range for training (giúp mô hình học tốt hơn)\n",
        "# => cải thiện hiệu suất và tính ổn định của mô hình\n",
        "X_train=X_train.astype(np.float32) / 255\n",
        "X_test=X_test.astype(np.float32) / 255"
      ],
      "metadata": {
        "id": "6i-oVUbx-l9_"
      },
      "execution_count": null,
      "outputs": []
    },
    {
      "cell_type": "code",
      "source": [
        "X_train.shape, X_train.dtype, type(X_train)"
      ],
      "metadata": {
        "id": "T7HoiyBH_bho",
        "colab": {
          "base_uri": "https://localhost:8080/"
        },
        "outputId": "504401d9-22cc-4166-9c13-2565d7c39c90"
      },
      "execution_count": null,
      "outputs": [
        {
          "output_type": "execute_result",
          "data": {
            "text/plain": [
              "((60000, 28, 28), dtype('float32'), numpy.ndarray)"
            ]
          },
          "metadata": {},
          "execution_count": 15
        }
      ]
    },
    {
      "cell_type": "code",
      "source": [
        "X_test.shape, X_test.dtype, type(X_test)"
      ],
      "metadata": {
        "id": "BRxyPFkg_2qP",
        "colab": {
          "base_uri": "https://localhost:8080/"
        },
        "outputId": "7970c736-0cda-4c80-a401-ea80f8c5b07b"
      },
      "execution_count": null,
      "outputs": [
        {
          "output_type": "execute_result",
          "data": {
            "text/plain": [
              "((10000, 28, 28), dtype('float32'), numpy.ndarray)"
            ]
          },
          "metadata": {},
          "execution_count": 16
        }
      ]
    },
    {
      "cell_type": "code",
      "source": [
        "#Make sure images have shape (60000, 28, 28) => (60000, 28, 28, 1) (do dữ liệu của tensorflow thì có 4 thuộc tính: samples, height, width, channels)\n",
        "X_train = np.expand_dims(X_train, axis=-1)\n",
        "X_test = np.expand_dims(X_test, axis=-1)"
      ],
      "metadata": {
        "id": "-4MGSkKAA9aG"
      },
      "execution_count": null,
      "outputs": []
    },
    {
      "cell_type": "code",
      "source": [
        "X_train.shape, X_train.dtype, type(X_train)"
      ],
      "metadata": {
        "id": "KEDAm3IABWNp",
        "colab": {
          "base_uri": "https://localhost:8080/"
        },
        "outputId": "fcc15b44-5306-4310-a930-060b290cbdac"
      },
      "execution_count": null,
      "outputs": [
        {
          "output_type": "execute_result",
          "data": {
            "text/plain": [
              "((60000, 28, 28, 1), dtype('float32'), numpy.ndarray)"
            ]
          },
          "metadata": {},
          "execution_count": 18
        }
      ]
    },
    {
      "cell_type": "code",
      "source": [
        "X_test.shape, X_test.dtype, type(X_test)"
      ],
      "metadata": {
        "id": "CDz-0JN4BXhX",
        "colab": {
          "base_uri": "https://localhost:8080/"
        },
        "outputId": "a7a62392-c67c-4958-dc75-ffe2cde6f494"
      },
      "execution_count": null,
      "outputs": [
        {
          "output_type": "execute_result",
          "data": {
            "text/plain": [
              "((10000, 28, 28, 1), dtype('float32'), numpy.ndarray)"
            ]
          },
          "metadata": {},
          "execution_count": 19
        }
      ]
    },
    {
      "cell_type": "code",
      "source": [
        "#Tại sao phải đổi về dạng one-hot encoding: Phù hợp với softmax activation, Thuận lợi cho hàm mất mát categorical_crossentropy, Tạo ổn định cho quá trình học\n",
        "\n",
        "y_train_label = keras.utils.to_categorical(y_train, class_nums)\n",
        "y_test_label = keras.utils.to_categorical(y_test, class_nums)"
      ],
      "metadata": {
        "id": "F6XsRf3ICM-e"
      },
      "execution_count": null,
      "outputs": []
    },
    {
      "cell_type": "code",
      "source": [
        "y_train[0], y_train_label[0]"
      ],
      "metadata": {
        "id": "0ZC9jIjPC0KF",
        "colab": {
          "base_uri": "https://localhost:8080/"
        },
        "outputId": "8fad5786-04b8-4713-ec65-f6810f2b6683"
      },
      "execution_count": null,
      "outputs": [
        {
          "output_type": "execute_result",
          "data": {
            "text/plain": [
              "(5, array([0., 0., 0., 0., 0., 1., 0., 0., 0., 0.], dtype=float32))"
            ]
          },
          "metadata": {},
          "execution_count": 21
        }
      ]
    },
    {
      "cell_type": "markdown",
      "source": [
        "#4. Network (CNN) Architecture"
      ],
      "metadata": {
        "id": "swV623sLC-QT"
      }
    },
    {
      "cell_type": "code",
      "source": [
        "input_shape = (28, 28, 1)"
      ],
      "metadata": {
        "id": "crtnskpmEM8p"
      },
      "execution_count": null,
      "outputs": []
    },
    {
      "cell_type": "code",
      "source": [
        "# Tại sao dùng hàm softmax: biến các output thành các vector phân phối xác suất có tổng các xác suất = 1\n",
        "# Tại sao dùng maxpooling mà không dùng average pooling: vì max-pooling mới làm nổi bật lên cái feature rõ ràng nhất, lấy được cái thông tin nổi bật nhất\n",
        "# còn average-pooling thì nó tính trung bình các feature nên không lấy được các feature nổi bật nhất\n",
        "# Tại sao chỉ cần dùng filter có kích thước nhỏ như 3*3: vì các cạnh trong ảnh được định nghĩa, tạo ra bởi các input gần nhau\n",
        "# layers.Conv2D(filters=32, kernel_size=(3,3), activation='relu', input_shape=input_shape, padding='valid', strides=(1,1)),\n",
        "\n",
        "#Using CNN to predict\n",
        "def create_CNN_model():\n",
        "  model = keras.models.Sequential([\n",
        "      layers.Conv2D(filters=32, kernel_size=(3,3), activation='relu', input_shape=input_shape),\n",
        "      layers.MaxPool2D(pool_size=(2,2)),\n",
        "      layers.Conv2D(filters=64, kernel_size=(3,3), activation='relu'),\n",
        "      layers.MaxPool2D(pool_size=(2,2)),\n",
        "      layers.Conv2D(filters=128, kernel_size=(3,3), activation='relu'),\n",
        "      layers.Flatten(),\n",
        "      layers.Dense(128, activation='relu'), #lớp fully connected\n",
        "      layers.Dense(class_nums, activation='softmax'),\n",
        "  ])\n",
        "  model.compile(optimizer='adam', #sử dụng thuật toán tối ưu hóa Adam để cập nhật trọng số của mô hình\n",
        "                loss='categorical_crossentropy',\n",
        "                metrics=\"accuracy\")\n",
        "  return model"
      ],
      "metadata": {
        "id": "ycSo7HZ0DTiM"
      },
      "execution_count": null,
      "outputs": []
    },
    {
      "cell_type": "code",
      "source": [
        "basic_CNN_model = create_CNN_model()"
      ],
      "metadata": {
        "id": "9Qvj37Kf7ZjP"
      },
      "execution_count": null,
      "outputs": []
    },
    {
      "cell_type": "code",
      "source": [
        "basic_CNN_model.summary()"
      ],
      "metadata": {
        "id": "YkMGrLMCp2rS",
        "colab": {
          "base_uri": "https://localhost:8080/"
        },
        "outputId": "1e0182eb-5be3-4f65-aa13-bae5b2823579"
      },
      "execution_count": null,
      "outputs": [
        {
          "output_type": "stream",
          "name": "stdout",
          "text": [
            "Model: \"sequential_6\"\n",
            "_________________________________________________________________\n",
            " Layer (type)                Output Shape              Param #   \n",
            "=================================================================\n",
            " conv2d_18 (Conv2D)          (None, 26, 26, 32)        320       \n",
            "                                                                 \n",
            " max_pooling2d_12 (MaxPooli  (None, 13, 13, 32)        0         \n",
            " ng2D)                                                           \n",
            "                                                                 \n",
            " conv2d_19 (Conv2D)          (None, 11, 11, 64)        18496     \n",
            "                                                                 \n",
            " max_pooling2d_13 (MaxPooli  (None, 5, 5, 64)          0         \n",
            " ng2D)                                                           \n",
            "                                                                 \n",
            " conv2d_20 (Conv2D)          (None, 3, 3, 128)         73856     \n",
            "                                                                 \n",
            " flatten_6 (Flatten)         (None, 1152)              0         \n",
            "                                                                 \n",
            " dense_11 (Dense)            (None, 128)               147584    \n",
            "                                                                 \n",
            " dense_12 (Dense)            (None, 10)                1290      \n",
            "                                                                 \n",
            "=================================================================\n",
            "Total params: 241546 (943.54 KB)\n",
            "Trainable params: 241546 (943.54 KB)\n",
            "Non-trainable params: 0 (0.00 Byte)\n",
            "_________________________________________________________________\n"
          ]
        }
      ]
    },
    {
      "cell_type": "code",
      "source": [
        "import os\n",
        "from keras.callbacks import EarlyStopping\n",
        "from keras.callbacks import ModelCheckpoint\n",
        "\n",
        "def call_back(checkpoint_path):\n",
        "  early_stopping_callback = EarlyStopping(\n",
        "      patience=10,  # Số epochs không có cải thiện trước khi dừng huấn luyện\n",
        "      monitor='val_loss',  # Theo dõi giá trị validation loss để quyết định có cải thiện hay không\n",
        "      restore_best_weights=True,  # Sau khi dừng, khôi phục trọng số của model tại epoch có validation loss tốt nhất\n",
        "      verbose=1\n",
        "  )\n",
        "  checkpoint_callback = ModelCheckpoint(\n",
        "      filepath=checkpoint_path,\n",
        "      save_weights_only=True,  # Chỉ lưu trọng số, không lưu toàn bộ mô hình.\n",
        "      monitor='val_loss',  # Theo dõi giá trị validation loss để quyết định khi nào lưu trọng số\n",
        "      save_best_only=True,  # Chỉ lưu trọng số của mô hình có giá trị validation loss tốt nhất trên 'monitor'\n",
        "      mode='min',  # Theo dõi theo chiều giảm của 'monitor'\n",
        "      verbose=1  # Hiển thị thông báo khi lưu model\n",
        "  )\n",
        "\n",
        "  return early_stopping_callback, checkpoint_callback"
      ],
      "metadata": {
        "id": "EbLKeP50p6WU"
      },
      "execution_count": null,
      "outputs": []
    },
    {
      "cell_type": "code",
      "source": [
        "checkpoint_path = \"/content/drive/MyDrive/Colab_Notebooks/model_saver/basic_CNN_weight.cp\"\n",
        "early_stopping_callback, checkpoint_callback = call_back(checkpoint_path=checkpoint_path)"
      ],
      "metadata": {
        "id": "3Wyuw-W8qGiX"
      },
      "execution_count": null,
      "outputs": []
    },
    {
      "cell_type": "code",
      "source": [
        "epochs = 100\n",
        "batch_size = 256"
      ],
      "metadata": {
        "id": "K7l3SUdG96q5"
      },
      "execution_count": null,
      "outputs": []
    },
    {
      "cell_type": "code",
      "source": [
        "history = basic_CNN_model.fit(X_train, y_train_label,\n",
        "          epochs=epochs,\n",
        "          batch_size=batch_size,\n",
        "          validation_split=0.2,\n",
        "          callbacks = [early_stopping_callback, checkpoint_callback]\n",
        "          )"
      ],
      "metadata": {
        "id": "VDcBAj1_q_gZ",
        "colab": {
          "base_uri": "https://localhost:8080/"
        },
        "outputId": "466873d7-a681-4918-b43e-3f07eae2c267"
      },
      "execution_count": null,
      "outputs": [
        {
          "output_type": "stream",
          "name": "stdout",
          "text": [
            "Epoch 1/100\n",
            "187/188 [============================>.] - ETA: 0s - loss: 0.3382 - accuracy: 0.9029\n",
            "Epoch 1: val_loss did not improve from 0.03484\n",
            "188/188 [==============================] - 3s 9ms/step - loss: 0.3375 - accuracy: 0.9031 - val_loss: 0.0959 - val_accuracy: 0.9718\n",
            "Epoch 2/100\n",
            "185/188 [============================>.] - ETA: 0s - loss: 0.0741 - accuracy: 0.9768\n",
            "Epoch 2: val_loss did not improve from 0.03484\n",
            "188/188 [==============================] - 2s 8ms/step - loss: 0.0739 - accuracy: 0.9768 - val_loss: 0.0656 - val_accuracy: 0.9808\n",
            "Epoch 3/100\n",
            "186/188 [============================>.] - ETA: 0s - loss: 0.0514 - accuracy: 0.9839\n",
            "Epoch 3: val_loss did not improve from 0.03484\n",
            "188/188 [==============================] - 2s 10ms/step - loss: 0.0513 - accuracy: 0.9840 - val_loss: 0.0506 - val_accuracy: 0.9843\n",
            "Epoch 4/100\n",
            "186/188 [============================>.] - ETA: 0s - loss: 0.0372 - accuracy: 0.9879\n",
            "Epoch 4: val_loss did not improve from 0.03484\n",
            "188/188 [==============================] - 2s 9ms/step - loss: 0.0373 - accuracy: 0.9879 - val_loss: 0.0449 - val_accuracy: 0.9875\n",
            "Epoch 5/100\n",
            "185/188 [============================>.] - ETA: 0s - loss: 0.0297 - accuracy: 0.9909\n",
            "Epoch 5: val_loss did not improve from 0.03484\n",
            "188/188 [==============================] - 2s 9ms/step - loss: 0.0296 - accuracy: 0.9910 - val_loss: 0.0413 - val_accuracy: 0.9888\n",
            "Epoch 6/100\n",
            "183/188 [============================>.] - ETA: 0s - loss: 0.0246 - accuracy: 0.9923\n",
            "Epoch 6: val_loss did not improve from 0.03484\n",
            "188/188 [==============================] - 1s 7ms/step - loss: 0.0248 - accuracy: 0.9923 - val_loss: 0.0394 - val_accuracy: 0.9887\n",
            "Epoch 7/100\n",
            "184/188 [============================>.] - ETA: 0s - loss: 0.0217 - accuracy: 0.9929\n",
            "Epoch 7: val_loss improved from 0.03484 to 0.03475, saving model to /content/drive/MyDrive/Colab_Notebooks/model_saver/basic_CNN_weight.cp\n",
            "188/188 [==============================] - 1s 8ms/step - loss: 0.0215 - accuracy: 0.9929 - val_loss: 0.0347 - val_accuracy: 0.9902\n",
            "Epoch 8/100\n",
            "183/188 [============================>.] - ETA: 0s - loss: 0.0166 - accuracy: 0.9947\n",
            "Epoch 8: val_loss did not improve from 0.03475\n",
            "188/188 [==============================] - 1s 7ms/step - loss: 0.0168 - accuracy: 0.9946 - val_loss: 0.0356 - val_accuracy: 0.9895\n",
            "Epoch 9/100\n",
            "182/188 [============================>.] - ETA: 0s - loss: 0.0143 - accuracy: 0.9954\n",
            "Epoch 9: val_loss did not improve from 0.03475\n",
            "188/188 [==============================] - 1s 8ms/step - loss: 0.0146 - accuracy: 0.9953 - val_loss: 0.0416 - val_accuracy: 0.9880\n",
            "Epoch 10/100\n",
            "183/188 [============================>.] - ETA: 0s - loss: 0.0123 - accuracy: 0.9963\n",
            "Epoch 10: val_loss did not improve from 0.03475\n",
            "188/188 [==============================] - 1s 8ms/step - loss: 0.0126 - accuracy: 0.9962 - val_loss: 0.0384 - val_accuracy: 0.9899\n",
            "Epoch 11/100\n",
            "185/188 [============================>.] - ETA: 0s - loss: 0.0103 - accuracy: 0.9968\n",
            "Epoch 11: val_loss did not improve from 0.03475\n",
            "188/188 [==============================] - 1s 7ms/step - loss: 0.0103 - accuracy: 0.9968 - val_loss: 0.0363 - val_accuracy: 0.9910\n",
            "Epoch 12/100\n",
            "185/188 [============================>.] - ETA: 0s - loss: 0.0077 - accuracy: 0.9974\n",
            "Epoch 12: val_loss did not improve from 0.03475\n",
            "188/188 [==============================] - 1s 7ms/step - loss: 0.0077 - accuracy: 0.9974 - val_loss: 0.0430 - val_accuracy: 0.9898\n",
            "Epoch 13/100\n",
            "187/188 [============================>.] - ETA: 0s - loss: 0.0093 - accuracy: 0.9968\n",
            "Epoch 13: val_loss did not improve from 0.03475\n",
            "188/188 [==============================] - 2s 10ms/step - loss: 0.0094 - accuracy: 0.9968 - val_loss: 0.0378 - val_accuracy: 0.9898\n",
            "Epoch 14/100\n",
            "182/188 [============================>.] - ETA: 0s - loss: 0.0058 - accuracy: 0.9981\n",
            "Epoch 14: val_loss did not improve from 0.03475\n",
            "188/188 [==============================] - 2s 9ms/step - loss: 0.0059 - accuracy: 0.9981 - val_loss: 0.0395 - val_accuracy: 0.9892\n",
            "Epoch 15/100\n",
            "184/188 [============================>.] - ETA: 0s - loss: 0.0062 - accuracy: 0.9980\n",
            "Epoch 15: val_loss did not improve from 0.03475\n",
            "188/188 [==============================] - 2s 9ms/step - loss: 0.0062 - accuracy: 0.9980 - val_loss: 0.0397 - val_accuracy: 0.9912\n",
            "Epoch 16/100\n",
            "183/188 [============================>.] - ETA: 0s - loss: 0.0068 - accuracy: 0.9975\n",
            "Epoch 16: val_loss did not improve from 0.03475\n",
            "188/188 [==============================] - 2s 8ms/step - loss: 0.0068 - accuracy: 0.9975 - val_loss: 0.0454 - val_accuracy: 0.9888\n",
            "Epoch 17/100\n",
            "182/188 [============================>.] - ETA: 0s - loss: 0.0054 - accuracy: 0.9980Restoring model weights from the end of the best epoch: 7.\n",
            "\n",
            "Epoch 17: val_loss did not improve from 0.03475\n",
            "188/188 [==============================] - 1s 8ms/step - loss: 0.0056 - accuracy: 0.9979 - val_loss: 0.0461 - val_accuracy: 0.9883\n",
            "Epoch 17: early stopping\n"
          ]
        }
      ]
    },
    {
      "cell_type": "code",
      "source": [
        "history_dict = history.history"
      ],
      "metadata": {
        "id": "_qHIKyx1_q6f"
      },
      "execution_count": null,
      "outputs": []
    },
    {
      "cell_type": "code",
      "source": [
        "history_dict.keys()"
      ],
      "metadata": {
        "id": "4LDSGqK6_v0v",
        "colab": {
          "base_uri": "https://localhost:8080/"
        },
        "outputId": "78df260c-169b-4c48-8cd5-fddc813f4898"
      },
      "execution_count": null,
      "outputs": [
        {
          "output_type": "execute_result",
          "data": {
            "text/plain": [
              "dict_keys(['loss', 'accuracy', 'val_loss', 'val_accuracy'])"
            ]
          },
          "metadata": {},
          "execution_count": 31
        }
      ]
    },
    {
      "cell_type": "code",
      "source": [
        "train_loss, val_loss = history_dict['loss'], history_dict['val_loss']\n",
        "train_acc, val_acc = history_dict['accuracy'], history_dict['val_accuracy']"
      ],
      "metadata": {
        "id": "v17KERUy_zSj"
      },
      "execution_count": null,
      "outputs": []
    },
    {
      "cell_type": "code",
      "source": [
        "plt.figure(figsize=(12, 6))\n",
        "plt.plot(train_loss, label='Train loss')\n",
        "plt.plot(val_loss, label='Validation loss')\n",
        "plt.legend()\n",
        "plt.show()"
      ],
      "metadata": {
        "id": "R4Aq1oPUr79k",
        "colab": {
          "base_uri": "https://localhost:8080/",
          "height": 522
        },
        "outputId": "6f2c0bfc-6e7c-416a-d871-04f894beafc7"
      },
      "execution_count": null,
      "outputs": [
        {
          "output_type": "display_data",
          "data": {
            "text/plain": [
              "<Figure size 1200x600 with 1 Axes>"
            ],
            "image/png": "[encoded data removed]"
          },
          "metadata": {}
        }
      ]
    },
    {
      "cell_type": "code",
      "source": [
        "plt.figure(figsize=(12, 6))\n",
        "plt.plot(train_acc, label=' Train accuracy')\n",
        "plt.plot(val_acc, label='Validation accuracy')\n",
        "plt.legend()\n",
        "plt.show()"
      ],
      "metadata": {
        "id": "BnBcCo2yr_gB",
        "colab": {
          "base_uri": "https://localhost:8080/",
          "height": 522
        },
        "outputId": "5f4faf5a-0126-4f07-e0a0-6eadb0e98baa"
      },
      "execution_count": null,
      "outputs": [
        {
          "output_type": "display_data",
          "data": {
            "text/plain": [
              "<Figure size 1200x600 with 1 Axes>"
            ],
            "image/png": "[encoded data removed]"
          },
          "metadata": {}
        }
      ]
    },
    {
      "cell_type": "markdown",
      "source": [
        "#5. Model Evaluation"
      ],
      "metadata": {
        "id": "noqp3zD5EAEN"
      }
    },
    {
      "cell_type": "code",
      "source": [
        "best_model = create_CNN_model()\n",
        "best_model.load_weights(checkpoint_path)\n",
        "loss, acc = best_model.evaluate(X_test, y_test_label ,verbose=1)\n",
        "print(f\"Loss: {round(loss, 4)}\\nAccuracy: {round(acc, 4)}\")"
      ],
      "metadata": {
        "id": "geKrZreOsQWH",
        "colab": {
          "base_uri": "https://localhost:8080/"
        },
        "outputId": "62739b00-61a5-42c5-e758-16ce17c10c58"
      },
      "execution_count": null,
      "outputs": [
        {
          "output_type": "stream",
          "name": "stdout",
          "text": [
            "313/313 [==============================] - 1s 3ms/step - loss: 0.0246 - accuracy: 0.9919\n",
            "Loss: 0.0246\n",
            "Accuracy: 0.9919\n"
          ]
        }
      ]
    },
    {
      "cell_type": "code",
      "source": [
        "y_proba = best_model.predict(X_test)"
      ],
      "metadata": {
        "id": "pt-7ESMJFTr0",
        "colab": {
          "base_uri": "https://localhost:8080/"
        },
        "outputId": "c62802e0-c9c7-48d8-81a0-34c308812ef1"
      },
      "execution_count": null,
      "outputs": [
        {
          "output_type": "stream",
          "name": "stdout",
          "text": [
            "313/313 [==============================] - 1s 2ms/step\n"
          ]
        }
      ]
    },
    {
      "cell_type": "code",
      "source": [
        "X_simple=X_test[5]\n",
        "X_simple=X_simple.reshape(1, X_simple.shape[0], X_simple.shape[1], X_simple.shape[2])\n",
        "y_pred=best_model.predict(X_simple)\n",
        "print(y_pred)\n",
        "y_pred_idx=np.argmax(y_pred)\n",
        "print(y_pred_idx)"
      ],
      "metadata": {
        "colab": {
          "base_uri": "https://localhost:8080/"
        },
        "id": "VRF0GChU0rkf",
        "outputId": "9ce5e11e-fd4f-4553-f522-52efbc78dc4b"
      },
      "execution_count": null,
      "outputs": [
        {
          "output_type": "stream",
          "name": "stdout",
          "text": [
            "1/1 [==============================] - 0s 66ms/step\n",
            "[[1.09500256e-07 9.99991417e-01 1.27602632e-07 2.05012521e-10\n",
            "  1.94354834e-06 5.91648552e-09 7.71834685e-09 6.20394667e-06\n",
            "  1.11854355e-07 1.67629921e-07]]\n",
            "1\n"
          ]
        }
      ]
    },
    {
      "cell_type": "code",
      "source": [
        "plot_data(X_test, y_test, y_proba)"
      ],
      "metadata": {
        "id": "ZFLezcZvL_a8",
        "colab": {
          "base_uri": "https://localhost:8080/",
          "height": 594
        },
        "outputId": "c0de0ed0-4503-4268-8beb-df2c46b67879"
      },
      "execution_count": null,
      "outputs": [
        {
          "output_type": "display_data",
          "data": {
            "text/plain": [
              "<Figure size 1000x600 with 8 Axes>"
            ],
            "image/png": "[encoded data removed]"
          },
          "metadata": {}
        }
      ]
    },
    {
      "cell_type": "code",
      "source": [
        "from sklearn.metrics import precision_score, recall_score, f1_score, confusion_matrix\n",
        "\n",
        "def calculate_metrics(y_true, y_pred):\n",
        "    # Tính toán precision, recall và F1 cho từng nhãn\n",
        "    precision = precision_score(y_true, y_pred, average=None)\n",
        "    recall = recall_score(y_true, y_pred, average=None)\n",
        "    f1 = f1_score(y_true, y_pred, average=None)\n",
        "\n",
        "    return precision, recall, f1\n",
        "\n",
        "y_true_label = np.argmax(y_test_label, axis=1)\n",
        "y_proba_label = np.argmax(y_proba, axis=1)\n",
        "\n",
        "# Tính toán các chỉ số đánh giá hiệu suất\n",
        "precision, recall, f1 = calculate_metrics(y_true_label, y_proba_label)\n",
        "\n",
        "# In kết quả\n",
        "print(\"Confussion Matrix: \\n\", confusion_matrix(y_true_label, y_proba_label),\"\\n\")\n",
        "for i in range(len(precision)):\n",
        "    print(f\"Label {i} - Precision: {precision[i]}, Recall: {recall[i]}, F1: {f1[i]}\")\n"
      ],
      "metadata": {
        "id": "ga0Rx6fStk0P",
        "colab": {
          "base_uri": "https://localhost:8080/"
        },
        "outputId": "76f9b995-0f81-4bdf-f13b-426cc1df9276"
      },
      "execution_count": null,
      "outputs": [
        {
          "output_type": "stream",
          "name": "stdout",
          "text": [
            "Confussion Matrix: \n",
            " [[ 978    0    0    0    0    0    0    1    1    0]\n",
            " [   0 1129    0    1    0    0    1    4    0    0]\n",
            " [   1    0 1024    0    1    0    0    5    1    0]\n",
            " [   0    0    2 1006    0    2    0    0    0    0]\n",
            " [   0    1    0    1  974    0    0    1    0    5]\n",
            " [   2    0    1    7    0  880    1    0    0    1]\n",
            " [   3    2    0    0    3    1  948    0    1    0]\n",
            " [   0    1    1    0    0    0    0 1025    1    0]\n",
            " [   3    1    3    3    0    0    2    3  957    2]\n",
            " [   0    1    0    0    4    5    0    6    1  992]] \n",
            "\n",
            "Label 0 - Precision: 0.9908814589665653, Recall: 0.9979591836734694, F1: 0.9944077275038129\n",
            "Label 1 - Precision: 0.9947136563876652, Recall: 0.9947136563876652, F1: 0.9947136563876652\n",
            "Label 2 - Precision: 0.9932104752667313, Recall: 0.9922480620155039, F1: 0.9927290353853612\n",
            "Label 3 - Precision: 0.9882121807465619, Recall: 0.996039603960396, F1: 0.9921104536489151\n",
            "Label 4 - Precision: 0.9918533604887984, Recall: 0.9918533604887984, F1: 0.9918533604887984\n",
            "Label 5 - Precision: 0.990990990990991, Recall: 0.9865470852017937, F1: 0.9887640449438202\n",
            "Label 6 - Precision: 0.9957983193277311, Recall: 0.9895615866388309, F1: 0.9926701570680627\n",
            "Label 7 - Precision: 0.9808612440191388, Recall: 0.9970817120622568, F1: 0.9889049686444766\n",
            "Label 8 - Precision: 0.9948024948024948, Recall: 0.9825462012320328, F1: 0.9886363636363636\n",
            "Label 9 - Precision: 0.992, Recall: 0.9831516352824579, F1: 0.9875559980089598\n"
          ]
        }
      ]
    }
  ]
}