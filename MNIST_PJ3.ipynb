{
  "nbformat": 4,
  "nbformat_minor": 0,
  "metadata": {
    "colab": {
      "provenance": [],
      "gpuType": "T4",
      "include_colab_link": true
    },
    "kernelspec": {
      "name": "python3",
      "display_name": "Python 3"
    },
    "language_info": {
      "name": "python"
    },
    "accelerator": "GPU"
  },
  "cells": [
    {
      "cell_type": "markdown",
      "metadata": {
        "id": "view-in-github",
        "colab_type": "text"
      },
      "source": [
        "<a href=\"https://colab.research.google.com/github/NguyenVanHien8502/image-classification/blob/main/MNIST_PJ3.ipynb\" target=\"_parent\"><img src=\"https://colab.research.google.com/assets/colab-badge.svg\" alt=\"Open In Colab\"/></a>"
      ]
    },
    {
      "cell_type": "markdown",
      "source": [
        "#Mount google drive"
      ],
      "metadata": {
        "id": "CWK2xUsO29KS"
      }
    },
    {
      "cell_type": "code",
      "source": [
        "from google.colab import drive\n",
        "drive.mount(\"/content/drive/\")"
      ],
      "metadata": {
        "id": "6HzFPKTHyaqr",
        "colab": {
          "base_uri": "https://localhost:8080/"
        },
        "outputId": "51dfccc7-cd78-4fdc-e472-cf97e35a6749"
      },
      "execution_count": 1,
      "outputs": [
        {
          "output_type": "stream",
          "name": "stdout",
          "text": [
            "Mounted at /content/drive/\n"
          ]
        }
      ]
    },
    {
      "cell_type": "markdown",
      "source": [
        "# Import libraries"
      ],
      "metadata": {
        "id": "exRFQDSVO-Wr"
      }
    },
    {
      "cell_type": "code",
      "source": [
        "import matplotlib.pyplot as plt\n",
        "import numpy as np\n",
        "import random\n",
        "import struct\n",
        "import gzip\n",
        "\n",
        "import tensorflow as tf\n",
        "from tensorflow import keras\n",
        "from keras.api._v2.keras import layers\n"
      ],
      "metadata": {
        "id": "1Q2MZkEQI98T"
      },
      "execution_count": 2,
      "outputs": []
    },
    {
      "cell_type": "markdown",
      "source": [
        "#1. Load Data from file .gz"
      ],
      "metadata": {
        "id": "s1ez2hxyIfeC"
      }
    },
    {
      "cell_type": "code",
      "source": [
        "#Load image train\n",
        "filename = '/content/drive/MyDrive/Colab_Notebooks/train-images-idx3-ubyte.gz'\n",
        "\n",
        "with gzip.open(filename, 'rb') as f:\n",
        "    magic, size = struct.unpack(\">II\", f.read(8))\n",
        "    nrows, ncols = struct.unpack(\">II\", f.read(8))\n",
        "    X_train = np.frombuffer(f.read(), dtype=np.uint8)\n",
        "    X_train = X_train.reshape(size, nrows, ncols)"
      ],
      "metadata": {
        "id": "BgDoq6AvIbnO"
      },
      "execution_count": 3,
      "outputs": []
    },
    {
      "cell_type": "code",
      "source": [
        "#Load label train\n",
        "filename = '/content/drive/MyDrive/Colab_Notebooks/train-labels-idx1-ubyte.gz'\n",
        "\n",
        "with gzip.open(filename, 'rb') as f:\n",
        "    magic, size = struct.unpack(\">II\", f.read(8))\n",
        "    y_train = np.frombuffer(f.read(), dtype=np.uint8)\n",
        "    y_train = y_train.reshape((size,))"
      ],
      "metadata": {
        "id": "wa4sHHQtJU_3"
      },
      "execution_count": 4,
      "outputs": []
    },
    {
      "cell_type": "code",
      "source": [
        "#Load image test\n",
        "filename = '/content/drive/MyDrive/Colab_Notebooks/t10k-images-idx3-ubyte.gz'\n",
        "\n",
        "with gzip.open(filename, 'rb') as f:\n",
        "    magic, size = struct.unpack(\">II\", f.read(8))\n",
        "    nrows, ncols = struct.unpack(\">II\", f.read(8))\n",
        "    X_test = np.frombuffer(f.read(), dtype=np.uint8)\n",
        "    X_test = X_test.reshape(size, nrows, ncols)"
      ],
      "metadata": {
        "id": "NH1x6DE5OduG"
      },
      "execution_count": 5,
      "outputs": []
    },
    {
      "cell_type": "code",
      "source": [
        "#Load label test\n",
        "filename = '/content/drive/MyDrive/Colab_Notebooks/t10k-labels-idx1-ubyte.gz'\n",
        "\n",
        "with gzip.open(filename, 'rb') as f:\n",
        "    magic, size = struct.unpack(\">II\", f.read(8))\n",
        "    y_test = np.frombuffer(f.read(), dtype=np.uint8)\n",
        "    y_test = y_test.reshape((size,))"
      ],
      "metadata": {
        "id": "HzEn1F0bOguL"
      },
      "execution_count": 6,
      "outputs": []
    },
    {
      "cell_type": "markdown",
      "source": [
        "#2. Check data"
      ],
      "metadata": {
        "id": "mBQiPaPTO2pz"
      }
    },
    {
      "cell_type": "code",
      "source": [
        "X_train.shape, y_train.shape"
      ],
      "metadata": {
        "colab": {
          "base_uri": "https://localhost:8080/"
        },
        "id": "uSZDwjDrKirT",
        "outputId": "d9ebe7be-4735-4316-a90b-3bc53f9f5b12"
      },
      "execution_count": 7,
      "outputs": [
        {
          "output_type": "execute_result",
          "data": {
            "text/plain": [
              "((60000, 28, 28), (60000,))"
            ]
          },
          "metadata": {},
          "execution_count": 7
        }
      ]
    },
    {
      "cell_type": "code",
      "source": [
        "type(X_train), type(y_train)"
      ],
      "metadata": {
        "colab": {
          "base_uri": "https://localhost:8080/"
        },
        "id": "gsYdr5lvLfR9",
        "outputId": "3fa2a156-6616-4880-936a-d2438e5509f0"
      },
      "execution_count": 8,
      "outputs": [
        {
          "output_type": "execute_result",
          "data": {
            "text/plain": [
              "(numpy.ndarray, numpy.ndarray)"
            ]
          },
          "metadata": {},
          "execution_count": 8
        }
      ]
    },
    {
      "cell_type": "code",
      "source": [
        "X_train.dtype, y_train.dtype"
      ],
      "metadata": {
        "colab": {
          "base_uri": "https://localhost:8080/"
        },
        "id": "sWpDfup9MDn5",
        "outputId": "fc5d4ea4-3a1e-4280-8618-3fd8a25a60e4"
      },
      "execution_count": 9,
      "outputs": [
        {
          "output_type": "execute_result",
          "data": {
            "text/plain": [
              "(dtype('uint8'), dtype('uint8'))"
            ]
          },
          "metadata": {},
          "execution_count": 9
        }
      ]
    },
    {
      "cell_type": "code",
      "source": [
        "class_names = [\"Number 0\", \"Number 1\", \"Number 2\", \"Number 3\", \"Number 4\", \"Number 5\", \"Number 6\", \"Number 7\", \"Number 8\", \"Number 9\"]\n",
        "class_nums = len(class_names)"
      ],
      "metadata": {
        "id": "LEhTDHHAPQEb"
      },
      "execution_count": 10,
      "outputs": []
    },
    {
      "cell_type": "code",
      "source": [
        "plt.imshow(X_train[0,:,:], cmap='gray')\n",
        "plt.xticks([])\n",
        "plt.yticks([])\n",
        "plt.show()\n",
        "print(f\"Label: {class_names[y_train[0]]}\")"
      ],
      "metadata": {
        "colab": {
          "base_uri": "https://localhost:8080/",
          "height": 441
        },
        "id": "rg_hSPmLJesd",
        "outputId": "7ed49a3c-501f-44f9-e225-25ae70eb6fe4"
      },
      "execution_count": 46,
      "outputs": [
        {
          "output_type": "display_data",
          "data": {
            "text/plain": [
              "<Figure size 640x480 with 1 Axes>"
            ],
            "image/png": "[encoded data removed]"
          },
          "metadata": {}
        },
        {
          "output_type": "stream",
          "name": "stdout",
          "text": [
            "Label: Number 5 \n",
            " 5\n"
          ]
        }
      ]
    },
    {
      "cell_type": "code",
      "source": [
        "from typing import Optional\n",
        "def plot_data(x_data: np.ndarray, y_data:np.ndarray, y_proba: Optional[np.ndarray] = None)->None:\n",
        "  nrows, ncols=2, 4\n",
        "  fig, axes = plt.subplots(nrows, ncols, figsize=(10,6))\n",
        "\n",
        "  len_x = x_data.shape[0]\n",
        "  for idx in range(nrows*ncols):\n",
        "    ax = axes[idx // ncols, idx % ncols]\n",
        "    img_idx = random.randint(0, len_x)\n",
        "    ax.imshow(x_data[img_idx], cmap='gray')\n",
        "    ax.set(xticks=[], yticks=[])\n",
        "    color = 'green'\n",
        "\n",
        "    true_label_str = f\"True: {class_names[y_data[img_idx]]}\"\n",
        "\n",
        "    if y_proba is not None:\n",
        "      predicted_idx = np.argmax(y_proba[img_idx])\n",
        "      predicted_label = class_names[predicted_idx]\n",
        "      color = 'red' if predicted_idx != y_data[img_idx] else color\n",
        "      predicted_label_str = f\"\\nPredicted: {predicted_label}\"\n",
        "\n",
        "    img_title = true_label_str if y_proba is None else true_label_str + predicted_label_str\n",
        "    ax.set_xlabel(img_title, color=color, fontsize=12)\n",
        "\n",
        "  plt.tight_layout()\n",
        "  plt.show()"
      ],
      "metadata": {
        "id": "tOGmgKhYIfHk"
      },
      "execution_count": 12,
      "outputs": []
    },
    {
      "cell_type": "code",
      "source": [
        "plot_data(X_train, y_train)"
      ],
      "metadata": {
        "id": "SobNfrUh-O_5",
        "colab": {
          "base_uri": "https://localhost:8080/",
          "height": 573
        },
        "outputId": "acb011c9-6e8c-4927-e5ad-4444e258bdb2"
      },
      "execution_count": 13,
      "outputs": [
        {
          "output_type": "display_data",
          "data": {
            "text/plain": [
              "<Figure size 1000x600 with 8 Axes>"
            ],
            "image/png": "[encoded data removed]"
          },
          "metadata": {}
        }
      ]
    },
    {
      "cell_type": "code",
      "source": [
        "plot_data(X_test, y_test)"
      ],
      "metadata": {
        "id": "-D_VUpiJ-QyS",
        "colab": {
          "base_uri": "https://localhost:8080/",
          "height": 573
        },
        "outputId": "169219de-4df8-45bd-8c74-8df98278bc4a"
      },
      "execution_count": 14,
      "outputs": [
        {
          "output_type": "display_data",
          "data": {
            "text/plain": [
              "<Figure size 1000x600 with 8 Axes>"
            ],
            "image/png": "[encoded data removed]"
          },
          "metadata": {}
        }
      ]
    },
    {
      "cell_type": "markdown",
      "source": [
        "#3. Image Pre-processing"
      ],
      "metadata": {
        "id": "TtgvQznD-hil"
      }
    },
    {
      "cell_type": "code",
      "source": [
        "# Convert to float32 (tăng tốc quá trình tính toán) & scale images to the [0,1] range for training (giúp mô hình học tốt hơn)\n",
        "# => cải thiện hiệu suất và tính ổn định của mô hình\n",
        "X_train=X_train.astype(np.float32) / 255\n",
        "X_test=X_test.astype(np.float32) / 255"
      ],
      "metadata": {
        "id": "6i-oVUbx-l9_"
      },
      "execution_count": 15,
      "outputs": []
    },
    {
      "cell_type": "code",
      "source": [
        "X_train.shape, X_train.dtype"
      ],
      "metadata": {
        "colab": {
          "base_uri": "https://localhost:8080/"
        },
        "id": "T7HoiyBH_bho",
        "outputId": "cd04589e-1dec-4d33-eb8e-4eb4d23f8cae"
      },
      "execution_count": 16,
      "outputs": [
        {
          "output_type": "execute_result",
          "data": {
            "text/plain": [
              "((60000, 28, 28), dtype('float32'))"
            ]
          },
          "metadata": {},
          "execution_count": 16
        }
      ]
    },
    {
      "cell_type": "code",
      "source": [
        "X_test.shape, X_test.dtype"
      ],
      "metadata": {
        "colab": {
          "base_uri": "https://localhost:8080/"
        },
        "id": "BRxyPFkg_2qP",
        "outputId": "d9ccaa11-43ed-45bb-e134-6ee444124e9b"
      },
      "execution_count": 17,
      "outputs": [
        {
          "output_type": "execute_result",
          "data": {
            "text/plain": [
              "((10000, 28, 28), dtype('float32'))"
            ]
          },
          "metadata": {},
          "execution_count": 17
        }
      ]
    },
    {
      "cell_type": "code",
      "source": [
        "#Make sure images have shape (60000, 28, 28) => (60000, 28, 28, 1) (do dữ liệu của tensorflow thì có 4 thuộc tính: samples, height, width, channels)\n",
        "X_train = np.expand_dims(X_train, axis=-1)\n",
        "X_test = np.expand_dims(X_test, axis=-1)"
      ],
      "metadata": {
        "id": "-4MGSkKAA9aG"
      },
      "execution_count": 18,
      "outputs": []
    },
    {
      "cell_type": "code",
      "source": [
        "X_train.shape, X_train.dtype"
      ],
      "metadata": {
        "colab": {
          "base_uri": "https://localhost:8080/"
        },
        "id": "KEDAm3IABWNp",
        "outputId": "71b4fe78-7a7e-4359-b760-ed86f46ed991"
      },
      "execution_count": 19,
      "outputs": [
        {
          "output_type": "execute_result",
          "data": {
            "text/plain": [
              "((60000, 28, 28, 1), dtype('float32'))"
            ]
          },
          "metadata": {},
          "execution_count": 19
        }
      ]
    },
    {
      "cell_type": "code",
      "source": [
        "X_test.shape, X_test.dtype"
      ],
      "metadata": {
        "colab": {
          "base_uri": "https://localhost:8080/"
        },
        "id": "CDz-0JN4BXhX",
        "outputId": "09ec7283-7ffb-4464-ebe4-2e9cb2e18a71"
      },
      "execution_count": 20,
      "outputs": [
        {
          "output_type": "execute_result",
          "data": {
            "text/plain": [
              "((10000, 28, 28, 1), dtype('float32'))"
            ]
          },
          "metadata": {},
          "execution_count": 20
        }
      ]
    },
    {
      "cell_type": "code",
      "source": [
        "#convert class vector to binary class matrics: 1 => [0 1 0 0 ...] (dạng one-hot encoding)\n",
        "#1 => sparse_categorical_crossentropy\n",
        "#[0 1 0 0 ...] => categorical_crossentropy\n",
        "#Tại sao phải đổi về dạng one-hot encoding: Phù hợp với softmax activation, Thuận lợi cho hàm mất mát categorical_crossentropy, Tạo ổn định cho quá trình học\n",
        "\n",
        "y_train_label = keras.utils.to_categorical(y_train, class_nums)\n",
        "y_test_label = keras.utils.to_categorical(y_test, class_nums)"
      ],
      "metadata": {
        "id": "F6XsRf3ICM-e"
      },
      "execution_count": 21,
      "outputs": []
    },
    {
      "cell_type": "code",
      "source": [
        "y_train[0], y_train_label[0]"
      ],
      "metadata": {
        "colab": {
          "base_uri": "https://localhost:8080/"
        },
        "id": "0ZC9jIjPC0KF",
        "outputId": "c9ebb016-41b7-47fb-c0c3-2c7ce9f66097"
      },
      "execution_count": 22,
      "outputs": [
        {
          "output_type": "execute_result",
          "data": {
            "text/plain": [
              "(5, array([0., 0., 0., 0., 0., 1., 0., 0., 0., 0.], dtype=float32))"
            ]
          },
          "metadata": {},
          "execution_count": 22
        }
      ]
    },
    {
      "cell_type": "markdown",
      "source": [
        "#4. Network (CNN) Architecture"
      ],
      "metadata": {
        "id": "swV623sLC-QT"
      }
    },
    {
      "cell_type": "code",
      "source": [
        "input_shape = (28, 28, 1)"
      ],
      "metadata": {
        "id": "crtnskpmEM8p"
      },
      "execution_count": 23,
      "outputs": []
    },
    {
      "cell_type": "code",
      "source": [
        "#Using ANN to predict\n",
        "# model = keras.models.Sequential([\n",
        "#     layers.Flatten(input_shape = input_shape), #(28, 28, 1)->vector 1 chiều (28*28)\n",
        "#     layers.Dense(512, activation='relu'), #tìm hiểu về hàm relu: trả về chính giá trị đầu vào nếu nó lớn hơn 0, trả về 0 nếu nó nhỏ hơn hoặc bằng 0 => hàm này đóng vai trò bộ lọc, bỏ đi các giá trị nhỏ hơn hoặc bằng 0\n",
        "#     layers.Dense(256, activation='relu'),\n",
        "#     layers.Dense(class_nums, activation='softmax'), #tìm hiểu về hàm softmax: chọn ra giá trị lớn nhất trong tập bộ số: trả về giá trị bằng 1 cho số lớn nhất, bằng 0 cho các số còn lại => tìm y_predict dễ dàng, đỡ phải so sánh\n",
        "#     ])\n",
        "\n",
        "# Tại sao phải dùng hàm tác động activation: tại vì cái input từ layers trên xuống layers dưới mặc định là linear, nên dùng activation function để non-linear thì mới có model tốt\n",
        "# Tại sao dùng hàm softmax: biến các output thành các vector có tổng = 1\n",
        "\n",
        "# Số chanel của filter bằng số chanel của input\n",
        "# Có bao nhiêu filters thì output có bấy nhiêu chanels\n",
        "\n",
        "# Tại sao dùng maxpooling mà không dùng average pooling: vì max-pooling mới làm nổi bật lên cái feature rõ ràng nhất, lấy được cái thông tin nổi bật nhất\n",
        "# còn average-pooling thì nó tính trung bình các feature nên không lấy được các feature nổi bật nhất\n",
        "\n",
        "# Tại sao phải dùng mạng CNN: vì mạng CNN giúp giảm số lượng tham số đi 1 lượng khá đáng kể\n",
        "# Tại sao chỉ cần dùng filter có kích thước nhỏ như 3*3: vì các cạnh trong ảnh được định nghĩa, tạo ra bởi các input gần nhau\n",
        "\n",
        "#Using CNN to predict\n",
        "def create_CNN_model():\n",
        "  model = keras.models.Sequential([\n",
        "      layers.Conv2D(filters=32, kernel_size=(3,3), activation='relu', input_shape=input_shape),\n",
        "      layers.MaxPool2D(pool_size=(2,2)),\n",
        "      layers.Conv2D(filters=64, kernel_size=(3,3), activation='relu'),\n",
        "      layers.MaxPool2D(pool_size=(2,2)),\n",
        "      layers.Conv2D(filters=128, kernel_size=(3,3), activation='relu'),\n",
        "      layers.Flatten(), #chuyển từ đầu vào có các chiều (3D) sang đầu ra là một vector (1D).\n",
        "      layers.Dense(128, activation='relu'), #lớp fully connected\n",
        "      layers.Dense(class_nums, activation='softmax')\n",
        "  ])\n",
        "  model.compile(optimizer='adam', #sử dụng thuật toán tối ưu hóa Adam để cập nhật trọng số của mô hình\n",
        "                loss='categorical_crossentropy',\n",
        "                metrics='accuracy')\n",
        "  return model"
      ],
      "metadata": {
        "id": "ycSo7HZ0DTiM"
      },
      "execution_count": 24,
      "outputs": []
    },
    {
      "cell_type": "code",
      "source": [
        "basic_CNN_model = create_CNN_model()"
      ],
      "metadata": {
        "id": "9Qvj37Kf7ZjP"
      },
      "execution_count": 25,
      "outputs": []
    },
    {
      "cell_type": "code",
      "source": [
        "basic_CNN_model.summary()"
      ],
      "metadata": {
        "colab": {
          "base_uri": "https://localhost:8080/"
        },
        "id": "YkMGrLMCp2rS",
        "outputId": "95d6efbc-d0c2-4f8b-d3ef-e712bf003bcb"
      },
      "execution_count": 26,
      "outputs": [
        {
          "output_type": "stream",
          "name": "stdout",
          "text": [
            "Model: \"sequential\"\n",
            "_________________________________________________________________\n",
            " Layer (type)                Output Shape              Param #   \n",
            "=================================================================\n",
            " conv2d (Conv2D)             (None, 26, 26, 32)        320       \n",
            "                                                                 \n",
            " max_pooling2d (MaxPooling2  (None, 13, 13, 32)        0         \n",
            " D)                                                              \n",
            "                                                                 \n",
            " conv2d_1 (Conv2D)           (None, 11, 11, 64)        18496     \n",
            "                                                                 \n",
            " max_pooling2d_1 (MaxPoolin  (None, 5, 5, 64)          0         \n",
            " g2D)                                                            \n",
            "                                                                 \n",
            " conv2d_2 (Conv2D)           (None, 3, 3, 128)         73856     \n",
            "                                                                 \n",
            " flatten (Flatten)           (None, 1152)              0         \n",
            "                                                                 \n",
            " dense (Dense)               (None, 128)               147584    \n",
            "                                                                 \n",
            " dense_1 (Dense)             (None, 10)                1290      \n",
            "                                                                 \n",
            "=================================================================\n",
            "Total params: 241546 (943.54 KB)\n",
            "Trainable params: 241546 (943.54 KB)\n",
            "Non-trainable params: 0 (0.00 Byte)\n",
            "_________________________________________________________________\n"
          ]
        }
      ]
    },
    {
      "cell_type": "code",
      "source": [
        "import os\n",
        "from keras.callbacks import EarlyStopping\n",
        "from keras.callbacks import ModelCheckpoint\n",
        "\n",
        "def call_back(checkpoint_path):\n",
        "  early_stopping_callback = EarlyStopping(\n",
        "      patience=10,  # Số epochs không có cải thiện trước khi dừng huấn luyện\n",
        "      monitor='val_loss',  # Theo dõi giá trị validation loss để quyết định có cải thiện hay không\n",
        "      restore_best_weights=True,  # Sau khi dừng, khôi phục trọng số của model tại epoch có validation loss tốt nhất\n",
        "      verbose=1\n",
        "  )\n",
        "  checkpoint_callback = ModelCheckpoint(\n",
        "      filepath=checkpoint_path,\n",
        "      save_weights_only=True,  # Chỉ lưu trọng số, không lưu toàn bộ mô hình.\n",
        "      monitor='val_loss',  # Theo dõi giá trị validation loss để quyết định khi nào lưu trọng số\n",
        "      save_best_only=True,  # Chỉ lưu trọng số của mô hình có giá trị validation loss tốt nhất trên 'monitor'\n",
        "      mode='min',  # Theo dõi theo chiều giảm của 'monitor'\n",
        "      verbose=1  # Hiển thị thông báo khi lưu model\n",
        "  )\n",
        "\n",
        "  return early_stopping_callback, checkpoint_callback"
      ],
      "metadata": {
        "id": "EbLKeP50p6WU"
      },
      "execution_count": 27,
      "outputs": []
    },
    {
      "cell_type": "code",
      "source": [
        "checkpoint_path = \"/content/drive/MyDrive/Colab_Notebooks/model_saver/basic_CNN_weight.cp\"\n",
        "checkpoint_dir = os.path.dirname(checkpoint_path)\n",
        "early_stopping_callback, checkpoint_callback = call_back(checkpoint_path=checkpoint_path)"
      ],
      "metadata": {
        "id": "3Wyuw-W8qGiX"
      },
      "execution_count": 28,
      "outputs": []
    },
    {
      "cell_type": "code",
      "source": [
        "epochs = 100\n",
        "batch_size = 128"
      ],
      "metadata": {
        "id": "K7l3SUdG96q5"
      },
      "execution_count": 29,
      "outputs": []
    },
    {
      "cell_type": "code",
      "source": [
        "history = basic_CNN_model.fit(X_train, y_train_label,\n",
        "          epochs=epochs,\n",
        "          batch_size=batch_size,\n",
        "          validation_split=0.2,\n",
        "          callbacks = [early_stopping_callback, checkpoint_callback]\n",
        "          )"
      ],
      "metadata": {
        "id": "VDcBAj1_q_gZ",
        "colab": {
          "base_uri": "https://localhost:8080/"
        },
        "outputId": "aaff62ac-8084-4a80-f11f-ff1e3dd12ad1"
      },
      "execution_count": 30,
      "outputs": [
        {
          "output_type": "stream",
          "name": "stdout",
          "text": [
            "Epoch 1/100\n",
            "369/375 [============================>.] - ETA: 0s - loss: 0.2371 - accuracy: 0.9295\n",
            "Epoch 1: val_loss improved from inf to 0.06697, saving model to /content/drive/MyDrive/Colab_Notebooks/model_saver/basic_CNN_weight.cp\n",
            "375/375 [==============================] - 13s 9ms/step - loss: 0.2343 - accuracy: 0.9303 - val_loss: 0.0670 - val_accuracy: 0.9803\n",
            "Epoch 2/100\n",
            "365/375 [============================>.] - ETA: 0s - loss: 0.0542 - accuracy: 0.9832\n",
            "Epoch 2: val_loss improved from 0.06697 to 0.05389, saving model to /content/drive/MyDrive/Colab_Notebooks/model_saver/basic_CNN_weight.cp\n",
            "375/375 [==============================] - 2s 5ms/step - loss: 0.0543 - accuracy: 0.9833 - val_loss: 0.0539 - val_accuracy: 0.9845\n",
            "Epoch 3/100\n",
            "368/375 [============================>.] - ETA: 0s - loss: 0.0373 - accuracy: 0.9886\n",
            "Epoch 3: val_loss improved from 0.05389 to 0.04466, saving model to /content/drive/MyDrive/Colab_Notebooks/model_saver/basic_CNN_weight.cp\n",
            "375/375 [==============================] - 3s 8ms/step - loss: 0.0374 - accuracy: 0.9886 - val_loss: 0.0447 - val_accuracy: 0.9872\n",
            "Epoch 4/100\n",
            "371/375 [============================>.] - ETA: 0s - loss: 0.0288 - accuracy: 0.9906\n",
            "Epoch 4: val_loss did not improve from 0.04466\n",
            "375/375 [==============================] - 3s 7ms/step - loss: 0.0289 - accuracy: 0.9905 - val_loss: 0.0527 - val_accuracy: 0.9832\n",
            "Epoch 5/100\n",
            "372/375 [============================>.] - ETA: 0s - loss: 0.0235 - accuracy: 0.9927\n",
            "Epoch 5: val_loss improved from 0.04466 to 0.03797, saving model to /content/drive/MyDrive/Colab_Notebooks/model_saver/basic_CNN_weight.cp\n",
            "375/375 [==============================] - 2s 6ms/step - loss: 0.0234 - accuracy: 0.9927 - val_loss: 0.0380 - val_accuracy: 0.9893\n",
            "Epoch 6/100\n",
            "374/375 [============================>.] - ETA: 0s - loss: 0.0188 - accuracy: 0.9938\n",
            "Epoch 6: val_loss did not improve from 0.03797\n",
            "375/375 [==============================] - 2s 6ms/step - loss: 0.0188 - accuracy: 0.9938 - val_loss: 0.0495 - val_accuracy: 0.9867\n",
            "Epoch 7/100\n",
            "365/375 [============================>.] - ETA: 0s - loss: 0.0153 - accuracy: 0.9950\n",
            "Epoch 7: val_loss did not improve from 0.03797\n",
            "375/375 [==============================] - 2s 5ms/step - loss: 0.0153 - accuracy: 0.9950 - val_loss: 0.0406 - val_accuracy: 0.9890\n",
            "Epoch 8/100\n",
            "365/375 [============================>.] - ETA: 0s - loss: 0.0136 - accuracy: 0.9954\n",
            "Epoch 8: val_loss improved from 0.03797 to 0.03097, saving model to /content/drive/MyDrive/Colab_Notebooks/model_saver/basic_CNN_weight.cp\n",
            "375/375 [==============================] - 2s 5ms/step - loss: 0.0139 - accuracy: 0.9953 - val_loss: 0.0310 - val_accuracy: 0.9916\n",
            "Epoch 9/100\n",
            "375/375 [==============================] - ETA: 0s - loss: 0.0101 - accuracy: 0.9969\n",
            "Epoch 9: val_loss did not improve from 0.03097\n",
            "375/375 [==============================] - 2s 5ms/step - loss: 0.0101 - accuracy: 0.9969 - val_loss: 0.0350 - val_accuracy: 0.9918\n",
            "Epoch 10/100\n",
            "371/375 [============================>.] - ETA: 0s - loss: 0.0089 - accuracy: 0.9970\n",
            "Epoch 10: val_loss did not improve from 0.03097\n",
            "375/375 [==============================] - 3s 7ms/step - loss: 0.0089 - accuracy: 0.9970 - val_loss: 0.0354 - val_accuracy: 0.9908\n",
            "Epoch 11/100\n",
            "371/375 [============================>.] - ETA: 0s - loss: 0.0080 - accuracy: 0.9972\n",
            "Epoch 11: val_loss did not improve from 0.03097\n",
            "375/375 [==============================] - 3s 8ms/step - loss: 0.0081 - accuracy: 0.9972 - val_loss: 0.0399 - val_accuracy: 0.9896\n",
            "Epoch 12/100\n",
            "365/375 [============================>.] - ETA: 0s - loss: 0.0075 - accuracy: 0.9974\n",
            "Epoch 12: val_loss did not improve from 0.03097\n",
            "375/375 [==============================] - 2s 6ms/step - loss: 0.0077 - accuracy: 0.9974 - val_loss: 0.0337 - val_accuracy: 0.9912\n",
            "Epoch 13/100\n",
            "375/375 [==============================] - ETA: 0s - loss: 0.0070 - accuracy: 0.9974\n",
            "Epoch 13: val_loss did not improve from 0.03097\n",
            "375/375 [==============================] - 2s 5ms/step - loss: 0.0070 - accuracy: 0.9974 - val_loss: 0.0398 - val_accuracy: 0.9903\n",
            "Epoch 14/100\n",
            "371/375 [============================>.] - ETA: 0s - loss: 0.0056 - accuracy: 0.9979\n",
            "Epoch 14: val_loss did not improve from 0.03097\n",
            "375/375 [==============================] - 2s 6ms/step - loss: 0.0056 - accuracy: 0.9979 - val_loss: 0.0456 - val_accuracy: 0.9898\n",
            "Epoch 15/100\n",
            "368/375 [============================>.] - ETA: 0s - loss: 0.0065 - accuracy: 0.9979\n",
            "Epoch 15: val_loss did not improve from 0.03097\n",
            "375/375 [==============================] - 2s 6ms/step - loss: 0.0064 - accuracy: 0.9979 - val_loss: 0.0569 - val_accuracy: 0.9893\n",
            "Epoch 16/100\n",
            "368/375 [============================>.] - ETA: 0s - loss: 0.0059 - accuracy: 0.9983\n",
            "Epoch 16: val_loss did not improve from 0.03097\n",
            "375/375 [==============================] - 2s 6ms/step - loss: 0.0058 - accuracy: 0.9983 - val_loss: 0.0413 - val_accuracy: 0.9914\n",
            "Epoch 17/100\n",
            "375/375 [==============================] - ETA: 0s - loss: 0.0025 - accuracy: 0.9992\n",
            "Epoch 17: val_loss did not improve from 0.03097\n",
            "375/375 [==============================] - 3s 8ms/step - loss: 0.0025 - accuracy: 0.9992 - val_loss: 0.0415 - val_accuracy: 0.9919\n",
            "Epoch 18/100\n",
            "369/375 [============================>.] - ETA: 0s - loss: 0.0041 - accuracy: 0.9988Restoring model weights from the end of the best epoch: 8.\n",
            "\n",
            "Epoch 18: val_loss did not improve from 0.03097\n",
            "375/375 [==============================] - 3s 8ms/step - loss: 0.0042 - accuracy: 0.9987 - val_loss: 0.0550 - val_accuracy: 0.9880\n",
            "Epoch 18: early stopping\n"
          ]
        }
      ]
    },
    {
      "cell_type": "code",
      "source": [
        "history_dict = history.history"
      ],
      "metadata": {
        "id": "_qHIKyx1_q6f"
      },
      "execution_count": 31,
      "outputs": []
    },
    {
      "cell_type": "code",
      "source": [
        "history_dict.keys()"
      ],
      "metadata": {
        "colab": {
          "base_uri": "https://localhost:8080/"
        },
        "id": "4LDSGqK6_v0v",
        "outputId": "1df88fd8-8ef3-4749-97a0-f6093bb931ba"
      },
      "execution_count": 32,
      "outputs": [
        {
          "output_type": "execute_result",
          "data": {
            "text/plain": [
              "dict_keys(['loss', 'accuracy', 'val_loss', 'val_accuracy'])"
            ]
          },
          "metadata": {},
          "execution_count": 32
        }
      ]
    },
    {
      "cell_type": "code",
      "source": [
        "train_loss, val_loss = history_dict['loss'], history_dict['val_loss']\n",
        "train_acc, val_acc = history_dict['accuracy'], history_dict['val_accuracy']"
      ],
      "metadata": {
        "id": "v17KERUy_zSj"
      },
      "execution_count": 33,
      "outputs": []
    },
    {
      "cell_type": "code",
      "source": [
        "plt.figure(figsize=(12, 6))\n",
        "plt.plot(history.history['loss'], label='loss')\n",
        "plt.plot(history.history['val_loss'], label='val_loss')\n",
        "plt.legend()\n",
        "plt.show()"
      ],
      "metadata": {
        "colab": {
          "base_uri": "https://localhost:8080/",
          "height": 522
        },
        "id": "R4Aq1oPUr79k",
        "outputId": "af87f3cd-89fb-4d62-a69e-7ba251b18904"
      },
      "execution_count": 34,
      "outputs": [
        {
          "output_type": "display_data",
          "data": {
            "text/plain": [
              "<Figure size 1200x600 with 1 Axes>"
            ],
            "image/png": "[encoded data removed]"
          },
          "metadata": {}
        }
      ]
    },
    {
      "cell_type": "code",
      "source": [
        "plt.figure(figsize=(12, 6))\n",
        "plt.plot(history.history['accuracy'], label='accuracy')\n",
        "plt.plot(history.history['val_accuracy'], label='val_accuracy')\n",
        "plt.legend()\n",
        "plt.show()"
      ],
      "metadata": {
        "colab": {
          "base_uri": "https://localhost:8080/",
          "height": 522
        },
        "id": "BnBcCo2yr_gB",
        "outputId": "b1d47586-a58c-45c2-da5a-260f7f32fc0d"
      },
      "execution_count": 35,
      "outputs": [
        {
          "output_type": "display_data",
          "data": {
            "text/plain": [
              "<Figure size 1200x600 with 1 Axes>"
            ],
            "image/png": "[encoded data removed]"
          },
          "metadata": {}
        }
      ]
    },
    {
      "cell_type": "markdown",
      "source": [
        "#5. Model Evaluation"
      ],
      "metadata": {
        "id": "noqp3zD5EAEN"
      }
    },
    {
      "cell_type": "code",
      "source": [
        "best_model = create_CNN_model()\n",
        "best_model.load_weights(checkpoint_path)\n",
        "loss, acc = best_model.evaluate(X_test, y_test_label ,verbose=1)\n",
        "print(f\"Loss: {round(loss, 4)}\\nAccuracy: {round(acc, 4)}\")"
      ],
      "metadata": {
        "colab": {
          "base_uri": "https://localhost:8080/"
        },
        "id": "geKrZreOsQWH",
        "outputId": "cbb6024e-83b1-4bd2-cc4c-89efb3f2c806"
      },
      "execution_count": 36,
      "outputs": [
        {
          "output_type": "stream",
          "name": "stdout",
          "text": [
            "313/313 [==============================] - 1s 3ms/step - loss: 0.0275 - accuracy: 0.9918\n",
            "Loss: 0.0275\n",
            "Accuracy: 0.9918\n"
          ]
        }
      ]
    },
    {
      "cell_type": "code",
      "source": [
        "X_sample = X_test[:3] #Lấy 3 samples đầu tiên để check\n",
        "y_proba_sample = best_model.predict(X_sample)"
      ],
      "metadata": {
        "colab": {
          "base_uri": "https://localhost:8080/"
        },
        "id": "yTdbcohKEhBR",
        "outputId": "8bd45bf3-aec6-4b9f-bde0-6e326b291b5c"
      },
      "execution_count": 37,
      "outputs": [
        {
          "output_type": "stream",
          "name": "stdout",
          "text": [
            "1/1 [==============================] - 0s 165ms/step\n"
          ]
        }
      ]
    },
    {
      "cell_type": "code",
      "source": [
        "y_proba_sample.round(3)"
      ],
      "metadata": {
        "colab": {
          "base_uri": "https://localhost:8080/"
        },
        "id": "OqK9ZCpZEqiB",
        "outputId": "7ed0e02b-b6bb-435a-fd89-65add158556c"
      },
      "execution_count": 38,
      "outputs": [
        {
          "output_type": "execute_result",
          "data": {
            "text/plain": [
              "array([[0., 0., 0., 0., 0., 0., 0., 1., 0., 0.],\n",
              "       [0., 0., 1., 0., 0., 0., 0., 0., 0., 0.],\n",
              "       [0., 1., 0., 0., 0., 0., 0., 0., 0., 0.]], dtype=float32)"
            ]
          },
          "metadata": {},
          "execution_count": 38
        }
      ]
    },
    {
      "cell_type": "code",
      "source": [
        "predictions = np.argmax(y_proba_sample, axis=1)"
      ],
      "metadata": {
        "id": "Hd3pZz4pFKMy"
      },
      "execution_count": 39,
      "outputs": []
    },
    {
      "cell_type": "code",
      "source": [
        "[class_names[pred] for pred in predictions]"
      ],
      "metadata": {
        "colab": {
          "base_uri": "https://localhost:8080/"
        },
        "id": "LjpTvco9FRJ-",
        "outputId": "13db4b70-20d8-4aa5-c7d0-d67c285f505b"
      },
      "execution_count": 40,
      "outputs": [
        {
          "output_type": "execute_result",
          "data": {
            "text/plain": [
              "['Number 7', 'Number 2', 'Number 1']"
            ]
          },
          "metadata": {},
          "execution_count": 40
        }
      ]
    },
    {
      "cell_type": "code",
      "source": [
        "y_proba = best_model.predict(X_test)"
      ],
      "metadata": {
        "colab": {
          "base_uri": "https://localhost:8080/"
        },
        "id": "pt-7ESMJFTr0",
        "outputId": "67e52b50-4ebe-4080-d7df-89dabd2b6f5a"
      },
      "execution_count": 41,
      "outputs": [
        {
          "output_type": "stream",
          "name": "stdout",
          "text": [
            "313/313 [==============================] - 1s 2ms/step\n"
          ]
        }
      ]
    },
    {
      "cell_type": "code",
      "source": [
        "plot_data(X_test, y_test, y_proba)"
      ],
      "metadata": {
        "colab": {
          "base_uri": "https://localhost:8080/",
          "height": 594
        },
        "id": "ZFLezcZvL_a8",
        "outputId": "0980f446-e2ac-40b5-fd6a-72e101f2876d"
      },
      "execution_count": 42,
      "outputs": [
        {
          "output_type": "display_data",
          "data": {
            "text/plain": [
              "<Figure size 1000x600 with 8 Axes>"
            ],
            "image/png": "[encoded data removed]"
          },
          "metadata": {}
        }
      ]
    },
    {
      "cell_type": "code",
      "source": [
        "from sklearn.metrics import precision_score, recall_score, f1_score\n",
        "\n",
        "def calculate_metrics(y_true, y_pred):\n",
        "    # Tính toán precision, recall và F1 cho từng nhãn\n",
        "    precision = precision_score(y_true, y_pred, average=None)\n",
        "    recall = recall_score(y_true, y_pred, average=None)\n",
        "    f1 = f1_score(y_true, y_pred, average=None)\n",
        "\n",
        "    return precision, recall, f1\n",
        "\n",
        "# Chuyển đổi one-hot encoding về nhãn dạng số (ví dụ: [0, 0, 1, 0, 0, 0, 0, 0, 0, 0] -> 2)\n",
        "y_true_label = np.argmax(y_test_label, axis=1)\n",
        "y_proba_label = np.argmax(y_proba, axis=1)\n",
        "\n",
        "# Tính toán các chỉ số đánh giá hiệu suất\n",
        "precision, recall, f1 = calculate_metrics(y_true_label, y_proba_label)\n",
        "\n",
        "# In kết quả\n",
        "for i in range(len(precision)):\n",
        "    print(f\"Label {i} - Precision: {precision[i]}, Recall: {recall[i]}, F1: {f1[i]}\")\n"
      ],
      "metadata": {
        "colab": {
          "base_uri": "https://localhost:8080/"
        },
        "id": "ga0Rx6fStk0P",
        "outputId": "c79dd889-44c2-40f7-d599-1c5ec2bc9764"
      },
      "execution_count": 43,
      "outputs": [
        {
          "output_type": "stream",
          "name": "stdout",
          "text": [
            "Label 0 - Precision: 0.9969262295081968, Recall: 0.9928571428571429, F1: 0.9948875255623724\n",
            "Label 1 - Precision: 0.9973427812223207, Recall: 0.9920704845814978, F1: 0.9946996466431096\n",
            "Label 2 - Precision: 0.9961127308066083, Recall: 0.9932170542635659, F1: 0.9946627850557981\n",
            "Label 3 - Precision: 0.9843290891283056, Recall: 0.995049504950495, F1: 0.9896602658788775\n",
            "Label 4 - Precision: 0.9898580121703854, Recall: 0.9938900203665988, F1: 0.9918699186991871\n",
            "Label 5 - Precision: 0.9832589285714286, Recall: 0.9876681614349776, F1: 0.9854586129753915\n",
            "Label 6 - Precision: 0.9947089947089947, Recall: 0.9812108559498957, F1: 0.9879138202837625\n",
            "Label 7 - Precision: 0.9932038834951457, Recall: 0.995136186770428, F1: 0.9941690962099125\n",
            "Label 8 - Precision: 0.9897959183673469, Recall: 0.9958932238193019, F1: 0.9928352098259979\n",
            "Label 9 - Precision: 0.9910714285714286, Recall: 0.9900891972249752, F1: 0.990580069410015\n"
          ]
        }
      ]
    }
  ]
}