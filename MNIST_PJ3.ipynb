{
  "nbformat": 4,
  "nbformat_minor": 0,
  "metadata": {
    "colab": {
      "provenance": [],
      "gpuType": "T4",
      "include_colab_link": true
    },
    "kernelspec": {
      "name": "python3",
      "display_name": "Python 3"
    },
    "language_info": {
      "name": "python"
    },
    "accelerator": "GPU"
  },
  "cells": [
    {
      "cell_type": "markdown",
      "metadata": {
        "id": "view-in-github",
        "colab_type": "text"
      },
      "source": [
        "<a href=\"https://colab.research.google.com/github/NguyenVanHien8502/image-classification/blob/main/MNIST_PJ3.ipynb\" target=\"_parent\"><img src=\"https://colab.research.google.com/assets/colab-badge.svg\" alt=\"Open In Colab\"/></a>"
      ]
    },
    {
      "cell_type": "markdown",
      "source": [
        "#Mount google drive"
      ],
      "metadata": {
        "id": "CWK2xUsO29KS"
      }
    },
    {
      "cell_type": "code",
      "source": [
        "from google.colab import drive\n",
        "drive.mount(\"/content/drive/\")"
      ],
      "metadata": {
        "id": "6HzFPKTHyaqr",
        "colab": {
          "base_uri": "https://localhost:8080/"
        },
        "outputId": "fdb4ba79-5714-48af-b5e4-b0008bf7aee7"
      },
      "execution_count": 3,
      "outputs": [
        {
          "output_type": "stream",
          "name": "stdout",
          "text": [
            "Mounted at /content/drive/\n"
          ]
        }
      ]
    },
    {
      "cell_type": "markdown",
      "source": [
        "# Import libraries"
      ],
      "metadata": {
        "id": "exRFQDSVO-Wr"
      }
    },
    {
      "cell_type": "code",
      "source": [
        "import matplotlib.pyplot as plt\n",
        "import numpy as np\n",
        "import random\n",
        "import struct\n",
        "import gzip\n",
        "\n",
        "import tensorflow as tf\n",
        "from tensorflow import keras\n",
        "from keras.api._v2.keras import layers\n"
      ],
      "metadata": {
        "id": "1Q2MZkEQI98T"
      },
      "execution_count": 4,
      "outputs": []
    },
    {
      "cell_type": "markdown",
      "source": [
        "#1. Load Data from file .gz"
      ],
      "metadata": {
        "id": "s1ez2hxyIfeC"
      }
    },
    {
      "cell_type": "code",
      "source": [
        "#Load image train\n",
        "filename = '/content/drive/MyDrive/Colab_Notebooks/train-images-idx3-ubyte.gz'\n",
        "\n",
        "with gzip.open(filename, 'rb') as f:\n",
        "    magic, size = struct.unpack(\">II\", f.read(8))\n",
        "    nrows, ncols = struct.unpack(\">II\", f.read(8))\n",
        "    X_train = np.frombuffer(f.read(), dtype=np.uint8)\n",
        "    X_train = X_train.reshape(size, nrows, ncols)"
      ],
      "metadata": {
        "id": "BgDoq6AvIbnO"
      },
      "execution_count": 5,
      "outputs": []
    },
    {
      "cell_type": "code",
      "source": [
        "#Load label train\n",
        "filename = '/content/drive/MyDrive/Colab_Notebooks/train-labels-idx1-ubyte.gz'\n",
        "\n",
        "with gzip.open(filename, 'rb') as f:\n",
        "    magic, size = struct.unpack(\">II\", f.read(8))\n",
        "    y_train = np.frombuffer(f.read(), dtype=np.uint8)\n",
        "    y_train = y_train.reshape((size,))"
      ],
      "metadata": {
        "id": "wa4sHHQtJU_3"
      },
      "execution_count": 6,
      "outputs": []
    },
    {
      "cell_type": "code",
      "source": [
        "#Load image test\n",
        "filename = '/content/drive/MyDrive/Colab_Notebooks/t10k-images-idx3-ubyte.gz'\n",
        "\n",
        "with gzip.open(filename, 'rb') as f:\n",
        "    magic, size = struct.unpack(\">II\", f.read(8))\n",
        "    nrows, ncols = struct.unpack(\">II\", f.read(8))\n",
        "    X_test = np.frombuffer(f.read(), dtype=np.uint8)\n",
        "    X_test = X_test.reshape(size, nrows, ncols)"
      ],
      "metadata": {
        "id": "NH1x6DE5OduG"
      },
      "execution_count": 7,
      "outputs": []
    },
    {
      "cell_type": "code",
      "source": [
        "#Load label test\n",
        "filename = '/content/drive/MyDrive/Colab_Notebooks/t10k-labels-idx1-ubyte.gz'\n",
        "\n",
        "with gzip.open(filename, 'rb') as f:\n",
        "    magic, size = struct.unpack(\">II\", f.read(8))\n",
        "    y_test = np.frombuffer(f.read(), dtype=np.uint8)\n",
        "    y_test = y_test.reshape((size,))"
      ],
      "metadata": {
        "id": "HzEn1F0bOguL"
      },
      "execution_count": 8,
      "outputs": []
    },
    {
      "cell_type": "markdown",
      "source": [
        "#2. Check data"
      ],
      "metadata": {
        "id": "mBQiPaPTO2pz"
      }
    },
    {
      "cell_type": "code",
      "source": [
        "X_train.shape, y_train.shape"
      ],
      "metadata": {
        "colab": {
          "base_uri": "https://localhost:8080/"
        },
        "id": "uSZDwjDrKirT",
        "outputId": "6bd4ff56-fcd1-4687-e143-9dc2dda31c49"
      },
      "execution_count": 9,
      "outputs": [
        {
          "output_type": "execute_result",
          "data": {
            "text/plain": [
              "((60000, 28, 28), (60000,))"
            ]
          },
          "metadata": {},
          "execution_count": 9
        }
      ]
    },
    {
      "cell_type": "code",
      "source": [
        "type(X_train), type(y_train)"
      ],
      "metadata": {
        "colab": {
          "base_uri": "https://localhost:8080/"
        },
        "id": "gsYdr5lvLfR9",
        "outputId": "62be339d-184f-4693-b6a5-f50d03379634"
      },
      "execution_count": 10,
      "outputs": [
        {
          "output_type": "execute_result",
          "data": {
            "text/plain": [
              "(numpy.ndarray, numpy.ndarray)"
            ]
          },
          "metadata": {},
          "execution_count": 10
        }
      ]
    },
    {
      "cell_type": "code",
      "source": [
        "X_train.dtype, y_train.dtype"
      ],
      "metadata": {
        "colab": {
          "base_uri": "https://localhost:8080/"
        },
        "id": "sWpDfup9MDn5",
        "outputId": "20fb8af5-f844-403b-8e38-502b4f690932"
      },
      "execution_count": 11,
      "outputs": [
        {
          "output_type": "execute_result",
          "data": {
            "text/plain": [
              "(dtype('uint8'), dtype('uint8'))"
            ]
          },
          "metadata": {},
          "execution_count": 11
        }
      ]
    },
    {
      "cell_type": "code",
      "source": [
        "class_names = [\"Number 0\", \"Number 1\", \"Number 2\", \"Number 3\", \"Number 4\", \"Number 5\", \"Number 6\", \"Number 7\", \"Number 8\", \"Number 9\"]\n",
        "class_nums = len(class_names)"
      ],
      "metadata": {
        "id": "LEhTDHHAPQEb"
      },
      "execution_count": 12,
      "outputs": []
    },
    {
      "cell_type": "code",
      "source": [
        "plt.imshow(X_train[5,:,:], cmap='gray')\n",
        "plt.xticks([])\n",
        "plt.yticks([])\n",
        "plt.show()\n",
        "print(f\"Label: {class_names[y_train[5]]}\")"
      ],
      "metadata": {
        "colab": {
          "base_uri": "https://localhost:8080/",
          "height": 423
        },
        "id": "rg_hSPmLJesd",
        "outputId": "07a3a3fc-0113-4b66-df8d-9dffdc745a41"
      },
      "execution_count": 13,
      "outputs": [
        {
          "output_type": "display_data",
          "data": {
            "text/plain": [
              "<Figure size 640x480 with 1 Axes>"
            ],
            "image/png": "[encoded data removed]"
          },
          "metadata": {}
        },
        {
          "output_type": "stream",
          "name": "stdout",
          "text": [
            "Label: Number 2\n"
          ]
        }
      ]
    },
    {
      "cell_type": "code",
      "source": [],
      "metadata": {
        "id": "o6Z97GexIeVb"
      },
      "execution_count": 13,
      "outputs": []
    },
    {
      "cell_type": "code",
      "source": [
        "from typing import Optional\n",
        "def plot_data(x_data: np.ndarray, y_data:np.ndarray, y_proba: Optional[np.ndarray] = None)->None:\n",
        "  nrows, ncols=2, 4\n",
        "  fig, axes = plt.subplots(nrows, ncols, figsize=(10,6))\n",
        "\n",
        "  len_x = x_data.shape[0]\n",
        "  for idx in range(nrows*ncols):\n",
        "    ax = axes[idx // ncols, idx % ncols]\n",
        "    img_idx = random.randint(0, len_x)\n",
        "    ax.imshow(x_data[img_idx], cmap='gray')\n",
        "    ax.set(xticks=[], yticks=[])\n",
        "    color = 'green'\n",
        "\n",
        "    true_label_str = f\"True: {class_names[y_data[img_idx]]}\"\n",
        "\n",
        "    if y_proba is not None:\n",
        "      predicted_idx = np.argmax(y_proba[img_idx])\n",
        "      predicted_label = class_names[predicted_idx]\n",
        "      color = 'red' if predicted_idx != y_data[img_idx] else color\n",
        "      predicted_label_str = f\"\\nPredicted: {predicted_label}\"\n",
        "\n",
        "    img_title = true_label_str if y_proba is None else true_label_str + predicted_label_str\n",
        "    ax.set_xlabel(img_title, color=color, fontsize=12)\n",
        "\n",
        "  plt.tight_layout()\n",
        "  plt.show()"
      ],
      "metadata": {
        "id": "tOGmgKhYIfHk"
      },
      "execution_count": 14,
      "outputs": []
    },
    {
      "cell_type": "code",
      "source": [
        "plot_data(X_train, y_train)"
      ],
      "metadata": {
        "id": "SobNfrUh-O_5",
        "colab": {
          "base_uri": "https://localhost:8080/",
          "height": 573
        },
        "outputId": "222d6c8b-9c15-49a0-dffc-a7d76de1fd62"
      },
      "execution_count": 15,
      "outputs": [
        {
          "output_type": "display_data",
          "data": {
            "text/plain": [
              "<Figure size 1000x600 with 8 Axes>"
            ],
            "image/png": "[encoded data removed]"
          },
          "metadata": {}
        }
      ]
    },
    {
      "cell_type": "code",
      "source": [
        "plot_data(X_test, y_test)"
      ],
      "metadata": {
        "id": "-D_VUpiJ-QyS",
        "colab": {
          "base_uri": "https://localhost:8080/",
          "height": 573
        },
        "outputId": "aea42fc6-2b25-4710-b2d2-1c1d70b2bd0b"
      },
      "execution_count": 16,
      "outputs": [
        {
          "output_type": "display_data",
          "data": {
            "text/plain": [
              "<Figure size 1000x600 with 8 Axes>"
            ],
            "image/png": "[encoded data removed]"
          },
          "metadata": {}
        }
      ]
    },
    {
      "cell_type": "markdown",
      "source": [
        "#3. Image Pre-processing"
      ],
      "metadata": {
        "id": "TtgvQznD-hil"
      }
    },
    {
      "cell_type": "code",
      "source": [
        "# Convert to float32 (tăng tốc quá trình tính toán) & scale images to the [0,1] range for training (giúp mô hình học tốt hơn)\n",
        "# => cải thiện hiệu suất và tính ổn định của mô hình\n",
        "X_train=X_train.astype(np.float32) / 255\n",
        "X_test=X_test.astype(np.float32) / 255"
      ],
      "metadata": {
        "id": "6i-oVUbx-l9_"
      },
      "execution_count": 17,
      "outputs": []
    },
    {
      "cell_type": "code",
      "source": [
        "X_train.shape, X_train.dtype"
      ],
      "metadata": {
        "colab": {
          "base_uri": "https://localhost:8080/"
        },
        "id": "T7HoiyBH_bho",
        "outputId": "12c941b6-0b1a-4932-fb15-5c722683b83b"
      },
      "execution_count": 18,
      "outputs": [
        {
          "output_type": "execute_result",
          "data": {
            "text/plain": [
              "((60000, 28, 28), dtype('float32'))"
            ]
          },
          "metadata": {},
          "execution_count": 18
        }
      ]
    },
    {
      "cell_type": "code",
      "source": [
        "X_test.shape, X_test.dtype"
      ],
      "metadata": {
        "colab": {
          "base_uri": "https://localhost:8080/"
        },
        "id": "BRxyPFkg_2qP",
        "outputId": "02080010-edca-48b2-8cff-d5a86021d11c"
      },
      "execution_count": 19,
      "outputs": [
        {
          "output_type": "execute_result",
          "data": {
            "text/plain": [
              "((10000, 28, 28), dtype('float32'))"
            ]
          },
          "metadata": {},
          "execution_count": 19
        }
      ]
    },
    {
      "cell_type": "code",
      "source": [
        "#Make sure images have shape (60000, 28, 28) => (60000, 28, 28, 1) (do dữ liệu của tensorflow thì có 4 thuộc tính: samples, height, width, channels)\n",
        "X_train = np.expand_dims(X_train, axis=-1)\n",
        "X_test = np.expand_dims(X_test, axis=-1)"
      ],
      "metadata": {
        "id": "-4MGSkKAA9aG"
      },
      "execution_count": 20,
      "outputs": []
    },
    {
      "cell_type": "code",
      "source": [
        "X_train.shape, X_train.dtype"
      ],
      "metadata": {
        "colab": {
          "base_uri": "https://localhost:8080/"
        },
        "id": "KEDAm3IABWNp",
        "outputId": "9568d1be-685c-4696-f6f5-bdbac467d6c2"
      },
      "execution_count": 21,
      "outputs": [
        {
          "output_type": "execute_result",
          "data": {
            "text/plain": [
              "((60000, 28, 28, 1), dtype('float32'))"
            ]
          },
          "metadata": {},
          "execution_count": 21
        }
      ]
    },
    {
      "cell_type": "code",
      "source": [
        "X_test.shape, X_test.dtype"
      ],
      "metadata": {
        "colab": {
          "base_uri": "https://localhost:8080/"
        },
        "id": "CDz-0JN4BXhX",
        "outputId": "719ea376-a846-4704-8c20-6e3335a7427c"
      },
      "execution_count": 22,
      "outputs": [
        {
          "output_type": "execute_result",
          "data": {
            "text/plain": [
              "((10000, 28, 28, 1), dtype('float32'))"
            ]
          },
          "metadata": {},
          "execution_count": 22
        }
      ]
    },
    {
      "cell_type": "code",
      "source": [
        "#Tại sao phải đổi về dạng one-hot encoding: Phù hợp với softmax activation, Thuận lợi cho hàm mất mát categorical_crossentropy, Tạo ổn định cho quá trình học\n",
        "\n",
        "y_train_label = keras.utils.to_categorical(y_train, class_nums)\n",
        "y_test_label = keras.utils.to_categorical(y_test, class_nums)"
      ],
      "metadata": {
        "id": "F6XsRf3ICM-e"
      },
      "execution_count": 23,
      "outputs": []
    },
    {
      "cell_type": "code",
      "source": [
        "y_train[0], y_train_label[0]"
      ],
      "metadata": {
        "colab": {
          "base_uri": "https://localhost:8080/"
        },
        "id": "0ZC9jIjPC0KF",
        "outputId": "3d0929e2-9540-4db1-9d71-c9f73f7f91db"
      },
      "execution_count": 24,
      "outputs": [
        {
          "output_type": "execute_result",
          "data": {
            "text/plain": [
              "(5, array([0., 0., 0., 0., 0., 1., 0., 0., 0., 0.], dtype=float32))"
            ]
          },
          "metadata": {},
          "execution_count": 24
        }
      ]
    },
    {
      "cell_type": "code",
      "source": [
        "y_test_label[5]"
      ],
      "metadata": {
        "colab": {
          "base_uri": "https://localhost:8080/"
        },
        "id": "VmDAMGB7IS0F",
        "outputId": "b1981f4b-baba-488d-d40f-5c93b2180bee"
      },
      "execution_count": 25,
      "outputs": [
        {
          "output_type": "execute_result",
          "data": {
            "text/plain": [
              "array([0., 1., 0., 0., 0., 0., 0., 0., 0., 0.], dtype=float32)"
            ]
          },
          "metadata": {},
          "execution_count": 25
        }
      ]
    },
    {
      "cell_type": "markdown",
      "source": [
        "#4. Network (CNN) Architecture"
      ],
      "metadata": {
        "id": "swV623sLC-QT"
      }
    },
    {
      "cell_type": "code",
      "source": [
        "input_shape = (28, 28, 1)"
      ],
      "metadata": {
        "id": "crtnskpmEM8p"
      },
      "execution_count": 26,
      "outputs": []
    },
    {
      "cell_type": "code",
      "source": [
        "#Using ANN to predict\n",
        "# model = keras.models.Sequential([\n",
        "#     layers.Flatten(input_shape = input_shape), #(28, 28, 1)->vector 1 chiều (28*28)\n",
        "#     layers.Dense(512, activation='relu'),\n",
        "#     layers.Dense(256, activation='relu'),\n",
        "#     layers.Dense(class_nums, activation='softmax'),\n",
        "#     ])\n",
        "\n",
        "# Tại sao dùng hàm softmax: biến các output thành các vector có tổng = 1\n",
        "\n",
        "# Tại sao dùng maxpooling mà không dùng average pooling: vì max-pooling mới làm nổi bật lên cái feature rõ ràng nhất, lấy được cái thông tin nổi bật nhất\n",
        "# còn average-pooling thì nó tính trung bình các feature nên không lấy được các feature nổi bật nhất\n",
        "\n",
        "# Tại sao chỉ cần dùng filter có kích thước nhỏ như 3*3: vì các cạnh trong ảnh được định nghĩa, tạo ra bởi các input gần nhau\n",
        "\n",
        "#Using CNN to predict\n",
        "def create_CNN_model():\n",
        "  model = keras.models.Sequential([\n",
        "      layers.Conv2D(filters=32, kernel_size=(3,3), activation='relu', input_shape=input_shape),\n",
        "      layers.MaxPool2D(pool_size=(2,2)),\n",
        "      layers.Conv2D(filters=64, kernel_size=(3,3), activation='relu'),\n",
        "      layers.MaxPool2D(pool_size=(2,2)),\n",
        "      layers.Conv2D(filters=128, kernel_size=(3,3), activation='relu'),\n",
        "      layers.Flatten(), #chuyển từ đầu vào có các chiều (3D) sang đầu ra là một vector (1D).\n",
        "      layers.Dense(128, activation='relu'), #lớp fully connected\n",
        "      layers.Dense(class_nums, activation='softmax')\n",
        "  ])\n",
        "  model.compile(optimizer='adam', #sử dụng thuật toán tối ưu hóa Adam để cập nhật trọng số của mô hình\n",
        "                loss='categorical_crossentropy',\n",
        "                metrics='accuracy')\n",
        "  return model"
      ],
      "metadata": {
        "id": "ycSo7HZ0DTiM"
      },
      "execution_count": 27,
      "outputs": []
    },
    {
      "cell_type": "code",
      "source": [
        "basic_CNN_model = create_CNN_model()"
      ],
      "metadata": {
        "id": "9Qvj37Kf7ZjP"
      },
      "execution_count": 28,
      "outputs": []
    },
    {
      "cell_type": "code",
      "source": [
        "basic_CNN_model.summary()"
      ],
      "metadata": {
        "colab": {
          "base_uri": "https://localhost:8080/"
        },
        "id": "YkMGrLMCp2rS",
        "outputId": "874ecebf-2632-469a-9250-cec7b910dbbd"
      },
      "execution_count": 29,
      "outputs": [
        {
          "output_type": "stream",
          "name": "stdout",
          "text": [
            "Model: \"sequential\"\n",
            "_________________________________________________________________\n",
            " Layer (type)                Output Shape              Param #   \n",
            "=================================================================\n",
            " conv2d (Conv2D)             (None, 26, 26, 32)        320       \n",
            "                                                                 \n",
            " max_pooling2d (MaxPooling2  (None, 13, 13, 32)        0         \n",
            " D)                                                              \n",
            "                                                                 \n",
            " conv2d_1 (Conv2D)           (None, 11, 11, 64)        18496     \n",
            "                                                                 \n",
            " max_pooling2d_1 (MaxPoolin  (None, 5, 5, 64)          0         \n",
            " g2D)                                                            \n",
            "                                                                 \n",
            " conv2d_2 (Conv2D)           (None, 3, 3, 128)         73856     \n",
            "                                                                 \n",
            " flatten (Flatten)           (None, 1152)              0         \n",
            "                                                                 \n",
            " dense (Dense)               (None, 128)               147584    \n",
            "                                                                 \n",
            " dense_1 (Dense)             (None, 10)                1290      \n",
            "                                                                 \n",
            "=================================================================\n",
            "Total params: 241546 (943.54 KB)\n",
            "Trainable params: 241546 (943.54 KB)\n",
            "Non-trainable params: 0 (0.00 Byte)\n",
            "_________________________________________________________________\n"
          ]
        }
      ]
    },
    {
      "cell_type": "code",
      "source": [
        "import os\n",
        "from keras.callbacks import EarlyStopping\n",
        "from keras.callbacks import ModelCheckpoint\n",
        "\n",
        "def call_back(checkpoint_path):\n",
        "  early_stopping_callback = EarlyStopping(\n",
        "      patience=10,  # Số epochs không có cải thiện trước khi dừng huấn luyện\n",
        "      monitor='val_loss',  # Theo dõi giá trị validation loss để quyết định có cải thiện hay không\n",
        "      restore_best_weights=True,  # Sau khi dừng, khôi phục trọng số của model tại epoch có validation loss tốt nhất\n",
        "      verbose=1\n",
        "  )\n",
        "  checkpoint_callback = ModelCheckpoint(\n",
        "      filepath=checkpoint_path,\n",
        "      save_weights_only=True,  # Chỉ lưu trọng số, không lưu toàn bộ mô hình.\n",
        "      monitor='val_loss',  # Theo dõi giá trị validation loss để quyết định khi nào lưu trọng số\n",
        "      save_best_only=True,  # Chỉ lưu trọng số của mô hình có giá trị validation loss tốt nhất trên 'monitor'\n",
        "      mode='min',  # Theo dõi theo chiều giảm của 'monitor'\n",
        "      verbose=1  # Hiển thị thông báo khi lưu model\n",
        "  )\n",
        "\n",
        "  return early_stopping_callback, checkpoint_callback"
      ],
      "metadata": {
        "id": "EbLKeP50p6WU"
      },
      "execution_count": 30,
      "outputs": []
    },
    {
      "cell_type": "code",
      "source": [
        "checkpoint_path = \"/content/drive/MyDrive/Colab_Notebooks/model_saver/basic_CNN_weight.cp\"\n",
        "early_stopping_callback, checkpoint_callback = call_back(checkpoint_path=checkpoint_path)"
      ],
      "metadata": {
        "id": "3Wyuw-W8qGiX"
      },
      "execution_count": 31,
      "outputs": []
    },
    {
      "cell_type": "code",
      "source": [
        "epochs = 100\n",
        "batch_size = 128"
      ],
      "metadata": {
        "id": "K7l3SUdG96q5"
      },
      "execution_count": 32,
      "outputs": []
    },
    {
      "cell_type": "code",
      "source": [
        "history = basic_CNN_model.fit(X_train, y_train_label,\n",
        "          epochs=epochs,\n",
        "          batch_size=batch_size,\n",
        "          validation_split=0.2,\n",
        "          callbacks = [early_stopping_callback, checkpoint_callback]\n",
        "          )"
      ],
      "metadata": {
        "id": "VDcBAj1_q_gZ",
        "colab": {
          "base_uri": "https://localhost:8080/"
        },
        "outputId": "b0d45314-30c0-4750-a848-3e82820fc1b7"
      },
      "execution_count": 33,
      "outputs": [
        {
          "output_type": "stream",
          "name": "stdout",
          "text": [
            "Epoch 1/100\n",
            "374/375 [============================>.] - ETA: 0s - loss: 0.2407 - accuracy: 0.9290\n",
            "Epoch 1: val_loss improved from inf to 0.07002, saving model to /content/drive/MyDrive/Colab_Notebooks/model_saver/basic_CNN_weight.cp\n",
            "375/375 [==============================] - 15s 10ms/step - loss: 0.2404 - accuracy: 0.9290 - val_loss: 0.0700 - val_accuracy: 0.9798\n",
            "Epoch 2/100\n",
            "369/375 [============================>.] - ETA: 0s - loss: 0.0548 - accuracy: 0.9832\n",
            "Epoch 2: val_loss improved from 0.07002 to 0.04295, saving model to /content/drive/MyDrive/Colab_Notebooks/model_saver/basic_CNN_weight.cp\n",
            "375/375 [==============================] - 2s 6ms/step - loss: 0.0545 - accuracy: 0.9832 - val_loss: 0.0429 - val_accuracy: 0.9867\n",
            "Epoch 3/100\n",
            "368/375 [============================>.] - ETA: 0s - loss: 0.0369 - accuracy: 0.9885\n",
            "Epoch 3: val_loss improved from 0.04295 to 0.03671, saving model to /content/drive/MyDrive/Colab_Notebooks/model_saver/basic_CNN_weight.cp\n",
            "375/375 [==============================] - 2s 6ms/step - loss: 0.0371 - accuracy: 0.9884 - val_loss: 0.0367 - val_accuracy: 0.9879\n",
            "Epoch 4/100\n",
            "373/375 [============================>.] - ETA: 0s - loss: 0.0282 - accuracy: 0.9909\n",
            "Epoch 4: val_loss did not improve from 0.03671\n",
            "375/375 [==============================] - 2s 5ms/step - loss: 0.0281 - accuracy: 0.9910 - val_loss: 0.0407 - val_accuracy: 0.9879\n",
            "Epoch 5/100\n",
            "373/375 [============================>.] - ETA: 0s - loss: 0.0216 - accuracy: 0.9931\n",
            "Epoch 5: val_loss improved from 0.03671 to 0.03504, saving model to /content/drive/MyDrive/Colab_Notebooks/model_saver/basic_CNN_weight.cp\n",
            "375/375 [==============================] - 3s 7ms/step - loss: 0.0217 - accuracy: 0.9931 - val_loss: 0.0350 - val_accuracy: 0.9893\n",
            "Epoch 6/100\n",
            "371/375 [============================>.] - ETA: 0s - loss: 0.0186 - accuracy: 0.9943\n",
            "Epoch 6: val_loss improved from 0.03504 to 0.03362, saving model to /content/drive/MyDrive/Colab_Notebooks/model_saver/basic_CNN_weight.cp\n",
            "375/375 [==============================] - 3s 8ms/step - loss: 0.0187 - accuracy: 0.9943 - val_loss: 0.0336 - val_accuracy: 0.9897\n",
            "Epoch 7/100\n",
            "371/375 [============================>.] - ETA: 0s - loss: 0.0152 - accuracy: 0.9950\n",
            "Epoch 7: val_loss did not improve from 0.03362\n",
            "375/375 [==============================] - 2s 6ms/step - loss: 0.0151 - accuracy: 0.9950 - val_loss: 0.0502 - val_accuracy: 0.9857\n",
            "Epoch 8/100\n",
            "368/375 [============================>.] - ETA: 0s - loss: 0.0129 - accuracy: 0.9955\n",
            "Epoch 8: val_loss did not improve from 0.03362\n",
            "375/375 [==============================] - 2s 5ms/step - loss: 0.0128 - accuracy: 0.9956 - val_loss: 0.0343 - val_accuracy: 0.9923\n",
            "Epoch 9/100\n",
            "374/375 [============================>.] - ETA: 0s - loss: 0.0099 - accuracy: 0.9967\n",
            "Epoch 9: val_loss did not improve from 0.03362\n",
            "375/375 [==============================] - 2s 5ms/step - loss: 0.0100 - accuracy: 0.9967 - val_loss: 0.0439 - val_accuracy: 0.9893\n",
            "Epoch 10/100\n",
            "375/375 [==============================] - ETA: 0s - loss: 0.0080 - accuracy: 0.9976\n",
            "Epoch 10: val_loss did not improve from 0.03362\n",
            "375/375 [==============================] - 2s 5ms/step - loss: 0.0080 - accuracy: 0.9976 - val_loss: 0.0353 - val_accuracy: 0.9902\n",
            "Epoch 11/100\n",
            "370/375 [============================>.] - ETA: 0s - loss: 0.0079 - accuracy: 0.9971\n",
            "Epoch 11: val_loss did not improve from 0.03362\n",
            "375/375 [==============================] - 2s 5ms/step - loss: 0.0082 - accuracy: 0.9970 - val_loss: 0.0454 - val_accuracy: 0.9880\n",
            "Epoch 12/100\n",
            "370/375 [============================>.] - ETA: 0s - loss: 0.0088 - accuracy: 0.9968\n",
            "Epoch 12: val_loss did not improve from 0.03362\n",
            "375/375 [==============================] - 3s 7ms/step - loss: 0.0089 - accuracy: 0.9967 - val_loss: 0.0358 - val_accuracy: 0.9917\n",
            "Epoch 13/100\n",
            "368/375 [============================>.] - ETA: 0s - loss: 0.0070 - accuracy: 0.9978\n",
            "Epoch 13: val_loss did not improve from 0.03362\n",
            "375/375 [==============================] - 3s 8ms/step - loss: 0.0069 - accuracy: 0.9978 - val_loss: 0.0406 - val_accuracy: 0.9915\n",
            "Epoch 14/100\n",
            "372/375 [============================>.] - ETA: 0s - loss: 0.0062 - accuracy: 0.9980\n",
            "Epoch 14: val_loss did not improve from 0.03362\n",
            "375/375 [==============================] - 2s 6ms/step - loss: 0.0062 - accuracy: 0.9980 - val_loss: 0.0460 - val_accuracy: 0.9895\n",
            "Epoch 15/100\n",
            "366/375 [============================>.] - ETA: 0s - loss: 0.0084 - accuracy: 0.9971\n",
            "Epoch 15: val_loss did not improve from 0.03362\n",
            "375/375 [==============================] - 2s 5ms/step - loss: 0.0084 - accuracy: 0.9971 - val_loss: 0.0561 - val_accuracy: 0.9887\n",
            "Epoch 16/100\n",
            "375/375 [==============================] - ETA: 0s - loss: 0.0051 - accuracy: 0.9981Restoring model weights from the end of the best epoch: 6.\n",
            "\n",
            "Epoch 16: val_loss did not improve from 0.03362\n",
            "375/375 [==============================] - 2s 6ms/step - loss: 0.0051 - accuracy: 0.9981 - val_loss: 0.0471 - val_accuracy: 0.9908\n",
            "Epoch 16: early stopping\n"
          ]
        }
      ]
    },
    {
      "cell_type": "code",
      "source": [
        "history_dict = history.history"
      ],
      "metadata": {
        "id": "_qHIKyx1_q6f"
      },
      "execution_count": 34,
      "outputs": []
    },
    {
      "cell_type": "code",
      "source": [
        "history_dict.keys()"
      ],
      "metadata": {
        "id": "4LDSGqK6_v0v",
        "colab": {
          "base_uri": "https://localhost:8080/"
        },
        "outputId": "4eccb98b-f10c-4908-8417-a7380f1d16d0"
      },
      "execution_count": 35,
      "outputs": [
        {
          "output_type": "execute_result",
          "data": {
            "text/plain": [
              "dict_keys(['loss', 'accuracy', 'val_loss', 'val_accuracy'])"
            ]
          },
          "metadata": {},
          "execution_count": 35
        }
      ]
    },
    {
      "cell_type": "code",
      "source": [
        "train_loss, val_loss = history_dict['loss'], history_dict['val_loss']\n",
        "train_acc, val_acc = history_dict['accuracy'], history_dict['val_accuracy']"
      ],
      "metadata": {
        "id": "v17KERUy_zSj"
      },
      "execution_count": 36,
      "outputs": []
    },
    {
      "cell_type": "code",
      "source": [
        "plt.figure(figsize=(12, 6))\n",
        "plt.plot(history.history['loss'], label='loss')\n",
        "plt.plot(history.history['val_loss'], label='val_loss')\n",
        "plt.legend()\n",
        "plt.show()"
      ],
      "metadata": {
        "id": "R4Aq1oPUr79k",
        "colab": {
          "base_uri": "https://localhost:8080/",
          "height": 524
        },
        "outputId": "e108f581-282c-4a40-fa5e-60700439dda0"
      },
      "execution_count": 37,
      "outputs": [
        {
          "output_type": "display_data",
          "data": {
            "text/plain": [
              "<Figure size 1200x600 with 1 Axes>"
            ],
            "image/png": "[encoded data removed]"
          },
          "metadata": {}
        }
      ]
    },
    {
      "cell_type": "code",
      "source": [
        "plt.figure(figsize=(12, 6))\n",
        "plt.plot(history.history['accuracy'], label='accuracy')\n",
        "plt.plot(history.history['val_accuracy'], label='val_accuracy')\n",
        "plt.legend()\n",
        "plt.show()"
      ],
      "metadata": {
        "id": "BnBcCo2yr_gB",
        "colab": {
          "base_uri": "https://localhost:8080/",
          "height": 522
        },
        "outputId": "edfec852-a511-444a-cf51-307200a4aa83"
      },
      "execution_count": 38,
      "outputs": [
        {
          "output_type": "display_data",
          "data": {
            "text/plain": [
              "<Figure size 1200x600 with 1 Axes>"
            ],
            "image/png": "[encoded data removed]"
          },
          "metadata": {}
        }
      ]
    },
    {
      "cell_type": "markdown",
      "source": [
        "#5. Model Evaluation"
      ],
      "metadata": {
        "id": "noqp3zD5EAEN"
      }
    },
    {
      "cell_type": "code",
      "source": [
        "best_model = create_CNN_model()\n",
        "best_model.load_weights(checkpoint_path)\n",
        "loss, acc = best_model.evaluate(X_test, y_test_label ,verbose=1)\n",
        "print(f\"Loss: {round(loss, 4)}\\nAccuracy: {round(acc, 4)}\")"
      ],
      "metadata": {
        "colab": {
          "base_uri": "https://localhost:8080/"
        },
        "id": "geKrZreOsQWH",
        "outputId": "4a99bd06-9131-4288-e947-e4b3b1df3fc1"
      },
      "execution_count": 39,
      "outputs": [
        {
          "output_type": "stream",
          "name": "stdout",
          "text": [
            "313/313 [==============================] - 2s 4ms/step - loss: 0.0264 - accuracy: 0.9916\n",
            "Loss: 0.0264\n",
            "Accuracy: 0.9916\n"
          ]
        }
      ]
    },
    {
      "cell_type": "code",
      "source": [
        "X_sample = X_test[-3:]\n",
        "y_proba_sample = best_model.predict(X_sample)"
      ],
      "metadata": {
        "colab": {
          "base_uri": "https://localhost:8080/"
        },
        "id": "yTdbcohKEhBR",
        "outputId": "9f074be0-39b0-4696-be7b-6810be05bb9a"
      },
      "execution_count": 40,
      "outputs": [
        {
          "output_type": "stream",
          "name": "stdout",
          "text": [
            "1/1 [==============================] - 0s 218ms/step\n"
          ]
        }
      ]
    },
    {
      "cell_type": "code",
      "source": [
        "y_proba_sample.round(3)"
      ],
      "metadata": {
        "colab": {
          "base_uri": "https://localhost:8080/"
        },
        "id": "OqK9ZCpZEqiB",
        "outputId": "f3efd828-526b-4ab6-b4cf-b82945d15269"
      },
      "execution_count": 41,
      "outputs": [
        {
          "output_type": "execute_result",
          "data": {
            "text/plain": [
              "array([[0., 0., 0., 0., 1., 0., 0., 0., 0., 0.],\n",
              "       [0., 0., 0., 0., 0., 1., 0., 0., 0., 0.],\n",
              "       [0., 0., 0., 0., 0., 0., 1., 0., 0., 0.]], dtype=float32)"
            ]
          },
          "metadata": {},
          "execution_count": 41
        }
      ]
    },
    {
      "cell_type": "code",
      "source": [
        "predictions = np.argmax(y_proba_sample, axis=1)"
      ],
      "metadata": {
        "id": "Hd3pZz4pFKMy"
      },
      "execution_count": 42,
      "outputs": []
    },
    {
      "cell_type": "code",
      "source": [
        "X_sample5 = X_test[5,:,:]\n",
        "X_sample5 = X_sample5.reshape(1, X_sample5.shape[0], X_sample5.shape[1], 1)\n",
        "y_pred5 = best_model.predict(X_sample5)"
      ],
      "metadata": {
        "id": "Ps6Rqu1bJZRm",
        "colab": {
          "base_uri": "https://localhost:8080/"
        },
        "outputId": "ea7cd7c2-a2e8-45b1-969c-0878813bb099"
      },
      "execution_count": 49,
      "outputs": [
        {
          "output_type": "stream",
          "name": "stdout",
          "text": [
            "1/1 [==============================] - 0s 35ms/step\n"
          ]
        }
      ]
    },
    {
      "cell_type": "code",
      "source": [
        "y_pred5"
      ],
      "metadata": {
        "colab": {
          "base_uri": "https://localhost:8080/"
        },
        "id": "tvOJZKdELkoS",
        "outputId": "633882cd-bf23-470d-f918-484e0acae41a"
      },
      "execution_count": 44,
      "outputs": [
        {
          "output_type": "execute_result",
          "data": {
            "text/plain": [
              "array([[3.8563303e-07, 9.9999475e-01, 3.5234198e-08, 6.2858191e-10,\n",
              "        2.0173434e-06, 4.0726167e-08, 2.1949091e-08, 1.5943517e-06,\n",
              "        1.7724601e-07, 9.9146905e-07]], dtype=float32)"
            ]
          },
          "metadata": {},
          "execution_count": 44
        }
      ]
    },
    {
      "cell_type": "code",
      "source": [
        "predicted_class5 = np.argmax(y_pred5)\n",
        "y_pred_label5 = keras.utils.to_categorical(predicted_class5, class_nums)\n",
        "print(y_pred_label5)"
      ],
      "metadata": {
        "id": "57jSsnMuop7i",
        "colab": {
          "base_uri": "https://localhost:8080/"
        },
        "outputId": "ece5f566-5b54-411f-e605-e7a86fdf7564"
      },
      "execution_count": 45,
      "outputs": [
        {
          "output_type": "stream",
          "name": "stdout",
          "text": [
            "[0. 1. 0. 0. 0. 0. 0. 0. 0. 0.]\n"
          ]
        }
      ]
    },
    {
      "cell_type": "code",
      "source": [
        "abc= [class_names[pred] for pred in predictions]\n",
        "x,y,z=abc\n",
        "print(x= f\"{x}\\n\" y= f\"{y}\\n\" z=f\"{z}\")"
      ],
      "metadata": {
        "colab": {
          "base_uri": "https://localhost:8080/",
          "height": 141
        },
        "id": "LjpTvco9FRJ-",
        "outputId": "716ed9fa-3f51-4db8-e6a9-ffc8e46bda9a"
      },
      "execution_count": 47,
      "outputs": [
        {
          "output_type": "error",
          "ename": "SyntaxError",
          "evalue": "ignored",
          "traceback": [
            "\u001b[0;36m  File \u001b[0;32m\"<ipython-input-47-a26b45bfda59>\"\u001b[0;36m, line \u001b[0;32m3\u001b[0m\n\u001b[0;31m    print(x= f\"{x}\\n\" y= f\"{y}\\n\" z=f\"{z}\")\u001b[0m\n\u001b[0m             ^\u001b[0m\n\u001b[0;31mSyntaxError\u001b[0m\u001b[0;31m:\u001b[0m invalid syntax. Perhaps you forgot a comma?\n"
          ]
        }
      ]
    },
    {
      "cell_type": "code",
      "source": [
        "y_proba = best_model.predict(X_test)"
      ],
      "metadata": {
        "id": "pt-7ESMJFTr0"
      },
      "execution_count": null,
      "outputs": []
    },
    {
      "cell_type": "code",
      "source": [
        "plot_data(X_test, y_test, y_proba)"
      ],
      "metadata": {
        "id": "ZFLezcZvL_a8"
      },
      "execution_count": null,
      "outputs": []
    },
    {
      "cell_type": "code",
      "source": [
        "from sklearn.metrics import precision_score, recall_score, f1_score, confusion_matrix\n",
        "\n",
        "def calculate_metrics(y_true, y_pred):\n",
        "    # Tính toán precision, recall và F1 cho từng nhãn\n",
        "    precision = precision_score(y_true, y_pred, average=None)\n",
        "    recall = recall_score(y_true, y_pred, average=None)\n",
        "    f1 = f1_score(y_true, y_pred, average=None)\n",
        "\n",
        "    return precision, recall, f1\n",
        "\n",
        "# Chuyển đổi one-hot encoding về nhãn dạng số (ví dụ: [0, 0, 1, 0, 0, 0, 0, 0, 0, 0] -> 2)\n",
        "y_true_label = np.argmax(y_test_label, axis=1)\n",
        "y_proba_label = np.argmax(y_proba, axis=1)\n",
        "\n",
        "# Tính toán các chỉ số đánh giá hiệu suất\n",
        "precision, recall, f1 = calculate_metrics(y_true_label, y_proba_label)\n",
        "\n",
        "# In kết quả\n",
        "print(\"Confussion Matrix: \\n\", confusion_matrix(y_true_label, y_proba_label),\"\\n\")\n",
        "for i in range(len(precision)):\n",
        "    print(f\"Label {i} - Precision: {precision[i]}, Recall: {recall[i]}, F1: {f1[i]}\")\n"
      ],
      "metadata": {
        "id": "ga0Rx6fStk0P"
      },
      "execution_count": null,
      "outputs": []
    }
  ]
}