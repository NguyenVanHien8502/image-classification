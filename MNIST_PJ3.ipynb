{
  "nbformat": 4,
  "nbformat_minor": 0,
  "metadata": {
    "colab": {
      "provenance": [],
      "authorship_tag": "ABX9TyPKmJPyCWY04MoAibQxSv6T",
      "include_colab_link": true
    },
    "kernelspec": {
      "name": "python3",
      "display_name": "Python 3"
    },
    "language_info": {
      "name": "python"
    }
  },
  "cells": [
    {
      "cell_type": "markdown",
      "metadata": {
        "id": "view-in-github",
        "colab_type": "text"
      },
      "source": [
        "<a href=\"https://colab.research.google.com/github/NguyenVanHien8502/image-classification/blob/main/MNIST_PJ3.ipynb\" target=\"_parent\"><img src=\"https://colab.research.google.com/assets/colab-badge.svg\" alt=\"Open In Colab\"/></a>"
      ]
    },
    {
      "cell_type": "markdown",
      "source": [
        "#Mount google drive"
      ],
      "metadata": {
        "id": "CWK2xUsO29KS"
      }
    },
    {
      "cell_type": "code",
      "source": [
        "from google.colab import drive\n",
        "drive.mount(\"/content/drive/\")"
      ],
      "metadata": {
        "id": "6HzFPKTHyaqr",
        "colab": {
          "base_uri": "https://localhost:8080/"
        },
        "outputId": "6638f826-3abb-49e7-f3a1-bb960745d5fb"
      },
      "execution_count": 39,
      "outputs": [
        {
          "output_type": "stream",
          "name": "stdout",
          "text": [
            "Drive already mounted at /content/drive/; to attempt to forcibly remount, call drive.mount(\"/content/drive/\", force_remount=True).\n"
          ]
        }
      ]
    },
    {
      "cell_type": "markdown",
      "source": [
        "# Import libraries"
      ],
      "metadata": {
        "id": "exRFQDSVO-Wr"
      }
    },
    {
      "cell_type": "code",
      "source": [
        "import matplotlib.pyplot as plt\n",
        "import numpy as np\n",
        "import random\n",
        "import struct\n",
        "import gzip\n",
        "\n",
        "import tensorflow as tf\n",
        "from tensorflow import keras\n",
        "from keras.api._v2.keras import layers\n"
      ],
      "metadata": {
        "id": "1Q2MZkEQI98T"
      },
      "execution_count": 40,
      "outputs": []
    },
    {
      "cell_type": "markdown",
      "source": [
        "#1. Load Data from file .gz"
      ],
      "metadata": {
        "id": "s1ez2hxyIfeC"
      }
    },
    {
      "cell_type": "code",
      "source": [
        "#Load image train\n",
        "filename = '/content/drive/MyDrive/Colab_Notebooks/train-images-idx3-ubyte.gz'\n",
        "\n",
        "with gzip.open(filename, 'rb') as f:\n",
        "    magic, size = struct.unpack(\">II\", f.read(8))\n",
        "    nrows, ncols = struct.unpack(\">II\", f.read(8))\n",
        "    X_train = np.frombuffer(f.read(), dtype=np.uint8)\n",
        "    X_train = X_train.reshape(size, nrows, ncols)"
      ],
      "metadata": {
        "id": "BgDoq6AvIbnO"
      },
      "execution_count": 41,
      "outputs": []
    },
    {
      "cell_type": "code",
      "source": [
        "#Load label train\n",
        "filename = '/content/drive/MyDrive/Colab_Notebooks/train-labels-idx1-ubyte.gz'\n",
        "\n",
        "with gzip.open(filename, 'rb') as f:\n",
        "    magic, size = struct.unpack(\">II\", f.read(8))\n",
        "    y_train = np.frombuffer(f.read(), dtype=np.uint8)\n",
        "    y_train = y_train.reshape((size,))"
      ],
      "metadata": {
        "id": "wa4sHHQtJU_3"
      },
      "execution_count": 42,
      "outputs": []
    },
    {
      "cell_type": "code",
      "source": [
        "#Load image test\n",
        "filename = '/content/drive/MyDrive/Colab_Notebooks/t10k-images-idx3-ubyte.gz'\n",
        "\n",
        "with gzip.open(filename, 'rb') as f:\n",
        "    magic, size = struct.unpack(\">II\", f.read(8))\n",
        "    nrows, ncols = struct.unpack(\">II\", f.read(8))\n",
        "    X_test = np.frombuffer(f.read(), dtype=np.uint8)\n",
        "    X_test = X_test.reshape(size, nrows, ncols)"
      ],
      "metadata": {
        "id": "NH1x6DE5OduG"
      },
      "execution_count": 43,
      "outputs": []
    },
    {
      "cell_type": "code",
      "source": [
        "#Load label test\n",
        "filename = '/content/drive/MyDrive/Colab_Notebooks/t10k-labels-idx1-ubyte.gz'\n",
        "\n",
        "with gzip.open(filename, 'rb') as f:\n",
        "    magic, size = struct.unpack(\">II\", f.read(8))\n",
        "    y_test = np.frombuffer(f.read(), dtype=np.uint8)\n",
        "    y_test = y_test.reshape((size,))"
      ],
      "metadata": {
        "id": "HzEn1F0bOguL"
      },
      "execution_count": 44,
      "outputs": []
    },
    {
      "cell_type": "markdown",
      "source": [
        "#2. Check data"
      ],
      "metadata": {
        "id": "mBQiPaPTO2pz"
      }
    },
    {
      "cell_type": "code",
      "source": [
        "X_train.shape, y_train.shape"
      ],
      "metadata": {
        "colab": {
          "base_uri": "https://localhost:8080/"
        },
        "id": "uSZDwjDrKirT",
        "outputId": "2e914db3-4a79-4309-c0a3-3f1687a6c7dc"
      },
      "execution_count": 45,
      "outputs": [
        {
          "output_type": "execute_result",
          "data": {
            "text/plain": [
              "((60000, 28, 28), (60000,))"
            ]
          },
          "metadata": {},
          "execution_count": 45
        }
      ]
    },
    {
      "cell_type": "code",
      "source": [
        "type(X_train), type(y_train)"
      ],
      "metadata": {
        "colab": {
          "base_uri": "https://localhost:8080/"
        },
        "id": "gsYdr5lvLfR9",
        "outputId": "30da5ca9-fd74-45fd-92d9-bfc164c1197f"
      },
      "execution_count": 46,
      "outputs": [
        {
          "output_type": "execute_result",
          "data": {
            "text/plain": [
              "(numpy.ndarray, numpy.ndarray)"
            ]
          },
          "metadata": {},
          "execution_count": 46
        }
      ]
    },
    {
      "cell_type": "code",
      "source": [
        "X_train.dtype, y_train.dtype"
      ],
      "metadata": {
        "colab": {
          "base_uri": "https://localhost:8080/"
        },
        "id": "sWpDfup9MDn5",
        "outputId": "1a7a2a2c-6f8a-49ed-ea98-3ca072f27ec3"
      },
      "execution_count": 47,
      "outputs": [
        {
          "output_type": "execute_result",
          "data": {
            "text/plain": [
              "(dtype('uint8'), dtype('uint8'))"
            ]
          },
          "metadata": {},
          "execution_count": 47
        }
      ]
    },
    {
      "cell_type": "code",
      "source": [
        "class_names = [\"Number 0\", \"Number 1\", \"Number 2\", \"Number 3\", \"Number 4\", \"Number 5\", \"Number 6\", \"Number 7\", \"Number 8\", \"Number 9\"]\n",
        "class_nums = len(class_names)"
      ],
      "metadata": {
        "id": "LEhTDHHAPQEb"
      },
      "execution_count": 48,
      "outputs": []
    },
    {
      "cell_type": "code",
      "source": [
        "plt.imshow(X_train[0,:,:], cmap='gray')\n",
        "plt.xticks([])\n",
        "plt.yticks([])\n",
        "plt.show()\n",
        "print(f\"Label: {class_names[y_train[0]]}\")"
      ],
      "metadata": {
        "colab": {
          "base_uri": "https://localhost:8080/",
          "height": 423
        },
        "id": "rg_hSPmLJesd",
        "outputId": "de571767-e07f-4827-a2c3-38a9813e802e"
      },
      "execution_count": 49,
      "outputs": [
        {
          "output_type": "display_data",
          "data": {
            "text/plain": [
              "<Figure size 640x480 with 1 Axes>"
            ],
            "image/png": "[encoded data removed]"
          },
          "metadata": {}
        },
        {
          "output_type": "stream",
          "name": "stdout",
          "text": [
            "Label: Number 5\n"
          ]
        }
      ]
    },
    {
      "cell_type": "code",
      "source": [
        "from typing import Optional\n",
        "def plot_data(x_data: np.ndarray, y_data:np.ndarray, y_proba: Optional[np.ndarray] = None)->None:\n",
        "  nrows, ncols=2, 4\n",
        "  fig, axes = plt.subplots(nrows, ncols, figsize=(10,6))\n",
        "\n",
        "  len_x = x_data.shape[0]\n",
        "  for idx in range(nrows*ncols):\n",
        "    ax = axes[idx // ncols, idx % ncols]\n",
        "    img_idx = random.randint(0, len_x)\n",
        "    ax.imshow(x_data[img_idx], cmap='gray')\n",
        "    ax.set(xticks=[], yticks=[])\n",
        "    color = 'green'\n",
        "\n",
        "    true_label_str = f\"True: {class_names[y_data[img_idx]]}\"\n",
        "\n",
        "    if y_proba is not None:\n",
        "      predicted_idx = np.argmax(y_proba[img_idx])\n",
        "      predicted_label = class_names[predicted_idx]\n",
        "      color = 'red' if predicted_idx != y_data[img_idx] else color\n",
        "      predicted_label_str = f\"\\nPredicted: {predicted_label}\"\n",
        "\n",
        "    img_title = true_label_str if y_proba is None else true_label_str + predicted_label_str\n",
        "    ax.set_xlabel(img_title, color=color, fontsize=12)\n",
        "\n",
        "  plt.tight_layout()\n",
        "  plt.show()"
      ],
      "metadata": {
        "id": "tOGmgKhYIfHk"
      },
      "execution_count": 70,
      "outputs": []
    },
    {
      "cell_type": "code",
      "source": [
        "plot_data(X_train, y_train)"
      ],
      "metadata": {
        "id": "SobNfrUh-O_5",
        "colab": {
          "base_uri": "https://localhost:8080/",
          "height": 573
        },
        "outputId": "ec073b63-06e1-4ea7-a4a1-ed2fbc2334fc"
      },
      "execution_count": 71,
      "outputs": [
        {
          "output_type": "display_data",
          "data": {
            "text/plain": [
              "<Figure size 1000x600 with 8 Axes>"
            ],
            "image/png": "[encoded data removed]"
          },
          "metadata": {}
        }
      ]
    },
    {
      "cell_type": "code",
      "source": [
        "plot_data(X_test, y_test)"
      ],
      "metadata": {
        "id": "-D_VUpiJ-QyS",
        "colab": {
          "base_uri": "https://localhost:8080/",
          "height": 573
        },
        "outputId": "a2a1f543-0bb7-499c-95d5-a023c5ebd2f9"
      },
      "execution_count": 72,
      "outputs": [
        {
          "output_type": "display_data",
          "data": {
            "text/plain": [
              "<Figure size 1000x600 with 8 Axes>"
            ],
            "image/png": "[encoded data removed]"
          },
          "metadata": {}
        }
      ]
    },
    {
      "cell_type": "markdown",
      "source": [
        "#3. Image Pre-processing"
      ],
      "metadata": {
        "id": "TtgvQznD-hil"
      }
    },
    {
      "cell_type": "code",
      "source": [
        "#Convert to float32 & scale images to the [0,1] range for training\n",
        "X_train=X_train.astype(np.float32) / 255\n",
        "X_test=X_test.astype(np.float32) / 255"
      ],
      "metadata": {
        "id": "6i-oVUbx-l9_"
      },
      "execution_count": 53,
      "outputs": []
    },
    {
      "cell_type": "code",
      "source": [
        "X_train.shape, X_train.dtype"
      ],
      "metadata": {
        "colab": {
          "base_uri": "https://localhost:8080/"
        },
        "id": "T7HoiyBH_bho",
        "outputId": "17c45217-8d1e-4b71-a1ec-3ab0880061d3"
      },
      "execution_count": 54,
      "outputs": [
        {
          "output_type": "execute_result",
          "data": {
            "text/plain": [
              "((60000, 28, 28), dtype('float32'))"
            ]
          },
          "metadata": {},
          "execution_count": 54
        }
      ]
    },
    {
      "cell_type": "code",
      "source": [
        "X_test.shape, X_test.dtype"
      ],
      "metadata": {
        "colab": {
          "base_uri": "https://localhost:8080/"
        },
        "id": "BRxyPFkg_2qP",
        "outputId": "2cb8e540-a0d2-4ea6-fa5a-ff200c31c632"
      },
      "execution_count": 55,
      "outputs": [
        {
          "output_type": "execute_result",
          "data": {
            "text/plain": [
              "((10000, 28, 28), dtype('float32'))"
            ]
          },
          "metadata": {},
          "execution_count": 55
        }
      ]
    },
    {
      "cell_type": "code",
      "source": [
        "#Make sure images have shape (60000, 28, 28) => (60000, 28, 28, 1)\n",
        "X_train = np.expand_dims(X_train, axis=-1)\n",
        "X_test = np.expand_dims(X_test, axis=-1)"
      ],
      "metadata": {
        "id": "-4MGSkKAA9aG"
      },
      "execution_count": 56,
      "outputs": []
    },
    {
      "cell_type": "code",
      "source": [
        "X_train.shape, X_train.dtype"
      ],
      "metadata": {
        "colab": {
          "base_uri": "https://localhost:8080/"
        },
        "id": "KEDAm3IABWNp",
        "outputId": "e7a74630-25ca-4f30-baf5-a5e55bff9dc8"
      },
      "execution_count": 57,
      "outputs": [
        {
          "output_type": "execute_result",
          "data": {
            "text/plain": [
              "((60000, 28, 28, 1), dtype('float32'))"
            ]
          },
          "metadata": {},
          "execution_count": 57
        }
      ]
    },
    {
      "cell_type": "code",
      "source": [
        "X_test.shape, X_test.dtype"
      ],
      "metadata": {
        "colab": {
          "base_uri": "https://localhost:8080/"
        },
        "id": "CDz-0JN4BXhX",
        "outputId": "6720356a-597f-48ef-bbfb-8562b6009d47"
      },
      "execution_count": 58,
      "outputs": [
        {
          "output_type": "execute_result",
          "data": {
            "text/plain": [
              "((10000, 28, 28, 1), dtype('float32'))"
            ]
          },
          "metadata": {},
          "execution_count": 58
        }
      ]
    },
    {
      "cell_type": "code",
      "source": [
        "#convert class vector to binary class matrics: 1 => [0 1 0 0 ...]\n",
        "#1 => sparse_categorical_crossentropy\n",
        "#[0 1 0 0 ...] => categorical_crossentropy\n",
        "y_train_label = keras.utils.to_categorical(y_train, class_nums)\n",
        "y_test_label = keras.utils.to_categorical(y_test, class_nums)"
      ],
      "metadata": {
        "id": "F6XsRf3ICM-e"
      },
      "execution_count": 59,
      "outputs": []
    },
    {
      "cell_type": "code",
      "source": [
        "y_train[0], y_train_label[0]"
      ],
      "metadata": {
        "colab": {
          "base_uri": "https://localhost:8080/"
        },
        "id": "0ZC9jIjPC0KF",
        "outputId": "5f81a589-cb1e-4a8b-98cf-f500b17414ec"
      },
      "execution_count": 60,
      "outputs": [
        {
          "output_type": "execute_result",
          "data": {
            "text/plain": [
              "(5, array([0., 0., 0., 0., 0., 1., 0., 0., 0., 0.], dtype=float32))"
            ]
          },
          "metadata": {},
          "execution_count": 60
        }
      ]
    },
    {
      "cell_type": "markdown",
      "source": [
        "#4. Network (CNN) Architecture"
      ],
      "metadata": {
        "id": "swV623sLC-QT"
      }
    },
    {
      "cell_type": "code",
      "source": [
        "input_shape = (28, 28, 1)"
      ],
      "metadata": {
        "id": "crtnskpmEM8p"
      },
      "execution_count": 61,
      "outputs": []
    },
    {
      "cell_type": "code",
      "source": [
        "# model = keras.models.Sequential([\n",
        "#     layers.Flatten(input_shape = input_shape), #(28, 28, 1)->vector 1 chiều (28*28)\n",
        "#     layers.Dense(512, activation='relu'), #tìm hiểu về hàm relu: trả về chính giá trị đầu vào nếu nó lớn hơn 0, trả về 0 nếu nó nhỏ hơn hoặc bằng 0 => hàm này đóng vai trò bộ lọc, bỏ đi các giá trị nhỏ hơn hoặc bằng 0\n",
        "#     layers.Dense(256, activation='relu'),\n",
        "#     layers.Dense(class_nums, activation='softmax'), #tìm hiểu về hàm softmax: chọn ra giá trị lớn nhất trong tập bộ số: trả về giá trị bằng 1 cho số lớn nhất, bằng 0 cho các số còn lại => tìm y_predict dễ dàng, đỡ phải so sánh\n",
        "#     ])\n",
        "\n",
        "#Using CNN to predict\n",
        "model = keras.models.Sequential([\n",
        "    layers.Conv2D(filters=32, kernel_size=(3,3), activation='relu', input_shape=input_shape),\n",
        "    layers.MaxPool2D(pool_size=(2,2)),\n",
        "    layers.Conv2D(filters=64, kernel_size=(3,3), activation='relu'),\n",
        "    layers.MaxPool2D(pool_size=(2,2)),\n",
        "    layers.Conv2D(filters=128, kernel_size=(3,3), activation='relu'),\n",
        "    layers.Flatten(),\n",
        "    layers.Dense(128, activation='relu'),\n",
        "    layers.Dense(class_nums, activation='softmax')\n",
        "])\n",
        "\n",
        "model.summary()"
      ],
      "metadata": {
        "colab": {
          "base_uri": "https://localhost:8080/"
        },
        "id": "ycSo7HZ0DTiM",
        "outputId": "15e7cc4a-ab2e-4b15-b1d1-c15482f63f05"
      },
      "execution_count": 62,
      "outputs": [
        {
          "output_type": "stream",
          "name": "stdout",
          "text": [
            "Model: \"sequential_1\"\n",
            "_________________________________________________________________\n",
            " Layer (type)                Output Shape              Param #   \n",
            "=================================================================\n",
            " conv2d (Conv2D)             (None, 26, 26, 32)        320       \n",
            "                                                                 \n",
            " max_pooling2d (MaxPooling2  (None, 13, 13, 32)        0         \n",
            " D)                                                              \n",
            "                                                                 \n",
            " conv2d_1 (Conv2D)           (None, 11, 11, 64)        18496     \n",
            "                                                                 \n",
            " max_pooling2d_1 (MaxPoolin  (None, 5, 5, 64)          0         \n",
            " g2D)                                                            \n",
            "                                                                 \n",
            " conv2d_2 (Conv2D)           (None, 3, 3, 128)         73856     \n",
            "                                                                 \n",
            " flatten_1 (Flatten)         (None, 1152)              0         \n",
            "                                                                 \n",
            " dense_3 (Dense)             (None, 128)               147584    \n",
            "                                                                 \n",
            " dense_4 (Dense)             (None, 10)                1290      \n",
            "                                                                 \n",
            "=================================================================\n",
            "Total params: 241546 (943.54 KB)\n",
            "Trainable params: 241546 (943.54 KB)\n",
            "Non-trainable params: 0 (0.00 Byte)\n",
            "_________________________________________________________________\n"
          ]
        }
      ]
    },
    {
      "cell_type": "code",
      "source": [
        "model.compile(optimizer='rmsprop',\n",
        "              loss='categorical_crossentropy',\n",
        "              metrics='accuracy')"
      ],
      "metadata": {
        "id": "9Qvj37Kf7ZjP"
      },
      "execution_count": 63,
      "outputs": []
    },
    {
      "cell_type": "code",
      "source": [
        "epochs = 10\n",
        "batch_size = 128\n",
        "history = model.fit(X_train, y_train_label,\n",
        "          epochs=epochs,\n",
        "          batch_size=batch_size,\n",
        "          validation_split=0.1\n",
        "          )"
      ],
      "metadata": {
        "colab": {
          "base_uri": "https://localhost:8080/"
        },
        "id": "K7l3SUdG96q5",
        "outputId": "4c4779ce-edc0-4c6a-fdc6-7ca8e130f700"
      },
      "execution_count": 64,
      "outputs": [
        {
          "output_type": "stream",
          "name": "stdout",
          "text": [
            "Epoch 1/10\n",
            "422/422 [==============================] - 52s 122ms/step - loss: 0.2250 - accuracy: 0.9291 - val_loss: 0.0492 - val_accuracy: 0.9860\n",
            "Epoch 2/10\n",
            "422/422 [==============================] - 54s 127ms/step - loss: 0.0509 - accuracy: 0.9842 - val_loss: 0.0485 - val_accuracy: 0.9873\n",
            "Epoch 3/10\n",
            "422/422 [==============================] - 51s 121ms/step - loss: 0.0338 - accuracy: 0.9896 - val_loss: 0.0332 - val_accuracy: 0.9908\n",
            "Epoch 4/10\n",
            "422/422 [==============================] - 50s 119ms/step - loss: 0.0237 - accuracy: 0.9928 - val_loss: 0.0328 - val_accuracy: 0.9898\n",
            "Epoch 5/10\n",
            "422/422 [==============================] - 49s 117ms/step - loss: 0.0181 - accuracy: 0.9941 - val_loss: 0.0343 - val_accuracy: 0.9908\n",
            "Epoch 6/10\n",
            "422/422 [==============================] - 52s 123ms/step - loss: 0.0145 - accuracy: 0.9952 - val_loss: 0.0338 - val_accuracy: 0.9918\n",
            "Epoch 7/10\n",
            "422/422 [==============================] - 49s 117ms/step - loss: 0.0106 - accuracy: 0.9963 - val_loss: 0.0339 - val_accuracy: 0.9937\n",
            "Epoch 8/10\n",
            "422/422 [==============================] - 50s 118ms/step - loss: 0.0082 - accuracy: 0.9973 - val_loss: 0.0346 - val_accuracy: 0.9928\n",
            "Epoch 9/10\n",
            "422/422 [==============================] - 55s 130ms/step - loss: 0.0073 - accuracy: 0.9977 - val_loss: 0.0419 - val_accuracy: 0.9908\n",
            "Epoch 10/10\n",
            "422/422 [==============================] - 50s 118ms/step - loss: 0.0060 - accuracy: 0.9979 - val_loss: 0.0394 - val_accuracy: 0.9925\n"
          ]
        }
      ]
    },
    {
      "cell_type": "code",
      "source": [
        "history_dict = history.history"
      ],
      "metadata": {
        "id": "_qHIKyx1_q6f"
      },
      "execution_count": null,
      "outputs": []
    },
    {
      "cell_type": "code",
      "source": [
        "history_dict.keys()"
      ],
      "metadata": {
        "colab": {
          "base_uri": "https://localhost:8080/"
        },
        "id": "4LDSGqK6_v0v",
        "outputId": "ff21e4a0-edae-4085-f39d-3fc5e8c315b9"
      },
      "execution_count": null,
      "outputs": [
        {
          "output_type": "execute_result",
          "data": {
            "text/plain": [
              "dict_keys(['loss', 'accuracy', 'val_loss', 'val_accuracy'])"
            ]
          },
          "metadata": {},
          "execution_count": 28
        }
      ]
    },
    {
      "cell_type": "code",
      "source": [
        "train_loss, val_loss = history_dict['loss'], history_dict['val_loss']\n",
        "train_acc, val_acc = history_dict['accuracy'], history_dict['val_accuracy']"
      ],
      "metadata": {
        "id": "v17KERUy_zSj"
      },
      "execution_count": null,
      "outputs": []
    },
    {
      "cell_type": "code",
      "source": [
        "fig, (ax1, ax2) = plt.subplots(1, 2, figsize=(15,5))\n",
        "epochs_runs = [i+1 for i in range(epochs)]\n",
        "\n",
        "ax1.plot(epochs_runs, train_loss, label='Training Loss')\n",
        "ax1.plot(epochs_runs, val_loss, label='Vadidation Loss', marker='o')\n",
        "ax1.set(title='Training vs Validation Loss', xlabel='Epochs', ylabel='Loss')\n",
        "ax1.legend()\n",
        "\n",
        "ax2.plot(epochs_runs, train_acc, label='Training Accuracy')\n",
        "ax2.plot(epochs_runs, val_acc, label='Vadidation Accuracy', marker='o')\n",
        "ax2.set(title='Training vs Validation Accuracy', xlabel='Epochs', ylabel='Accuracy')\n",
        "ax2.legend()\n",
        "\n",
        "plt.show()"
      ],
      "metadata": {
        "colab": {
          "base_uri": "https://localhost:8080/"
        },
        "id": "Fng0SvPZAMJh",
        "outputId": "62a6cc83-b505-486a-a3b2-3ac8c9dc6729"
      },
      "execution_count": null,
      "outputs": [
        {
          "output_type": "display_data",
          "data": {
            "text/plain": [
              "<Figure size 1500x500 with 2 Axes>"
            ],
            "image/png": "[encoded data removed]"
          },
          "metadata": {}
        }
      ]
    },
    {
      "cell_type": "markdown",
      "source": [
        "#5. Model Evaluation"
      ],
      "metadata": {
        "id": "noqp3zD5EAEN"
      }
    },
    {
      "cell_type": "code",
      "source": [
        "score = model.evaluate(X_test, y_test_label)"
      ],
      "metadata": {
        "colab": {
          "base_uri": "https://localhost:8080/"
        },
        "id": "chpnAiC8EDB9",
        "outputId": "9da54ff0-8c7e-447c-ee11-2d8318af02f0"
      },
      "execution_count": null,
      "outputs": [
        {
          "output_type": "stream",
          "name": "stdout",
          "text": [
            "313/313 [==============================] - 1s 3ms/step - loss: 0.0901 - accuracy: 0.9817\n"
          ]
        }
      ]
    },
    {
      "cell_type": "code",
      "source": [
        "print(f\"Test Loss: {score[0]:.4f}\")\n",
        "print(f\"Test Accuracy: {score[1]:.4f}\")"
      ],
      "metadata": {
        "colab": {
          "base_uri": "https://localhost:8080/"
        },
        "id": "SQrohGvJENU-",
        "outputId": "a6a7832e-9c36-4b46-cf05-9784e305d6c8"
      },
      "execution_count": null,
      "outputs": [
        {
          "output_type": "stream",
          "name": "stdout",
          "text": [
            "Test Loss: 0.0901\n",
            "Test Accuracy: 0.9817\n"
          ]
        }
      ]
    },
    {
      "cell_type": "code",
      "source": [
        "X_sample = X_test[:3] #Lấy 3 samples đầu tiên để check\n",
        "y_proba_sample = model.predict(X_sample)"
      ],
      "metadata": {
        "colab": {
          "base_uri": "https://localhost:8080/"
        },
        "id": "yTdbcohKEhBR",
        "outputId": "0c03c5f6-a35e-4cab-decb-6dd65554cbd9"
      },
      "execution_count": null,
      "outputs": [
        {
          "output_type": "stream",
          "name": "stdout",
          "text": [
            "1/1 [==============================] - 0s 104ms/step\n"
          ]
        }
      ]
    },
    {
      "cell_type": "code",
      "source": [
        "y_proba_sample.round(3)"
      ],
      "metadata": {
        "colab": {
          "base_uri": "https://localhost:8080/"
        },
        "id": "OqK9ZCpZEqiB",
        "outputId": "d91a1c57-f397-4c21-c17e-08d622097784"
      },
      "execution_count": null,
      "outputs": [
        {
          "output_type": "execute_result",
          "data": {
            "text/plain": [
              "array([[0., 0., 0., 0., 0., 0., 0., 1., 0., 0.],\n",
              "       [0., 0., 1., 0., 0., 0., 0., 0., 0., 0.],\n",
              "       [0., 1., 0., 0., 0., 0., 0., 0., 0., 0.]], dtype=float32)"
            ]
          },
          "metadata": {},
          "execution_count": 34
        }
      ]
    },
    {
      "cell_type": "code",
      "source": [
        "predictions = np.argmax(y_proba_sample, axis=1)\n",
        "# [[0.1, 0.3, 0.5, 0.1],  # Mẫu 1 (Dòng 0)\n",
        "#  [0.2, 0.2, 0.2, 0.4],  # Mẫu 2 (Dòng 1)\n",
        "#  [0.7, 0.1, 0.1, 0.1]]  # Mẫu 3 (Dòng 2)\n",
        "\n",
        "# axis=0 sẽ nghĩa là bạn muốn tìm giá trị lớn nhất trong từng cột (theo các mẫu dữ liệu).\n",
        "# axis=1 sẽ nghĩa là bạn muốn tìm giá trị lớn nhất trong từng hàng (theo các lớp)."
      ],
      "metadata": {
        "id": "Hd3pZz4pFKMy"
      },
      "execution_count": null,
      "outputs": []
    },
    {
      "cell_type": "code",
      "source": [
        "[class_names[pred] for pred in predictions]"
      ],
      "metadata": {
        "colab": {
          "base_uri": "https://localhost:8080/"
        },
        "id": "LjpTvco9FRJ-",
        "outputId": "fab501d2-fc00-463d-f0d5-6cefb8dbfaa5"
      },
      "execution_count": null,
      "outputs": [
        {
          "output_type": "execute_result",
          "data": {
            "text/plain": [
              "['Number 7', 'Number 2', 'Number 1']"
            ]
          },
          "metadata": {},
          "execution_count": 36
        }
      ]
    },
    {
      "cell_type": "code",
      "source": [
        "y_proba = model.predict(X_test)"
      ],
      "metadata": {
        "colab": {
          "base_uri": "https://localhost:8080/"
        },
        "id": "pt-7ESMJFTr0",
        "outputId": "11118be3-0a68-4df7-db4e-964c78a51ac9"
      },
      "execution_count": null,
      "outputs": [
        {
          "output_type": "stream",
          "name": "stdout",
          "text": [
            "313/313 [==============================] - 1s 3ms/step\n"
          ]
        }
      ]
    },
    {
      "cell_type": "code",
      "source": [
        "plot_data(X_test, y_test, y_proba)"
      ],
      "metadata": {
        "colab": {
          "base_uri": "https://localhost:8080/",
          "height": 594
        },
        "id": "ZFLezcZvL_a8",
        "outputId": "76ba26b1-030d-4587-9a01-bc0512a6d1cb"
      },
      "execution_count": 77,
      "outputs": [
        {
          "output_type": "display_data",
          "data": {
            "text/plain": [
              "<Figure size 1000x600 with 8 Axes>"
            ],
            "image/png": "[encoded data removed]"
          },
          "metadata": {}
        }
      ]
    }
  ]
}