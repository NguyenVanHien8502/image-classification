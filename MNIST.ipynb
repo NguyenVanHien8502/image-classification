{
  "nbformat": 4,
  "nbformat_minor": 0,
  "metadata": {
    "colab": {
      "provenance": [],
      "authorship_tag": "ABX9TyPOC/lgsG6uiwg1Gp+9FoUt",
      "include_colab_link": true
    },
    "kernelspec": {
      "name": "python3",
      "display_name": "Python 3"
    },
    "language_info": {
      "name": "python"
    }
  },
  "cells": [
    {
      "cell_type": "markdown",
      "metadata": {
        "id": "view-in-github",
        "colab_type": "text"
      },
      "source": [
        "<a href=\"https://colab.research.google.com/github/NguyenVanHien8502/image-classification/blob/main/MNIST.ipynb\" target=\"_parent\"><img src=\"https://colab.research.google.com/assets/colab-badge.svg\" alt=\"Open In Colab\"/></a>"
      ]
    },
    {
      "cell_type": "markdown",
      "source": [
        "#Mount google drive"
      ],
      "metadata": {
        "id": "CWK2xUsO29KS"
      }
    },
    {
      "cell_type": "code",
      "source": [
        "from google.colab import drive\n",
        "drive.mount(\"/content/drive/\")"
      ],
      "metadata": {
        "id": "6HzFPKTHyaqr",
        "colab": {
          "base_uri": "https://localhost:8080/"
        },
        "outputId": "07d7a31f-09df-4539-82e6-608445187a84"
      },
      "execution_count": 75,
      "outputs": [
        {
          "output_type": "stream",
          "name": "stdout",
          "text": [
            "Drive already mounted at /content/drive/; to attempt to forcibly remount, call drive.mount(\"/content/drive/\", force_remount=True).\n"
          ]
        }
      ]
    },
    {
      "cell_type": "markdown",
      "source": [
        "# Import libraries"
      ],
      "metadata": {
        "id": "exRFQDSVO-Wr"
      }
    },
    {
      "cell_type": "code",
      "source": [
        "import matplotlib.pyplot as plt\n",
        "import numpy as np\n",
        "import random\n",
        "import struct\n",
        "import gzip\n",
        "\n",
        "import tensorflow as tf\n",
        "from tensorflow import keras\n",
        "from keras.api._v2.keras import layers\n"
      ],
      "metadata": {
        "id": "1Q2MZkEQI98T"
      },
      "execution_count": 76,
      "outputs": []
    },
    {
      "cell_type": "markdown",
      "source": [
        "#1. Load Data from file .gz"
      ],
      "metadata": {
        "id": "s1ez2hxyIfeC"
      }
    },
    {
      "cell_type": "code",
      "source": [
        "#Load image train\n",
        "filename = '/content/drive/MyDrive/Colab_Notebooks/train-images-idx3-ubyte.gz'\n",
        "\n",
        "with gzip.open(filename, 'rb') as f:\n",
        "    magic, size = struct.unpack(\">II\", f.read(8))\n",
        "    nrows, ncols = struct.unpack(\">II\", f.read(8))\n",
        "    X_train = np.frombuffer(f.read(), dtype=np.uint8)\n",
        "    X_train = X_train.reshape(size, nrows, ncols)"
      ],
      "metadata": {
        "id": "BgDoq6AvIbnO"
      },
      "execution_count": 77,
      "outputs": []
    },
    {
      "cell_type": "code",
      "source": [
        "#Load label train\n",
        "filename = '/content/drive/MyDrive/Colab_Notebooks/train-labels-idx1-ubyte.gz'\n",
        "\n",
        "with gzip.open(filename, 'rb') as f:\n",
        "    magic, size = struct.unpack(\">II\", f.read(8))\n",
        "    y_train = np.frombuffer(f.read(), dtype=np.uint8)\n",
        "    y_train = y_train.reshape((size,))"
      ],
      "metadata": {
        "id": "wa4sHHQtJU_3"
      },
      "execution_count": 78,
      "outputs": []
    },
    {
      "cell_type": "code",
      "source": [
        "#Load image test\n",
        "filename = '/content/drive/MyDrive/Colab_Notebooks/t10k-images-idx3-ubyte.gz'\n",
        "\n",
        "with gzip.open(filename, 'rb') as f:\n",
        "    magic, size = struct.unpack(\">II\", f.read(8))\n",
        "    nrows, ncols = struct.unpack(\">II\", f.read(8))\n",
        "    X_test = np.frombuffer(f.read(), dtype=np.uint8)\n",
        "    X_test = X_test.reshape(size, nrows, ncols)"
      ],
      "metadata": {
        "id": "NH1x6DE5OduG"
      },
      "execution_count": 79,
      "outputs": []
    },
    {
      "cell_type": "code",
      "source": [
        "#Load label test\n",
        "filename = '/content/drive/MyDrive/Colab_Notebooks/t10k-labels-idx1-ubyte.gz'\n",
        "\n",
        "with gzip.open(filename, 'rb') as f:\n",
        "    magic, size = struct.unpack(\">II\", f.read(8))\n",
        "    y_test = np.frombuffer(f.read(), dtype=np.uint8)\n",
        "    y_test = y_test.reshape((size,))"
      ],
      "metadata": {
        "id": "HzEn1F0bOguL"
      },
      "execution_count": 80,
      "outputs": []
    },
    {
      "cell_type": "markdown",
      "source": [
        "#2. Check data"
      ],
      "metadata": {
        "id": "mBQiPaPTO2pz"
      }
    },
    {
      "cell_type": "code",
      "source": [
        "X_train.shape, y_train.shape"
      ],
      "metadata": {
        "colab": {
          "base_uri": "https://localhost:8080/"
        },
        "id": "uSZDwjDrKirT",
        "outputId": "6e20b46e-b2c7-4494-cb2f-c94c5dbf3a16"
      },
      "execution_count": 81,
      "outputs": [
        {
          "output_type": "execute_result",
          "data": {
            "text/plain": [
              "((60000, 28, 28), (60000,))"
            ]
          },
          "metadata": {},
          "execution_count": 81
        }
      ]
    },
    {
      "cell_type": "code",
      "source": [
        "type(X_train), type(y_train)"
      ],
      "metadata": {
        "colab": {
          "base_uri": "https://localhost:8080/"
        },
        "id": "gsYdr5lvLfR9",
        "outputId": "d51a05d7-37de-422a-d517-4d0f394d6b05"
      },
      "execution_count": 82,
      "outputs": [
        {
          "output_type": "execute_result",
          "data": {
            "text/plain": [
              "(numpy.ndarray, numpy.ndarray)"
            ]
          },
          "metadata": {},
          "execution_count": 82
        }
      ]
    },
    {
      "cell_type": "code",
      "source": [
        "X_train.dtype, y_train.dtype"
      ],
      "metadata": {
        "colab": {
          "base_uri": "https://localhost:8080/"
        },
        "id": "sWpDfup9MDn5",
        "outputId": "bff18246-cc45-45cd-eec2-bcb7e1caf939"
      },
      "execution_count": 83,
      "outputs": [
        {
          "output_type": "execute_result",
          "data": {
            "text/plain": [
              "(dtype('uint8'), dtype('uint8'))"
            ]
          },
          "metadata": {},
          "execution_count": 83
        }
      ]
    },
    {
      "cell_type": "code",
      "source": [
        "class_names = [\"Number 0\", \"Number 1\", \"Number 2\", \"Number 3\", \"Number 4\", \"Number 5\", \"Number 6\", \"Number 7\", \"Number 8\", \"Number 9\"]\n",
        "class_nums = len(class_names)"
      ],
      "metadata": {
        "id": "LEhTDHHAPQEb"
      },
      "execution_count": 84,
      "outputs": []
    },
    {
      "cell_type": "code",
      "source": [
        "plt.imshow(X_train[0,:,:], cmap='gray')\n",
        "plt.xticks([])\n",
        "plt.yticks([])\n",
        "plt.show()\n",
        "print(f\"Label: {class_names[y_train[0]]}\")"
      ],
      "metadata": {
        "colab": {
          "base_uri": "https://localhost:8080/",
          "height": 423
        },
        "id": "rg_hSPmLJesd",
        "outputId": "7bd13bea-1967-4a11-8432-8a07759273e6"
      },
      "execution_count": 85,
      "outputs": [
        {
          "output_type": "display_data",
          "data": {
            "text/plain": [
              "<Figure size 640x480 with 1 Axes>"
            ],
            "image/png": "[encoded data removed]"
          },
          "metadata": {}
        },
        {
          "output_type": "stream",
          "name": "stdout",
          "text": [
            "Label: Number 5\n"
          ]
        }
      ]
    },
    {
      "cell_type": "code",
      "source": [
        "from typing import Optional\n",
        "def plot_data(x_data: np.ndarray, y_data:np.ndarray, y_proba: Optional[np.ndarray] = None)->None:\n",
        "  nrows, ncols=2, 4\n",
        "  fig, axes = plt.subplots(nrows, ncols, figsize=(8,4))\n",
        "\n",
        "  len_x = x_data.shape[0]\n",
        "  for idx in range(nrows*ncols):\n",
        "    ax = axes[idx // ncols, idx % ncols]\n",
        "    img_idx = random.randint(0, len_x)\n",
        "    ax.imshow(x_data[img_idx], cmap='gray')\n",
        "    ax.set(xticks=[], yticks=[])\n",
        "    color = 'green'\n",
        "\n",
        "    true_label_str = f\"True: {class_names[y_data[img_idx]]}\"\n",
        "\n",
        "    if y_proba is not None:\n",
        "      predicted_idx = np.argmax(y_proba[img_idx])\n",
        "      predicted_label = class_names[predicted_idx]\n",
        "      color = 'red' if predicted_idx != y_data[img_idx] else color\n",
        "      predicted_label_str = f\"\\nPredicted: {predicted_label}\"\n",
        "\n",
        "    img_title = true_label_str if y_proba is None else true_label_str + predicted_label_str\n",
        "    ax.set_xlabel(img_title, color=color, fontsize=12)\n",
        "\n",
        "  plt.tight_layout()\n",
        "  plt.show()"
      ],
      "metadata": {
        "id": "tOGmgKhYIfHk"
      },
      "execution_count": 86,
      "outputs": []
    },
    {
      "cell_type": "code",
      "source": [
        "plot_data(X_train, y_train)"
      ],
      "metadata": {
        "id": "SobNfrUh-O_5",
        "colab": {
          "base_uri": "https://localhost:8080/",
          "height": 409
        },
        "outputId": "06523ca3-ea25-405e-a9ea-9b03f02614c4"
      },
      "execution_count": 87,
      "outputs": [
        {
          "output_type": "display_data",
          "data": {
            "text/plain": [
              "<Figure size 800x400 with 8 Axes>"
            ],
            "image/png": "[encoded data removed]"
          },
          "metadata": {}
        }
      ]
    },
    {
      "cell_type": "code",
      "source": [
        "plot_data(X_test, y_test)"
      ],
      "metadata": {
        "id": "-D_VUpiJ-QyS",
        "colab": {
          "base_uri": "https://localhost:8080/",
          "height": 409
        },
        "outputId": "1f20f3b8-a697-4647-e0b3-e023fc44e825"
      },
      "execution_count": 88,
      "outputs": [
        {
          "output_type": "display_data",
          "data": {
            "text/plain": [
              "<Figure size 800x400 with 8 Axes>"
            ],
            "image/png": "[encoded data removed]"
          },
          "metadata": {}
        }
      ]
    },
    {
      "cell_type": "markdown",
      "source": [
        "#3. Image Pre-processing"
      ],
      "metadata": {
        "id": "TtgvQznD-hil"
      }
    },
    {
      "cell_type": "code",
      "source": [
        "#Convert to float32 & scale images to the [0,1] range for training\n",
        "X_train=X_train.astype(np.float32) / 255\n",
        "X_test=X_test.astype(np.float32) / 255"
      ],
      "metadata": {
        "id": "6i-oVUbx-l9_"
      },
      "execution_count": 89,
      "outputs": []
    },
    {
      "cell_type": "code",
      "source": [
        "X_train.shape, X_train.dtype"
      ],
      "metadata": {
        "colab": {
          "base_uri": "https://localhost:8080/"
        },
        "id": "T7HoiyBH_bho",
        "outputId": "b63ac94d-acda-4f52-af97-028c1875022c"
      },
      "execution_count": 90,
      "outputs": [
        {
          "output_type": "execute_result",
          "data": {
            "text/plain": [
              "((60000, 28, 28), dtype('float32'))"
            ]
          },
          "metadata": {},
          "execution_count": 90
        }
      ]
    },
    {
      "cell_type": "code",
      "source": [
        "X_test.shape, X_test.dtype"
      ],
      "metadata": {
        "colab": {
          "base_uri": "https://localhost:8080/"
        },
        "id": "BRxyPFkg_2qP",
        "outputId": "7c2ab83a-09a3-4cbf-acb0-c411fde0d00e"
      },
      "execution_count": 91,
      "outputs": [
        {
          "output_type": "execute_result",
          "data": {
            "text/plain": [
              "((10000, 28, 28), dtype('float32'))"
            ]
          },
          "metadata": {},
          "execution_count": 91
        }
      ]
    },
    {
      "cell_type": "code",
      "source": [
        "#Make sure images have shape (60000, 28, 28) => (60000, 28, 28, 1)\n",
        "X_train = np.expand_dims(X_train, axis=-1)\n",
        "X_test = np.expand_dims(X_test, axis=-1)"
      ],
      "metadata": {
        "id": "-4MGSkKAA9aG"
      },
      "execution_count": 92,
      "outputs": []
    },
    {
      "cell_type": "code",
      "source": [
        "X_train.shape, X_train.dtype"
      ],
      "metadata": {
        "colab": {
          "base_uri": "https://localhost:8080/"
        },
        "id": "KEDAm3IABWNp",
        "outputId": "bf4ef0da-e561-49db-86aa-55354da7a06e"
      },
      "execution_count": 93,
      "outputs": [
        {
          "output_type": "execute_result",
          "data": {
            "text/plain": [
              "((60000, 28, 28, 1), dtype('float32'))"
            ]
          },
          "metadata": {},
          "execution_count": 93
        }
      ]
    },
    {
      "cell_type": "code",
      "source": [
        "X_test.shape, X_test.dtype"
      ],
      "metadata": {
        "colab": {
          "base_uri": "https://localhost:8080/"
        },
        "id": "CDz-0JN4BXhX",
        "outputId": "8890ad82-effd-478c-8308-cc0fabb61969"
      },
      "execution_count": 94,
      "outputs": [
        {
          "output_type": "execute_result",
          "data": {
            "text/plain": [
              "((10000, 28, 28, 1), dtype('float32'))"
            ]
          },
          "metadata": {},
          "execution_count": 94
        }
      ]
    },
    {
      "cell_type": "code",
      "source": [
        "#convert class vector to binary class matrics: 1 => [0 1 0 0 ...]\n",
        "#1 => sparse_categorical_crossentropy\n",
        "#[0 1 0 0 ...] => categorical_crossentropy\n",
        "y_train_label = keras.utils.to_categorical(y_train, class_nums)\n",
        "y_test_label = keras.utils.to_categorical(y_test, class_nums)"
      ],
      "metadata": {
        "id": "F6XsRf3ICM-e"
      },
      "execution_count": 95,
      "outputs": []
    },
    {
      "cell_type": "code",
      "source": [
        "y_train[0], y_train_label[0]"
      ],
      "metadata": {
        "colab": {
          "base_uri": "https://localhost:8080/"
        },
        "id": "0ZC9jIjPC0KF",
        "outputId": "876608b6-a652-4fac-bd73-325f17c85fd3"
      },
      "execution_count": 96,
      "outputs": [
        {
          "output_type": "execute_result",
          "data": {
            "text/plain": [
              "(5, array([0., 0., 0., 0., 0., 1., 0., 0., 0., 0.], dtype=float32))"
            ]
          },
          "metadata": {},
          "execution_count": 96
        }
      ]
    },
    {
      "cell_type": "markdown",
      "source": [
        "#3. Network (ANN) Architecture"
      ],
      "metadata": {
        "id": "swV623sLC-QT"
      }
    },
    {
      "cell_type": "code",
      "source": [
        "input_shape = (28, 28, 1)"
      ],
      "metadata": {
        "id": "crtnskpmEM8p"
      },
      "execution_count": 97,
      "outputs": []
    },
    {
      "cell_type": "code",
      "source": [
        "model = keras.models.Sequential([\n",
        "    layers.Flatten(input_shape = input_shape), #(28, 28, 1)->vector 1 chiều (28*28)\n",
        "    layers.Dense(512, activation='relu'),\n",
        "    layers.Dense(256, activation='relu'),\n",
        "    layers.Dense(class_nums, activation='softmax'),\n",
        "    ])\n",
        "\n",
        "model.summary()"
      ],
      "metadata": {
        "colab": {
          "base_uri": "https://localhost:8080/"
        },
        "id": "ycSo7HZ0DTiM",
        "outputId": "096cf557-1aca-48a7-fb6d-22a14795878c"
      },
      "execution_count": 98,
      "outputs": [
        {
          "output_type": "stream",
          "name": "stdout",
          "text": [
            "Model: \"sequential_1\"\n",
            "_________________________________________________________________\n",
            " Layer (type)                Output Shape              Param #   \n",
            "=================================================================\n",
            " flatten_1 (Flatten)         (None, 784)               0         \n",
            "                                                                 \n",
            " dense_3 (Dense)             (None, 512)               401920    \n",
            "                                                                 \n",
            " dense_4 (Dense)             (None, 256)               131328    \n",
            "                                                                 \n",
            " dense_5 (Dense)             (None, 10)                2570      \n",
            "                                                                 \n",
            "=================================================================\n",
            "Total params: 535818 (2.04 MB)\n",
            "Trainable params: 535818 (2.04 MB)\n",
            "Non-trainable params: 0 (0.00 Byte)\n",
            "_________________________________________________________________\n"
          ]
        }
      ]
    },
    {
      "cell_type": "code",
      "source": [
        "model.compile(optimizer='rmsprop',\n",
        "              loss='categorical_crossentropy',\n",
        "              metrics='accuracy')"
      ],
      "metadata": {
        "id": "9Qvj37Kf7ZjP"
      },
      "execution_count": 99,
      "outputs": []
    },
    {
      "cell_type": "code",
      "source": [
        "epochs = 10\n",
        "batch_size = 128\n",
        "history = model.fit(X_train, y_train_label,\n",
        "          epochs=epochs,\n",
        "          batch_size=batch_size,\n",
        "          validation_split=0.1\n",
        "          )"
      ],
      "metadata": {
        "colab": {
          "base_uri": "https://localhost:8080/"
        },
        "id": "K7l3SUdG96q5",
        "outputId": "2b7ab9c5-2db3-46a1-ed36-86a1a3504a68"
      },
      "execution_count": 100,
      "outputs": [
        {
          "output_type": "stream",
          "name": "stdout",
          "text": [
            "Epoch 1/10\n",
            "422/422 [==============================] - 6s 13ms/step - loss: 0.2539 - accuracy: 0.9223 - val_loss: 0.1017 - val_accuracy: 0.9697\n",
            "Epoch 2/10\n",
            "422/422 [==============================] - 7s 16ms/step - loss: 0.0917 - accuracy: 0.9722 - val_loss: 0.0764 - val_accuracy: 0.9755\n",
            "Epoch 3/10\n",
            "422/422 [==============================] - 5s 12ms/step - loss: 0.0591 - accuracy: 0.9814 - val_loss: 0.0704 - val_accuracy: 0.9792\n",
            "Epoch 4/10\n",
            "422/422 [==============================] - 5s 13ms/step - loss: 0.0414 - accuracy: 0.9864 - val_loss: 0.0757 - val_accuracy: 0.9803\n",
            "Epoch 5/10\n",
            "422/422 [==============================] - 7s 16ms/step - loss: 0.0291 - accuracy: 0.9907 - val_loss: 0.0666 - val_accuracy: 0.9820\n",
            "Epoch 6/10\n",
            "422/422 [==============================] - 5s 12ms/step - loss: 0.0220 - accuracy: 0.9926 - val_loss: 0.0780 - val_accuracy: 0.9817\n",
            "Epoch 7/10\n",
            "422/422 [==============================] - 7s 16ms/step - loss: 0.0160 - accuracy: 0.9953 - val_loss: 0.0885 - val_accuracy: 0.9818\n",
            "Epoch 8/10\n",
            "422/422 [==============================] - 5s 12ms/step - loss: 0.0129 - accuracy: 0.9956 - val_loss: 0.0953 - val_accuracy: 0.9817\n",
            "Epoch 9/10\n",
            "422/422 [==============================] - 5s 12ms/step - loss: 0.0096 - accuracy: 0.9969 - val_loss: 0.0826 - val_accuracy: 0.9843\n",
            "Epoch 10/10\n",
            "422/422 [==============================] - 7s 17ms/step - loss: 0.0075 - accuracy: 0.9975 - val_loss: 0.0974 - val_accuracy: 0.9818\n"
          ]
        }
      ]
    },
    {
      "cell_type": "code",
      "source": [
        "history_dict = history.history"
      ],
      "metadata": {
        "id": "_qHIKyx1_q6f"
      },
      "execution_count": 101,
      "outputs": []
    },
    {
      "cell_type": "code",
      "source": [
        "history_dict.keys()"
      ],
      "metadata": {
        "colab": {
          "base_uri": "https://localhost:8080/"
        },
        "id": "4LDSGqK6_v0v",
        "outputId": "558dacab-a22f-4e1f-e11c-0e980114e33b"
      },
      "execution_count": 102,
      "outputs": [
        {
          "output_type": "execute_result",
          "data": {
            "text/plain": [
              "dict_keys(['loss', 'accuracy', 'val_loss', 'val_accuracy'])"
            ]
          },
          "metadata": {},
          "execution_count": 102
        }
      ]
    },
    {
      "cell_type": "code",
      "source": [
        "train_loss, val_loss = history_dict['loss'], history_dict['val_loss']\n",
        "train_acc, val_acc = history_dict['accuracy'], history_dict['val_accuracy']"
      ],
      "metadata": {
        "id": "v17KERUy_zSj"
      },
      "execution_count": 103,
      "outputs": []
    },
    {
      "cell_type": "code",
      "source": [
        "fig, (ax1, ax2) = plt.subplots(1, 2, figsize=(15,5))\n",
        "epochs_runs = [i+1 for i in range(epochs)]\n",
        "\n",
        "ax1.plot(epochs_runs, train_loss, label='Training Loss')\n",
        "ax1.plot(epochs_runs, val_loss, label='Vadidation Loss', marker='o')\n",
        "ax1.set(title='Training vs Validation Loss', xlabel='Epochs', ylabel='Loss')\n",
        "ax1.legend()\n",
        "\n",
        "ax2.plot(epochs_runs, train_acc, label='Training Accuracy')\n",
        "ax2.plot(epochs_runs, val_acc, label='Vadidation Accuracy', marker='o')\n",
        "ax2.set(title='Training vs Validation Accuracy', xlabel='Epochs', ylabel='Accuracy')\n",
        "ax2.legend()\n",
        "\n",
        "plt.show()"
      ],
      "metadata": {
        "colab": {
          "base_uri": "https://localhost:8080/",
          "height": 438
        },
        "id": "Fng0SvPZAMJh",
        "outputId": "03dede67-4389-4304-adde-e0a4b584c4ce"
      },
      "execution_count": 104,
      "outputs": [
        {
          "output_type": "display_data",
          "data": {
            "text/plain": [
              "<Figure size 1500x500 with 2 Axes>"
            ],
            "image/png": "[encoded data removed]"
          },
          "metadata": {}
        }
      ]
    },
    {
      "cell_type": "markdown",
      "source": [
        "#4. Model Evaluation"
      ],
      "metadata": {
        "id": "noqp3zD5EAEN"
      }
    },
    {
      "cell_type": "code",
      "source": [
        "score = model.evaluate(X_test, y_test_label)"
      ],
      "metadata": {
        "colab": {
          "base_uri": "https://localhost:8080/"
        },
        "id": "chpnAiC8EDB9",
        "outputId": "4d0f84a0-dfbb-461f-e6b2-027d5dc5feca"
      },
      "execution_count": 105,
      "outputs": [
        {
          "output_type": "stream",
          "name": "stdout",
          "text": [
            "313/313 [==============================] - 2s 6ms/step - loss: 0.0850 - accuracy: 0.9819\n"
          ]
        }
      ]
    },
    {
      "cell_type": "code",
      "source": [
        "print(f\"Test Loss: {score[0]:.4f}\")\n",
        "print(f\"Test Accuracy: {score[1]:.4f}\")"
      ],
      "metadata": {
        "colab": {
          "base_uri": "https://localhost:8080/"
        },
        "id": "SQrohGvJENU-",
        "outputId": "e3bdafb6-cb4e-4a62-819a-ecaff63424d3"
      },
      "execution_count": 106,
      "outputs": [
        {
          "output_type": "stream",
          "name": "stdout",
          "text": [
            "Test Loss: 0.0850\n",
            "Test Accuracy: 0.9819\n"
          ]
        }
      ]
    },
    {
      "cell_type": "code",
      "source": [
        "X_sample = X_test[:3]\n",
        "y_proba_sample = model.predict(X_sample)"
      ],
      "metadata": {
        "colab": {
          "base_uri": "https://localhost:8080/"
        },
        "id": "yTdbcohKEhBR",
        "outputId": "ef639ec8-9a5d-496b-a1e6-f4d33d7c90cf"
      },
      "execution_count": 107,
      "outputs": [
        {
          "output_type": "stream",
          "name": "stdout",
          "text": [
            "1/1 [==============================] - 0s 68ms/step\n"
          ]
        }
      ]
    },
    {
      "cell_type": "code",
      "source": [
        "y_proba_sample.round(3)"
      ],
      "metadata": {
        "colab": {
          "base_uri": "https://localhost:8080/"
        },
        "id": "OqK9ZCpZEqiB",
        "outputId": "f58cb948-b091-405d-e9a5-0726360b866f"
      },
      "execution_count": 108,
      "outputs": [
        {
          "output_type": "execute_result",
          "data": {
            "text/plain": [
              "array([[0., 0., 0., 0., 0., 0., 0., 1., 0., 0.],\n",
              "       [0., 0., 1., 0., 0., 0., 0., 0., 0., 0.],\n",
              "       [0., 1., 0., 0., 0., 0., 0., 0., 0., 0.]], dtype=float32)"
            ]
          },
          "metadata": {},
          "execution_count": 108
        }
      ]
    },
    {
      "cell_type": "code",
      "source": [
        "predictions = np.argmax(y_proba_sample, axis=1)"
      ],
      "metadata": {
        "id": "Hd3pZz4pFKMy"
      },
      "execution_count": 109,
      "outputs": []
    },
    {
      "cell_type": "code",
      "source": [
        "[class_names[pred] for pred in predictions]"
      ],
      "metadata": {
        "colab": {
          "base_uri": "https://localhost:8080/"
        },
        "id": "LjpTvco9FRJ-",
        "outputId": "48a350bb-904f-4e5f-c36a-cd0aaf276e72"
      },
      "execution_count": 110,
      "outputs": [
        {
          "output_type": "execute_result",
          "data": {
            "text/plain": [
              "['Number 7', 'Number 2', 'Number 1']"
            ]
          },
          "metadata": {},
          "execution_count": 110
        }
      ]
    },
    {
      "cell_type": "code",
      "source": [
        "y_proba = model.predict(X_test)"
      ],
      "metadata": {
        "colab": {
          "base_uri": "https://localhost:8080/"
        },
        "id": "pt-7ESMJFTr0",
        "outputId": "8c817789-9565-4262-9acf-8b11769b827a"
      },
      "execution_count": 111,
      "outputs": [
        {
          "output_type": "stream",
          "name": "stdout",
          "text": [
            "313/313 [==============================] - 1s 3ms/step\n"
          ]
        }
      ]
    },
    {
      "cell_type": "code",
      "source": [
        "plot_data(X_test, y_test, y_proba)"
      ],
      "metadata": {
        "colab": {
          "base_uri": "https://localhost:8080/",
          "height": 409
        },
        "id": "ZFLezcZvL_a8",
        "outputId": "30de28ed-36cd-4fa4-a4d7-53f4a38bd161"
      },
      "execution_count": 114,
      "outputs": [
        {
          "output_type": "display_data",
          "data": {
            "text/plain": [
              "<Figure size 800x400 with 8 Axes>"
            ],
            "image/png": "[encoded data removed]"
          },
          "metadata": {}
        }
      ]
    }
  ]
}