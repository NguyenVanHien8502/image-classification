{
  "nbformat": 4,
  "nbformat_minor": 0,
  "metadata": {
    "colab": {
      "provenance": [],
      "gpuType": "T4",
      "authorship_tag": "ABX9TyPERyn8bYidhGzVqrRiCJNc",
      "include_colab_link": true
    },
    "kernelspec": {
      "name": "python3",
      "display_name": "Python 3"
    },
    "language_info": {
      "name": "python"
    },
    "accelerator": "GPU"
  },
  "cells": [
    {
      "cell_type": "markdown",
      "metadata": {
        "id": "view-in-github",
        "colab_type": "text"
      },
      "source": [
        "<a href=\"https://colab.research.google.com/github/NguyenVanHien8502/image-classification/blob/main/test_pj3.ipynb\" target=\"_parent\"><img src=\"https://colab.research.google.com/assets/colab-badge.svg\" alt=\"Open In Colab\"/></a>"
      ]
    },
    {
      "cell_type": "markdown",
      "source": [
        "#1. Mount google drive"
      ],
      "metadata": {
        "id": "lfY1jFQ-vqTC"
      }
    },
    {
      "cell_type": "code",
      "source": [
        "from google.colab import drive\n",
        "drive.mount(\"/content/drive/\")"
      ],
      "metadata": {
        "id": "f8kyOVe4vwl1",
        "colab": {
          "base_uri": "https://localhost:8080/"
        },
        "outputId": "04d5b252-68d7-495a-8888-0809c3bfa0e3"
      },
      "execution_count": 1,
      "outputs": [
        {
          "output_type": "stream",
          "name": "stdout",
          "text": [
            "Mounted at /content/drive/\n"
          ]
        }
      ]
    },
    {
      "cell_type": "markdown",
      "source": [
        "#2. Import library"
      ],
      "metadata": {
        "id": "VFIHKbmawbLC"
      }
    },
    {
      "cell_type": "code",
      "source": [
        "import tensorflow as tf\n",
        "from tensorflow import keras\n",
        "from keras.api._v2.keras import layers\n",
        "\n",
        "import matplotlib.pyplot as plt\n",
        "import numpy as np\n",
        "import random\n",
        "import struct\n",
        "import gzip"
      ],
      "metadata": {
        "id": "goubmXGJwekn"
      },
      "execution_count": 2,
      "outputs": []
    },
    {
      "cell_type": "markdown",
      "source": [
        "#3. Load data from file .gz"
      ],
      "metadata": {
        "id": "HEogZPYDwBQE"
      }
    },
    {
      "cell_type": "code",
      "source": [
        "#Load image train\n",
        "filename = '/content/drive/MyDrive/Colab_Notebooks/train-images-idx3-ubyte.gz'\n",
        "\n",
        "with gzip.open(filename, 'rb') as f:\n",
        "    magic, size = struct.unpack(\">II\", f.read(8))\n",
        "    nrows, ncols = struct.unpack(\">II\", f.read(8))\n",
        "    X_train = np.frombuffer(f.read(), dtype=np.uint8)\n",
        "    X_train = X_train.reshape(size, nrows, ncols)"
      ],
      "metadata": {
        "id": "A91097ZKv_oR"
      },
      "execution_count": 65,
      "outputs": []
    },
    {
      "cell_type": "code",
      "source": [
        "#Load label train\n",
        "filename = '/content/drive/MyDrive/Colab_Notebooks/train-labels-idx1-ubyte.gz'\n",
        "\n",
        "with gzip.open(filename, 'rb') as f:\n",
        "    magic, size = struct.unpack(\">II\", f.read(8))\n",
        "    y_train = np.frombuffer(f.read(), dtype=np.uint8)\n",
        "    y_train = y_train.reshape((size,))"
      ],
      "metadata": {
        "id": "yhO83E91wwfF"
      },
      "execution_count": 74,
      "outputs": []
    },
    {
      "cell_type": "code",
      "source": [
        "#Load image test\n",
        "filename = '/content/drive/MyDrive/Colab_Notebooks/t10k-images-idx3-ubyte.gz'\n",
        "\n",
        "with gzip.open(filename, 'rb') as f:\n",
        "    magic, size = struct.unpack(\">II\", f.read(8))\n",
        "    nrows, ncols = struct.unpack(\">II\", f.read(8))\n",
        "    X_test = np.frombuffer(f.read(), dtype=np.uint8)\n",
        "    X_test = X_test.reshape(size, nrows, ncols)"
      ],
      "metadata": {
        "id": "3nIBZtVuwx2X"
      },
      "execution_count": 66,
      "outputs": []
    },
    {
      "cell_type": "code",
      "source": [
        "#Load label test\n",
        "filename = '/content/drive/MyDrive/Colab_Notebooks/t10k-labels-idx1-ubyte.gz'\n",
        "\n",
        "with gzip.open(filename, 'rb') as f:\n",
        "    magic, size = struct.unpack(\">II\", f.read(8))\n",
        "    y_test = np.frombuffer(f.read(), dtype=np.uint8)\n",
        "    y_test = y_test.reshape((size,))"
      ],
      "metadata": {
        "id": "3UrpGsGkwzUu"
      },
      "execution_count": 75,
      "outputs": []
    },
    {
      "cell_type": "markdown",
      "source": [
        "# 4. Check data"
      ],
      "metadata": {
        "id": "m19tyjTCw3rH"
      }
    },
    {
      "cell_type": "code",
      "source": [
        "X_train.shape, X_train.dtype, type(X_train)"
      ],
      "metadata": {
        "colab": {
          "base_uri": "https://localhost:8080/"
        },
        "id": "lu78IXC5MSSk",
        "outputId": "f1b129af-d2e8-4b04-b21d-8b6655af8070"
      },
      "execution_count": 31,
      "outputs": [
        {
          "output_type": "execute_result",
          "data": {
            "text/plain": [
              "((60000, 28, 28, 1), dtype('float32'), numpy.ndarray)"
            ]
          },
          "metadata": {},
          "execution_count": 31
        }
      ]
    },
    {
      "cell_type": "code",
      "source": [
        "y_train.shape, y_train.dtype, type(y_train)"
      ],
      "metadata": {
        "colab": {
          "base_uri": "https://localhost:8080/"
        },
        "id": "jdmKkV5HMhdd",
        "outputId": "f16dace2-6565-4db3-c148-7b4b28eadbf4"
      },
      "execution_count": 32,
      "outputs": [
        {
          "output_type": "execute_result",
          "data": {
            "text/plain": [
              "((60000,), dtype('uint8'), numpy.ndarray)"
            ]
          },
          "metadata": {},
          "execution_count": 32
        }
      ]
    },
    {
      "cell_type": "code",
      "source": [
        "class_names = [\"number 0\", \"number 1\", \"number 2\", \"number 3\", \"number 4\", \"number 5\", \"number 6\", \"number 7\", \"number 8\", \"number 9\"]\n",
        "class_nums = len(class_names)"
      ],
      "metadata": {
        "id": "_tbxE77GNMHu"
      },
      "execution_count": 36,
      "outputs": []
    },
    {
      "cell_type": "code",
      "source": [
        "from typing import Optional\n",
        "def plot_data(X_data: np.ndarray, y_data: np.ndarray, y_proba: Optional[np.ndarray] = None) -> None:\n",
        "  nrows, ncols = 2, 4\n",
        "  fig, axes = plt.subplots(nrows, ncols, figsize = (10, 6))\n",
        "\n",
        "  len_x = X_data.shape[0]\n",
        "  for idx in range(nrows*ncols):\n",
        "    ax = axes[idx // ncols, idx % ncols]\n",
        "    img_idx = random.randint(0, len_x)\n",
        "    ax.imshow(X_data[img_idx], cmap='gray')\n",
        "    ax.set(xticks=[], yticks=[])\n",
        "    color = \"green\"\n",
        "\n",
        "    true_label_str = f\"True: {class_names[y_data[img_idx]]}\"\n",
        "\n",
        "    if y_proba is not None:\n",
        "      predicted_idx = np.argmax(y_proba[img_idx])\n",
        "      predicted_label_str = f\"\\nPredict: {class_names[predicted_idx]}\"\n",
        "      color='red' if predicted_idx != y_data[img_idx] else color\n",
        "\n",
        "    img_title = true_label_str if y_proba is None else true_label_str + predicted_label_str\n",
        "    ax.set_xlabel(img_title, color=color, fontsize = 12)\n",
        "\n",
        "  plt.tight_layout()\n",
        "  plt.show()"
      ],
      "metadata": {
        "id": "Rh4aSv_uMn2V"
      },
      "execution_count": 127,
      "outputs": []
    },
    {
      "cell_type": "code",
      "source": [
        "plot_data(X_train, y_train)"
      ],
      "metadata": {
        "colab": {
          "base_uri": "https://localhost:8080/",
          "height": 573
        },
        "id": "pdIjt51OS-3-",
        "outputId": "42b4fb4c-f0e2-4fa1-fe90-ec61ff7eebcf"
      },
      "execution_count": 48,
      "outputs": [
        {
          "output_type": "display_data",
          "data": {
            "text/plain": [
              "<Figure size 1000x600 with 8 Axes>"
            ],
            "image/png": "[encoded data removed]"
          },
          "metadata": {}
        }
      ]
    },
    {
      "cell_type": "code",
      "source": [
        "plot_data(X_test, y_test)"
      ],
      "metadata": {
        "colab": {
          "base_uri": "https://localhost:8080/",
          "height": 573
        },
        "id": "G7NLOgRiVqiM",
        "outputId": "67a6798b-9caa-4633-ee56-9f7c16b607f7"
      },
      "execution_count": 49,
      "outputs": [
        {
          "output_type": "display_data",
          "data": {
            "text/plain": [
              "<Figure size 1000x600 with 8 Axes>"
            ],
            "image/png": "[encoded data removed]"
          },
          "metadata": {}
        }
      ]
    },
    {
      "cell_type": "markdown",
      "source": [
        "#3. Pre-processing"
      ],
      "metadata": {
        "id": "B5JYYfkUV4H2"
      }
    },
    {
      "cell_type": "code",
      "source": [
        "X_train = X_train.astype(np.float32) / 255\n",
        "X_test = X_test.astype(np.float32) / 255"
      ],
      "metadata": {
        "id": "hmjIUkEdVuof"
      },
      "execution_count": 67,
      "outputs": []
    },
    {
      "cell_type": "code",
      "source": [
        "X_train = np.expand_dims(X_train, axis = -1)\n",
        "X_test = np.expand_dims(X_test, axis = -1)"
      ],
      "metadata": {
        "id": "eFazPsyrW7vp"
      },
      "execution_count": 70,
      "outputs": []
    },
    {
      "cell_type": "code",
      "source": [
        "X_train.shape, X_test.shape"
      ],
      "metadata": {
        "colab": {
          "base_uri": "https://localhost:8080/"
        },
        "id": "sZJkbgHTX4yt",
        "outputId": "f1b2ff85-b232-4cbe-c37e-04233e6a38ea"
      },
      "execution_count": 71,
      "outputs": [
        {
          "output_type": "execute_result",
          "data": {
            "text/plain": [
              "((60000, 28, 28, 1), (10000, 28, 28, 1))"
            ]
          },
          "metadata": {},
          "execution_count": 71
        }
      ]
    },
    {
      "cell_type": "code",
      "source": [
        "y_train_label = keras.utils.to_categorical(y_train, class_nums)\n",
        "y_test_label = keras.utils.to_categorical(y_test, class_nums)"
      ],
      "metadata": {
        "id": "mHDNF76DYAlA"
      },
      "execution_count": 78,
      "outputs": []
    },
    {
      "cell_type": "code",
      "source": [
        "y_train[0], y_train_label[0]"
      ],
      "metadata": {
        "colab": {
          "base_uri": "https://localhost:8080/"
        },
        "id": "p8xS0CnCYz5K",
        "outputId": "60bc9951-0838-4e8c-dc58-c4f168c0c812"
      },
      "execution_count": 79,
      "outputs": [
        {
          "output_type": "execute_result",
          "data": {
            "text/plain": [
              "(5, array([0., 0., 0., 0., 0., 1., 0., 0., 0., 0.], dtype=float32))"
            ]
          },
          "metadata": {},
          "execution_count": 79
        }
      ]
    },
    {
      "cell_type": "markdown",
      "source": [
        "#4. Convolution neuron network"
      ],
      "metadata": {
        "id": "k4lLpxszY4uE"
      }
    },
    {
      "cell_type": "code",
      "source": [
        "input_shape = (28, 28, 1)"
      ],
      "metadata": {
        "id": "b5v1XFrVY7ni"
      },
      "execution_count": 80,
      "outputs": []
    },
    {
      "cell_type": "code",
      "source": [
        "def create_model_CNN():\n",
        "  model = keras.models.Sequential([\n",
        "      layers.Conv2D(filters=32, kernel_size=(3,3), activation = 'relu', input_shape=input_shape),\n",
        "      layers.MaxPool2D(pool_size=(2,2)),\n",
        "      layers.Conv2D(filters=64, kernel_size=(3,3), activation = 'relu'),\n",
        "      layers.MaxPool2D(pool_size=(2,2)),\n",
        "      layers.Conv2D(filters=128, kernel_size=(3,3), activation = 'relu'),\n",
        "      layers.Flatten(),\n",
        "      layers.Dense(128, activation='relu'),\n",
        "      layers.Dense(class_nums, activation='softmax'),\n",
        "  ])\n",
        "\n",
        "  model.compile(optimizer='adam',\n",
        "                loss='categorical_crossentropy',\n",
        "                metrics=['accuracy'])\n",
        "\n",
        "  return model"
      ],
      "metadata": {
        "id": "poSC7-S7Zj8t"
      },
      "execution_count": 81,
      "outputs": []
    },
    {
      "cell_type": "code",
      "source": [
        "basic_model_CNN = create_model_CNN()"
      ],
      "metadata": {
        "id": "qOHAJBiSayjt"
      },
      "execution_count": 82,
      "outputs": []
    },
    {
      "cell_type": "code",
      "source": [
        "basic_model_CNN.summary()"
      ],
      "metadata": {
        "colab": {
          "base_uri": "https://localhost:8080/"
        },
        "id": "bgSwg5Bca3V-",
        "outputId": "c95af102-ab5d-41fc-b9d3-52b1c259a5d2"
      },
      "execution_count": 83,
      "outputs": [
        {
          "output_type": "stream",
          "name": "stdout",
          "text": [
            "Model: \"sequential_1\"\n",
            "_________________________________________________________________\n",
            " Layer (type)                Output Shape              Param #   \n",
            "=================================================================\n",
            " conv2d_3 (Conv2D)           (None, 26, 26, 32)        320       \n",
            "                                                                 \n",
            " max_pooling2d_2 (MaxPoolin  (None, 13, 13, 32)        0         \n",
            " g2D)                                                            \n",
            "                                                                 \n",
            " conv2d_4 (Conv2D)           (None, 11, 11, 64)        18496     \n",
            "                                                                 \n",
            " max_pooling2d_3 (MaxPoolin  (None, 5, 5, 64)          0         \n",
            " g2D)                                                            \n",
            "                                                                 \n",
            " conv2d_5 (Conv2D)           (None, 3, 3, 128)         73856     \n",
            "                                                                 \n",
            " flatten_1 (Flatten)         (None, 1152)              0         \n",
            "                                                                 \n",
            " dense_2 (Dense)             (None, 128)               147584    \n",
            "                                                                 \n",
            " dense_3 (Dense)             (None, 10)                1290      \n",
            "                                                                 \n",
            "=================================================================\n",
            "Total params: 241546 (943.54 KB)\n",
            "Trainable params: 241546 (943.54 KB)\n",
            "Non-trainable params: 0 (0.00 Byte)\n",
            "_________________________________________________________________\n"
          ]
        }
      ]
    },
    {
      "cell_type": "code",
      "source": [
        "import os\n",
        "from keras.callbacks import EarlyStopping\n",
        "from keras.callbacks import ModelCheckpoint\n",
        "\n",
        "def call_back(checkpoint_path):\n",
        "  early_stopping_callback = EarlyStopping(\n",
        "      patience=10,  # Số epochs không có cải thiện trước khi dừng huấn luyện\n",
        "      monitor='val_loss',  # Theo dõi giá trị validation loss để quyết định có cải thiện hay không\n",
        "      restore_best_weights=True,  # Sau khi dừng, khôi phục trọng số của model tại epoch có validation loss tốt nhất\n",
        "      verbose=1\n",
        "  )\n",
        "  checkpoint_callback = ModelCheckpoint(\n",
        "      filepath=checkpoint_path,\n",
        "      save_weights_only=True,  # Chỉ lưu trọng số, không lưu toàn bộ mô hình.\n",
        "      monitor='val_loss',  # Theo dõi giá trị validation loss để quyết định khi nào lưu trọng số\n",
        "      save_best_only=True,  # Chỉ lưu trọng số của mô hình có giá trị validation loss tốt nhất trên 'monitor'\n",
        "      mode='min',  # Theo dõi theo chiều giảm của 'monitor'\n",
        "      verbose=1  # Hiển thị thông báo khi lưu model\n",
        "  )\n",
        "\n",
        "  return early_stopping_callback, checkpoint_callback"
      ],
      "metadata": {
        "id": "d4AitqhLa8wq"
      },
      "execution_count": 84,
      "outputs": []
    },
    {
      "cell_type": "code",
      "source": [
        "checkpoint_path = \"/content/drive/MyDrive/Colab_Notebooks/model_saver/basic_CNN_weight.cp\"\n",
        "early_stopping_callback, checkpoint_callback = call_back(checkpoint_path=checkpoint_path)"
      ],
      "metadata": {
        "id": "Y9jeg4GebAfc"
      },
      "execution_count": 85,
      "outputs": []
    },
    {
      "cell_type": "code",
      "source": [
        "epochs = 100\n",
        "batch_size = 128"
      ],
      "metadata": {
        "id": "xt-ZVBgsbC4A"
      },
      "execution_count": 86,
      "outputs": []
    },
    {
      "cell_type": "code",
      "source": [
        "history = basic_model_CNN.fit(X_train, y_train_label,\n",
        "                              epochs=epochs,\n",
        "                              batch_size=batch_size,\n",
        "                              validation_split=0.2,\n",
        "                              callbacks=[early_stopping_callback, checkpoint_callback])"
      ],
      "metadata": {
        "colab": {
          "base_uri": "https://localhost:8080/"
        },
        "id": "k-rgvhudbEmx",
        "outputId": "4b503f30-abf3-47d9-d6fa-30703f67bfce"
      },
      "execution_count": 87,
      "outputs": [
        {
          "output_type": "stream",
          "name": "stdout",
          "text": [
            "Epoch 1/100\n",
            "373/375 [============================>.] - ETA: 0s - loss: 0.2295 - accuracy: 0.9314\n",
            "Epoch 1: val_loss improved from inf to 0.06505, saving model to /content/drive/MyDrive/Colab_Notebooks/model_saver/basic_CNN_weight.cp\n",
            "375/375 [==============================] - 5s 9ms/step - loss: 0.2287 - accuracy: 0.9316 - val_loss: 0.0651 - val_accuracy: 0.9798\n",
            "Epoch 2/100\n",
            "372/375 [============================>.] - ETA: 0s - loss: 0.0555 - accuracy: 0.9833\n",
            "Epoch 2: val_loss improved from 0.06505 to 0.04760, saving model to /content/drive/MyDrive/Colab_Notebooks/model_saver/basic_CNN_weight.cp\n",
            "375/375 [==============================] - 2s 6ms/step - loss: 0.0554 - accuracy: 0.9833 - val_loss: 0.0476 - val_accuracy: 0.9867\n",
            "Epoch 3/100\n",
            "373/375 [============================>.] - ETA: 0s - loss: 0.0380 - accuracy: 0.9881\n",
            "Epoch 3: val_loss improved from 0.04760 to 0.04285, saving model to /content/drive/MyDrive/Colab_Notebooks/model_saver/basic_CNN_weight.cp\n",
            "375/375 [==============================] - 2s 6ms/step - loss: 0.0379 - accuracy: 0.9882 - val_loss: 0.0429 - val_accuracy: 0.9874\n",
            "Epoch 4/100\n",
            "369/375 [============================>.] - ETA: 0s - loss: 0.0281 - accuracy: 0.9910\n",
            "Epoch 4: val_loss improved from 0.04285 to 0.03667, saving model to /content/drive/MyDrive/Colab_Notebooks/model_saver/basic_CNN_weight.cp\n",
            "375/375 [==============================] - 2s 5ms/step - loss: 0.0282 - accuracy: 0.9910 - val_loss: 0.0367 - val_accuracy: 0.9896\n",
            "Epoch 5/100\n",
            "374/375 [============================>.] - ETA: 0s - loss: 0.0224 - accuracy: 0.9930\n",
            "Epoch 5: val_loss did not improve from 0.03667\n",
            "375/375 [==============================] - 2s 5ms/step - loss: 0.0223 - accuracy: 0.9931 - val_loss: 0.0381 - val_accuracy: 0.9890\n",
            "Epoch 6/100\n",
            "370/375 [============================>.] - ETA: 0s - loss: 0.0171 - accuracy: 0.9946\n",
            "Epoch 6: val_loss did not improve from 0.03667\n",
            "375/375 [==============================] - 3s 7ms/step - loss: 0.0173 - accuracy: 0.9946 - val_loss: 0.0380 - val_accuracy: 0.9887\n",
            "Epoch 7/100\n",
            "368/375 [============================>.] - ETA: 0s - loss: 0.0159 - accuracy: 0.9949\n",
            "Epoch 7: val_loss did not improve from 0.03667\n",
            "375/375 [==============================] - 3s 7ms/step - loss: 0.0161 - accuracy: 0.9949 - val_loss: 0.0370 - val_accuracy: 0.9900\n",
            "Epoch 8/100\n",
            "374/375 [============================>.] - ETA: 0s - loss: 0.0110 - accuracy: 0.9964\n",
            "Epoch 8: val_loss improved from 0.03667 to 0.03130, saving model to /content/drive/MyDrive/Colab_Notebooks/model_saver/basic_CNN_weight.cp\n",
            "375/375 [==============================] - 3s 8ms/step - loss: 0.0110 - accuracy: 0.9965 - val_loss: 0.0313 - val_accuracy: 0.9911\n",
            "Epoch 9/100\n",
            "369/375 [============================>.] - ETA: 0s - loss: 0.0095 - accuracy: 0.9968\n",
            "Epoch 9: val_loss did not improve from 0.03130\n",
            "375/375 [==============================] - 3s 7ms/step - loss: 0.0095 - accuracy: 0.9968 - val_loss: 0.0384 - val_accuracy: 0.9905\n",
            "Epoch 10/100\n",
            "371/375 [============================>.] - ETA: 0s - loss: 0.0077 - accuracy: 0.9974\n",
            "Epoch 10: val_loss did not improve from 0.03130\n",
            "375/375 [==============================] - 2s 7ms/step - loss: 0.0077 - accuracy: 0.9974 - val_loss: 0.0446 - val_accuracy: 0.9893\n",
            "Epoch 11/100\n",
            "374/375 [============================>.] - ETA: 0s - loss: 0.0100 - accuracy: 0.9965\n",
            "Epoch 11: val_loss did not improve from 0.03130\n",
            "375/375 [==============================] - 4s 11ms/step - loss: 0.0100 - accuracy: 0.9965 - val_loss: 0.0411 - val_accuracy: 0.9898\n",
            "Epoch 12/100\n",
            "372/375 [============================>.] - ETA: 0s - loss: 0.0085 - accuracy: 0.9973\n",
            "Epoch 12: val_loss did not improve from 0.03130\n",
            "375/375 [==============================] - 6s 15ms/step - loss: 0.0087 - accuracy: 0.9972 - val_loss: 0.0395 - val_accuracy: 0.9898\n",
            "Epoch 13/100\n",
            "364/375 [============================>.] - ETA: 0s - loss: 0.0067 - accuracy: 0.9976\n",
            "Epoch 13: val_loss did not improve from 0.03130\n",
            "375/375 [==============================] - 2s 7ms/step - loss: 0.0071 - accuracy: 0.9974 - val_loss: 0.0457 - val_accuracy: 0.9903\n",
            "Epoch 14/100\n",
            "375/375 [==============================] - ETA: 0s - loss: 0.0049 - accuracy: 0.9985\n",
            "Epoch 14: val_loss did not improve from 0.03130\n",
            "375/375 [==============================] - 2s 5ms/step - loss: 0.0049 - accuracy: 0.9985 - val_loss: 0.0427 - val_accuracy: 0.9911\n",
            "Epoch 15/100\n",
            "374/375 [============================>.] - ETA: 0s - loss: 0.0061 - accuracy: 0.9979\n",
            "Epoch 15: val_loss did not improve from 0.03130\n",
            "375/375 [==============================] - 2s 5ms/step - loss: 0.0061 - accuracy: 0.9979 - val_loss: 0.0380 - val_accuracy: 0.9921\n",
            "Epoch 16/100\n",
            "375/375 [==============================] - ETA: 0s - loss: 0.0056 - accuracy: 0.9981\n",
            "Epoch 16: val_loss did not improve from 0.03130\n",
            "375/375 [==============================] - 2s 5ms/step - loss: 0.0056 - accuracy: 0.9981 - val_loss: 0.0397 - val_accuracy: 0.9915\n",
            "Epoch 17/100\n",
            "371/375 [============================>.] - ETA: 0s - loss: 0.0058 - accuracy: 0.9981\n",
            "Epoch 17: val_loss did not improve from 0.03130\n",
            "375/375 [==============================] - 2s 6ms/step - loss: 0.0058 - accuracy: 0.9981 - val_loss: 0.0389 - val_accuracy: 0.9920\n",
            "Epoch 18/100\n",
            "373/375 [============================>.] - ETA: 0s - loss: 0.0044 - accuracy: 0.9986Restoring model weights from the end of the best epoch: 8.\n",
            "\n",
            "Epoch 18: val_loss did not improve from 0.03130\n",
            "375/375 [==============================] - 3s 8ms/step - loss: 0.0044 - accuracy: 0.9986 - val_loss: 0.0447 - val_accuracy: 0.9917\n",
            "Epoch 18: early stopping\n"
          ]
        }
      ]
    },
    {
      "cell_type": "code",
      "source": [
        "history_dict=history.history"
      ],
      "metadata": {
        "id": "3IXteWIfbqEF"
      },
      "execution_count": 88,
      "outputs": []
    },
    {
      "cell_type": "code",
      "source": [
        "history_dict.keys()"
      ],
      "metadata": {
        "colab": {
          "base_uri": "https://localhost:8080/"
        },
        "id": "2xlL8uklb3gy",
        "outputId": "705b5298-0feb-49cf-b9e4-315645cbdf54"
      },
      "execution_count": 91,
      "outputs": [
        {
          "output_type": "execute_result",
          "data": {
            "text/plain": [
              "dict_keys(['loss', 'accuracy', 'val_loss', 'val_accuracy'])"
            ]
          },
          "metadata": {},
          "execution_count": 91
        }
      ]
    },
    {
      "cell_type": "code",
      "source": [
        "train_loss, val_loss = history_dict['loss'], history_dict['val_loss']\n",
        "train_acc, val_accuracy = history_dict['accuracy'], history_dict['val_accuracy']"
      ],
      "metadata": {
        "id": "HAXQ13WGb8mK"
      },
      "execution_count": 94,
      "outputs": []
    },
    {
      "cell_type": "code",
      "source": [
        "plt.figure(figsize=(12,6))\n",
        "plt.plot(history_dict['loss'], label='Train_loss')\n",
        "plt.plot(history_dict['val_loss'], label='Val_loss')\n",
        "plt.legend()\n",
        "plt.show()"
      ],
      "metadata": {
        "colab": {
          "base_uri": "https://localhost:8080/",
          "height": 522
        },
        "id": "sZOM0wkCcUxX",
        "outputId": "c2e53ef1-81e1-42bc-bc35-af059e2490f7"
      },
      "execution_count": 96,
      "outputs": [
        {
          "output_type": "display_data",
          "data": {
            "text/plain": [
              "<Figure size 1200x600 with 1 Axes>"
            ],
            "image/png": "[encoded data removed]"
          },
          "metadata": {}
        }
      ]
    },
    {
      "cell_type": "code",
      "source": [
        "plt.figure(figsize=(12,6))\n",
        "plt.plot(history_dict['accuracy'], label='Train_Acc')\n",
        "plt.plot(history_dict['val_accuracy'], label='Val_Accuracy')\n",
        "plt.legend()\n",
        "plt.show()"
      ],
      "metadata": {
        "colab": {
          "base_uri": "https://localhost:8080/",
          "height": 522
        },
        "id": "QPp6lCA7c89g",
        "outputId": "82ffc00a-7058-405b-fc03-8df582233fbf"
      },
      "execution_count": 97,
      "outputs": [
        {
          "output_type": "display_data",
          "data": {
            "text/plain": [
              "<Figure size 1200x600 with 1 Axes>"
            ],
            "image/png": "[encoded data removed]"
          },
          "metadata": {}
        }
      ]
    },
    {
      "cell_type": "markdown",
      "source": [
        "#6. Model Evaluation"
      ],
      "metadata": {
        "id": "2L_8kEhOdZqY"
      }
    },
    {
      "cell_type": "code",
      "source": [
        "best_model = create_model_CNN()\n",
        "best_model.load_weights(checkpoint_path)\n",
        "loss, acc = best_model.evaluate(X_test, y_test_label, verbose=1)\n",
        "print(f\"Loss: {round(loss, 4)}\\nAccuracy: {round(acc, 4)}\")"
      ],
      "metadata": {
        "colab": {
          "base_uri": "https://localhost:8080/"
        },
        "id": "Si31g7GCdYh8",
        "outputId": "58a1f043-73fe-48ae-9421-13fd87bb5069"
      },
      "execution_count": 100,
      "outputs": [
        {
          "output_type": "stream",
          "name": "stdout",
          "text": [
            "313/313 [==============================] - 1s 3ms/step - loss: 0.0260 - accuracy: 0.9921\n",
            "Loss: 0.026\n",
            "Accuracy: 0.9921\n"
          ]
        }
      ]
    },
    {
      "cell_type": "code",
      "source": [
        "X_samples = X_test[:10]\n",
        "print(X_samples.shape)\n",
        "y_preds = best_model.predict(X_samples)"
      ],
      "metadata": {
        "colab": {
          "base_uri": "https://localhost:8080/"
        },
        "id": "R1CD1roHeKH3",
        "outputId": "97d3ad4c-6d72-46ba-ed19-0b934fbe65a3"
      },
      "execution_count": 108,
      "outputs": [
        {
          "output_type": "stream",
          "name": "stdout",
          "text": [
            "(10, 28, 28, 1)\n",
            "1/1 [==============================] - 0s 26ms/step\n"
          ]
        }
      ]
    },
    {
      "cell_type": "code",
      "source": [
        "predictions = np.argmax(y_preds, axis=1)\n",
        "print(predictions)"
      ],
      "metadata": {
        "colab": {
          "base_uri": "https://localhost:8080/"
        },
        "id": "a-o3VRlAek4m",
        "outputId": "96632a93-1ea5-4b54-f3db-775380e36b86"
      },
      "execution_count": 109,
      "outputs": [
        {
          "output_type": "stream",
          "name": "stdout",
          "text": [
            "[7 2 1 0 4 1 4 9 5 9]\n"
          ]
        }
      ]
    },
    {
      "cell_type": "code",
      "source": [
        "[class_names[pred] for pred in predictions]"
      ],
      "metadata": {
        "colab": {
          "base_uri": "https://localhost:8080/"
        },
        "id": "_aWhdV07e9v_",
        "outputId": "8db144c7-3b80-46a0-c56f-5df016c02bbc"
      },
      "execution_count": 110,
      "outputs": [
        {
          "output_type": "execute_result",
          "data": {
            "text/plain": [
              "['number 7',\n",
              " 'number 2',\n",
              " 'number 1',\n",
              " 'number 0',\n",
              " 'number 4',\n",
              " 'number 1',\n",
              " 'number 4',\n",
              " 'number 9',\n",
              " 'number 5',\n",
              " 'number 9']"
            ]
          },
          "metadata": {},
          "execution_count": 110
        }
      ]
    },
    {
      "cell_type": "code",
      "source": [
        "X_test_simple = X_test[20]\n",
        "print(X_test_simple.shape)\n",
        "\n",
        "X_test_simple = X_test_simple.reshape(1, X_test_simple.shape[0], X_test_simple.shape[1], X_test_simple.shape[2])\n",
        "print(X_test_simple.shape)\n",
        "\n",
        "y_pred_simple = best_model.predict(X_test_simple)\n",
        "print(y_pred_simple)\n",
        "\n",
        "y_pred_simple_idx = np.argmax(y_pred_simple)\n",
        "y_pred_simple_label = keras.utils.to_categorical(y_pred_simple_idx, class_nums)\n",
        "print(y_pred_simple_label)\n",
        "print(f\"Label: {class_names[y_pred_simple_idx]}\")"
      ],
      "metadata": {
        "colab": {
          "base_uri": "https://localhost:8080/"
        },
        "id": "h8pKfKbzfFTc",
        "outputId": "a0031f34-1890-4f9f-dac0-bdf21021fb7e"
      },
      "execution_count": 122,
      "outputs": [
        {
          "output_type": "stream",
          "name": "stdout",
          "text": [
            "(28, 28, 1)\n",
            "(1, 28, 28, 1)\n",
            "1/1 [==============================] - 0s 21ms/step\n",
            "[[1.2980521e-09 3.3095942e-09 3.8409325e-09 1.9541969e-06 9.6564356e-05\n",
            "  4.8729748e-07 6.1303122e-14 1.5839726e-03 3.0461800e-07 9.9831665e-01]]\n",
            "[0. 0. 0. 0. 0. 0. 0. 0. 0. 1.]\n",
            "Label: number 9\n"
          ]
        }
      ]
    },
    {
      "cell_type": "code",
      "source": [
        "y_proba = best_model.predict(X_test)\n",
        "y_proba20_idx = np.argmax(y_proba[20])\n",
        "print(class_names[y_proba20_idx])"
      ],
      "metadata": {
        "colab": {
          "base_uri": "https://localhost:8080/"
        },
        "id": "khCA44pQg8X9",
        "outputId": "4288408f-000b-4dbd-90d0-6471ce7a1878"
      },
      "execution_count": 123,
      "outputs": [
        {
          "output_type": "stream",
          "name": "stdout",
          "text": [
            "313/313 [==============================] - 3s 9ms/step\n",
            "number 9\n"
          ]
        }
      ]
    },
    {
      "cell_type": "code",
      "source": [
        "plot_data(X_test, y_test, y_proba)"
      ],
      "metadata": {
        "colab": {
          "base_uri": "https://localhost:8080/",
          "height": 594
        },
        "id": "Whazu3V3iARl",
        "outputId": "6dc4711d-50b3-49bb-da10-00111e68d757"
      },
      "execution_count": 128,
      "outputs": [
        {
          "output_type": "display_data",
          "data": {
            "text/plain": [
              "<Figure size 1000x600 with 8 Axes>"
            ],
            "image/png": "[encoded data removed]"
          },
          "metadata": {}
        }
      ]
    },
    {
      "cell_type": "code",
      "source": [
        "from sklearn.metrics import precision_score, recall_score, f1_score, confusion_matrix\n",
        "\n",
        "def calculate_metrics(y_true, y_pred):\n",
        "  precision = precision_score(y_true, y_pred, average=None)\n",
        "  recall = recall_score(y_true, y_pred, average=None)\n",
        "  f1 = f1_score(y_true, y_pred, average=None)\n",
        "  return precision, recall, f1\n",
        "\n",
        "y_true_label = np.argmax(y_test_label, axis=1)\n",
        "y_proba_label = np.argmax(y_proba, axis=1)\n",
        "\n",
        "precision, recall, f1 = calculate_metrics(y_true_label, y_proba_label)\n",
        "\n",
        "for i in range(len(precision)):\n",
        "  print(f\"Label {i}: Precision: {precision[i]}, Recall: {recall[i]}, f1: {f1[i]}\")"
      ],
      "metadata": {
        "colab": {
          "base_uri": "https://localhost:8080/"
        },
        "id": "xIG-9AmijiMV",
        "outputId": "ee14d106-9e25-452a-af06-2d214281f96c"
      },
      "execution_count": 134,
      "outputs": [
        {
          "output_type": "stream",
          "name": "stdout",
          "text": [
            "Label 0: Precision: 0.9918864097363083, Recall: 0.9979591836734694, f1: 0.9949135300101729\n",
            "Label 1: Precision: 0.9973498233215548, Recall: 0.9947136563876652, f1: 0.996029995588884\n",
            "Label 2: Precision: 0.9922705314009662, Recall: 0.9951550387596899, f1: 0.9937106918238995\n",
            "Label 3: Precision: 0.9891944990176817, Recall: 0.997029702970297, f1: 0.9930966469428008\n",
            "Label 4: Precision: 0.9969262295081968, Recall: 0.9908350305498982, f1: 0.9938712972420838\n",
            "Label 5: Precision: 0.9877094972067039, Recall: 0.9910313901345291, f1: 0.9893676552881924\n",
            "Label 6: Precision: 0.9926854754440961, Recall: 0.9916492693110647, f1: 0.9921671018276763\n",
            "Label 7: Precision: 0.9855212355212355, Recall: 0.9931906614785992, f1: 0.9893410852713178\n",
            "Label 8: Precision: 0.9948078920041536, Recall: 0.9835728952772074, f1: 0.9891584925141972\n",
            "Label 9: Precision: 0.9920159680638723, Recall: 0.9851337958374629, f1: 0.9885629040278469\n"
          ]
        }
      ]
    }
  ]
}